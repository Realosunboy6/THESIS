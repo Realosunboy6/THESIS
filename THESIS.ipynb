{
 "cells": [
  {
   "cell_type": "markdown",
   "id": "0b79698f",
   "metadata": {},
   "source": [
    "# Packages"
   ]
  },
  {
   "cell_type": "code",
   "execution_count": 1,
   "id": "9d3ec939-8fca-4e40-ba16-cbaa71ad7d91",
   "metadata": {},
   "outputs": [],
   "source": [
    "using CSV, DataFrames, Dates, TSFrames, Statistics, PortfolioAnalytics, LinearAlgebra, TimerOutputs, NearestCorrelationMatrix, NaNStatistics, LinearAlgebra.LAPACK\n",
    "\n",
    "# Create a TimerOutput, this will store all our timing information\n",
    "const to = TimerOutput();"
   ]
  },
  {
   "cell_type": "markdown",
   "id": "efe54901",
   "metadata": {},
   "source": [
    "Load Data Function"
   ]
  },
  {
   "cell_type": "code",
   "execution_count": 2,
   "id": "11f1433d-c66c-4eb4-81be-60deb9d03d57",
   "metadata": {},
   "outputs": [
    {
     "data": {
      "text/plain": [
       "load_stocks (generic function with 1 method)"
      ]
     },
     "execution_count": 2,
     "metadata": {},
     "output_type": "execute_result"
    }
   ],
   "source": [
    "function load_stocks(data_dir::String, stock_files::Vector{String})\n",
    "    combined_df = DataFrame()  # Create an empty DataFrame to store the combined data\n",
    "    \n",
    "    # Iterate over each stock file\n",
    "    for file in stock_files\n",
    "        path = joinpath(data_dir, file)  # Get the full path of the file\n",
    "        \n",
    "        if isfile(path)\n",
    "            # Load the CSV file into a DataFrame\n",
    "            df = CSV.read(path, DataFrame)\n",
    "            \n",
    "            # Select required columns (including the ticker symbol)\n",
    "            select!(df, [:Date, :Ticker, :Close, :Sector])\n",
    "            \n",
    "            # Append the DataFrame to the combined DataFrame\n",
    "            append!(combined_df, df)\n",
    "        else\n",
    "            println(\"File not found: $file\")  # Print an error if file is missing\n",
    "        end\n",
    "    end\n",
    "    \n",
    "    return combined_df\n",
    "end"
   ]
  },
  {
   "cell_type": "code",
   "execution_count": 3,
   "id": "6f08ff70",
   "metadata": {},
   "outputs": [
    {
     "name": "stdout",
     "output_type": "stream",
     "text": [
      "\n",
      "Stock Data:\n",
      "\n",
      "\u001b[1m716100×4 DataFrame\u001b[0m\n",
      "\u001b[1m    Row \u001b[0m│\u001b[1m Date                      \u001b[0m\u001b[1m Ticker  \u001b[0m\u001b[1m Close   \u001b[0m\u001b[1m Sector                 \u001b[0m\n",
      "        │\u001b[90m String31                  \u001b[0m\u001b[90m String7 \u001b[0m\u001b[90m Float64 \u001b[0m\u001b[90m String31               \u001b[0m\n",
      "────────┼─────────────────────────────────────────────────────────────────────\n",
      "      1 │ 2020-01-02 00:00:00-05:00  AMZN     94.9005  Consumer Discretionary\n",
      "      2 │ 2020-01-03 00:00:00-05:00  AMZN     93.7485  Consumer Discretionary\n",
      "      3 │ 2020-01-06 00:00:00-05:00  AMZN     95.144   Consumer Discretionary\n",
      "      4 │ 2020-01-07 00:00:00-05:00  AMZN     95.343   Consumer Discretionary\n",
      "      5 │ 2020-01-08 00:00:00-05:00  AMZN     94.5985  Consumer Discretionary\n",
      "      6 │ 2020-01-09 00:00:00-05:00  AMZN     95.0525  Consumer Discretionary\n",
      "      7 │ 2020-01-10 00:00:00-05:00  AMZN     94.158   Consumer Discretionary\n",
      "      8 │ 2020-01-13 00:00:00-05:00  AMZN     94.565   Consumer Discretionary\n",
      "      9 │ 2020-01-14 00:00:00-05:00  AMZN     93.472   Consumer Discretionary\n",
      "     10 │ 2020-01-15 00:00:00-05:00  AMZN     93.101   Consumer Discretionary\n",
      "     11 │ 2020-01-16 00:00:00-05:00  AMZN     93.897   Consumer Discretionary\n",
      "   ⋮    │             ⋮                 ⋮        ⋮               ⋮\n",
      " 716091 │ 2025-02-24 00:00:00-05:00  HE       11.0     Utilities\n",
      " 716092 │ 2025-02-25 00:00:00-05:00  HE       10.82    Utilities\n",
      " 716093 │ 2025-02-26 00:00:00-05:00  HE       10.78    Utilities\n",
      " 716094 │ 2025-02-27 00:00:00-05:00  HE       10.71    Utilities\n",
      " 716095 │ 2025-02-28 00:00:00-05:00  HE       10.95    Utilities\n",
      " 716096 │ 2025-03-03 00:00:00-05:00  HE       10.86    Utilities\n",
      " 716097 │ 2025-03-04 00:00:00-05:00  HE       10.47    Utilities\n",
      " 716098 │ 2025-03-05 00:00:00-05:00  HE       10.46    Utilities\n",
      " 716099 │ 2025-03-06 00:00:00-05:00  HE       10.4     Utilities\n",
      " 716100 │ 2025-03-07 00:00:00-05:00  HE       11.46    Utilities\n",
      "\u001b[36m                                                           716079 rows omitted\u001b[0m"
     ]
    }
   ],
   "source": [
    "# Specify the data directory and list of stock files to load\n",
    "data_dir = \"C:/Users/Z2005081/Downloads/COPY FROM SCHOOL PC/DATA_MINNER/FULL_2020_2025_11_SECTION\"\n",
    "stock_files = [\n",
    "    \"Consumer_Discretionary.csv\", \"Consumer_Staples.csv\", \"Energy.csv\",\n",
    "    \"Financials.csv\", \"Health_Care.csv\", \"Industrials.csv\",         # Note: It must be UFT-8 CSV\n",
    "    \"Information_Technology.csv\", \"Materials.csv\", \"Real_Estate.csv\", \"Communication_Services.csv\", \"Utilities.csv\"\n",
    "]\n",
    "\n",
    "# Call the function to load the stocks\n",
    "combined_df = load_stocks(data_dir, stock_files)\n",
    "\n",
    "# Display the combined DataFrame\n",
    "println(\"\\nStock Data:\\n\")\n",
    "show(combined_df)"
   ]
  },
  {
   "cell_type": "code",
   "execution_count": 4,
   "id": "7a6b627a-6435-4394-955e-c7beb4baa157",
   "metadata": {},
   "outputs": [
    {
     "name": "stdout",
     "output_type": "stream",
     "text": [
      "\n",
      "Number of Stocks in Each Sector:\n",
      "\n",
      "\u001b[1m11×2 DataFrame\u001b[0m\n",
      "\u001b[1m Row \u001b[0m│\u001b[1m Sector                 \u001b[0m\u001b[1m Count \u001b[0m\n",
      "     │\u001b[90m String31               \u001b[0m\u001b[90m Int64 \u001b[0m\n",
      "─────┼───────────────────────────────\n",
      "   1 │ Consumer Discretionary  65100\n",
      "   2 │ Consumer Staples        65100\n",
      "   3 │ Energy                  65100\n",
      "   4 │ Financials              65100\n",
      "   5 │ Health Care             65100\n",
      "   6 │ Industrials             65100\n",
      "   7 │ Information Technology  65100\n",
      "   8 │ Materials               65100\n",
      "   9 │ Real Estate             65100\n",
      "  10 │ Communication Services  65100\n",
      "  11 │ Utilities               65100"
     ]
    }
   ],
   "source": [
    "df = DataFrame(combined_df)\n",
    "\n",
    "# Group by sector and count the number of stocks in each sector\n",
    "sector_counts = combine(groupby(df, :Sector), DataFrames.nrow => :Count)\n",
    "\n",
    "# Display the count of stocks in each sector\n",
    "println(\"\\nNumber of Stocks in Each Sector:\\n\")\n",
    "show(sector_counts, allrows=true, allcols=true)\n"
   ]
  },
  {
   "cell_type": "code",
   "execution_count": 5,
   "id": "09d46e7c-35c7-479d-bee0-dea7885bfdca",
   "metadata": {},
   "outputs": [
    {
     "name": "stdout",
     "output_type": "stream",
     "text": [
      "\n",
      "Number of Unique Tickers in Each Sector:\n",
      "\n",
      "\u001b[1m11×2 DataFrame\u001b[0m\n",
      "\u001b[1m Row \u001b[0m│\u001b[1m Sector                 \u001b[0m\u001b[1m Ticker_Count \u001b[0m\n",
      "     │\u001b[90m String31               \u001b[0m\u001b[90m Int64        \u001b[0m\n",
      "─────┼──────────────────────────────────────\n",
      "   1 │ Consumer Discretionary            50\n",
      "   2 │ Consumer Staples                  50\n",
      "   3 │ Energy                            50\n",
      "   4 │ Financials                        50\n",
      "   5 │ Health Care                       50\n",
      "   6 │ Industrials                       50\n",
      "   7 │ Information Technology            50\n",
      "   8 │ Materials                         50\n",
      "   9 │ Real Estate                       50\n",
      "  10 │ Communication Services            50\n",
      "  11 │ Utilities                         50"
     ]
    }
   ],
   "source": [
    "df = DataFrame(combined_df)\n",
    "\n",
    "# Group by sector and count the number of unique tickers in each sector\n",
    "sector_ticker_counts = combine(groupby(df, :Sector), :Ticker => (tickers -> length(unique(tickers))) => :Ticker_Count)\n",
    "\n",
    "# Display the count of unique tickers in each sector\n",
    "println(\"\\nNumber of Unique Tickers in Each Sector:\\n\")\n",
    "show(sector_ticker_counts, allrows=true, allcols=true)\n"
   ]
  },
  {
   "cell_type": "code",
   "execution_count": 6,
   "id": "013b1b95-6795-4f93-914d-e8d6ef94fc72",
   "metadata": {},
   "outputs": [
    {
     "name": "stdout",
     "output_type": "stream",
     "text": [
      "\n",
      "Number of unique stocks: 550\n"
     ]
    }
   ],
   "source": [
    "# Count the number of unique stocks (replace \"Ticker\" with the actual column name)\n",
    "num_stocks = length(unique(combined_df.Ticker))\n",
    "println(\"\\nNumber of unique stocks: \", num_stocks)"
   ]
  },
  {
   "cell_type": "code",
   "execution_count": 7,
   "id": "ba770875-58d2-4fa3-bb1f-03c3925817ab",
   "metadata": {
    "jupyter": {
     "source_hidden": true
    },
    "scrolled": true
   },
   "outputs": [
    {
     "name": "stdout",
     "output_type": "stream",
     "text": [
      "\n",
      "Unique Stock Tickers:\n",
      "A\n",
      "AA\n",
      "AAL\n",
      "AAP\n",
      "AAPL\n",
      "ABBV\n",
      "ABT\n",
      "ACN\n",
      "ADBE\n",
      "ADC\n",
      "ADI\n",
      "ADM\n",
      "ADP\n",
      "AEE\n",
      "AEP\n",
      "AES\n",
      "AFL\n",
      "AIG\n",
      "AJG\n",
      "AKAM\n",
      "ALB\n",
      "ALE\n",
      "ALGN\n",
      "ALL\n",
      "ALLE\n",
      "ALLY\n",
      "AMAT\n",
      "AMD\n",
      "AMGN\n",
      "AMP\n",
      "AMT\n",
      "AMX\n",
      "AMZN\n",
      "ANSS\n",
      "AOS\n",
      "APA\n",
      "APD\n",
      "APH\n",
      "AR\n",
      "ARE\n",
      "ARTNA\n",
      "ASH\n",
      "ATI\n",
      "ATO\n",
      "ATUS\n",
      "AVA\n",
      "AVB\n",
      "AVGO\n",
      "AVT\n",
      "AVY\n",
      "AWK\n",
      "AWR\n",
      "AXP\n",
      "AZO\n",
      "BA\n",
      "BAC\n",
      "BALL\n",
      "BBY\n",
      "BCPC\n",
      "BDX\n",
      "BEN\n",
      "BG\n",
      "BHP\n",
      "BIDU\n",
      "BIIB\n",
      "BILI\n",
      "BIO\n",
      "BK\n",
      "BKH\n",
      "BKNG\n",
      "BKR\n",
      "BLK\n",
      "BMY\n",
      "BP\n",
      "BR\n",
      "BRX\n",
      "BSX\n",
      "BURL\n",
      "BXP\n",
      "C\n",
      "CABO\n",
      "CACC\n",
      "CAG\n",
      "CAH\n",
      "CASY\n",
      "CAT\n",
      "CB\n",
      "CBT\n",
      "CC\n",
      "CCI\n",
      "CCOI\n",
      "CDNS\n",
      "CE\n",
      "CF\n",
      "CFG\n",
      "CHD\n",
      "CHTR\n",
      "CHWY\n",
      "CHX\n",
      "CI\n",
      "CL\n",
      "CLF\n",
      "CLX\n",
      "CMC\n",
      "CMCSA\n",
      "CME\n",
      "CMG\n",
      "CMI\n",
      "CMS\n",
      "CNC\n",
      "CNP\n",
      "CNQ\n",
      "COF\n",
      "COP\n",
      "COST\n",
      "COTY\n",
      "CPB\n",
      "CPT\n",
      "CRM\n",
      "CSCO\n",
      "CSX\n",
      "CTAS\n",
      "CTRA\n",
      "CTSH\n",
      "CTVA\n",
      "CUBE\n",
      "CVE\n",
      "CVS\n",
      "CVX\n",
      "CWT\n",
      "CZR\n",
      "D\n",
      "DAL\n",
      "DAR\n",
      "DD\n",
      "DE\n",
      "DEA\n",
      "DEI\n",
      "DEO\n",
      "DFS\n",
      "DG\n",
      "DGX\n",
      "DHI\n",
      "DHR\n",
      "DINO\n",
      "DIS\n",
      "DLR\n",
      "DNP\n",
      "DOC\n",
      "DOV\n",
      "DOW\n",
      "DOYU\n",
      "DRI\n",
      "DTE\n",
      "DUK\n",
      "DVA\n",
      "DVN\n",
      "DXC\n",
      "E\n",
      "EA\n",
      "EBAY\n",
      "EC\n",
      "ECL\n",
      "ED\n",
      "EFX\n",
      "EGP\n",
      "EIX\n",
      "EL\n",
      "ELV\n",
      "EMN\n",
      "EMR\n",
      "ENB\n",
      "EOG\n",
      "EQIX\n",
      "EQNR\n",
      "EQR\n",
      "EQT\n",
      "ES\n",
      "ESS\n",
      "ETN\n",
      "ETSY\n",
      "EVRG\n",
      "EW\n",
      "EXC\n",
      "EXP\n",
      "EXPD\n",
      "EXR\n",
      "F\n",
      "FANG\n",
      "FAST\n",
      "FCX\n",
      "FDP\n",
      "FDS\n",
      "FDX\n",
      "FE\n",
      "FIS\n",
      "FITB\n",
      "FIZZ\n",
      "FLO\n",
      "FLS\n",
      "FMC\n",
      "FND\n",
      "FOX\n",
      "FR\n",
      "FRT\n",
      "FTI\n",
      "FTNT\n",
      "FUL\n",
      "FWONA\n",
      "GD\n",
      "GE\n",
      "GILD\n",
      "GIS\n",
      "GLW\n",
      "GM\n",
      "GMRE\n",
      "GNE\n",
      "GOOG\n",
      "GPC\n",
      "GPN\n",
      "GRMN\n",
      "GS\n",
      "GWW\n",
      "HAIN\n",
      "HAL\n",
      "HAS\n",
      "HBAN\n",
      "HCA\n",
      "HD\n",
      "HE\n",
      "HES\n",
      "HII\n",
      "HIW\n",
      "HLT\n",
      "HOLX\n",
      "HON\n",
      "HP\n",
      "HPQ\n",
      "HR\n",
      "HRL\n",
      "HSIC\n",
      "HST\n",
      "HSY\n",
      "HUM\n",
      "HUN\n",
      "HUYA\n",
      "IAC\n",
      "IBM\n",
      "ICE\n",
      "IDA\n",
      "IDXX\n",
      "IFF\n",
      "ILMN\n",
      "INGR\n",
      "INTC\n",
      "INTU\n",
      "INVH\n",
      "IP\n",
      "IPG\n",
      "IQ\n",
      "IQV\n",
      "IR\n",
      "IRM\n",
      "ISRG\n",
      "ITW\n",
      "JBHT\n",
      "JCI\n",
      "JNJ\n",
      "JPM\n",
      "K\n",
      "KDDIY\n",
      "KDP\n",
      "KEY\n",
      "KEYS\n",
      "KHC\n",
      "KIM\n",
      "KLAC\n",
      "KMB\n",
      "KMI\n",
      "KMX\n",
      "KO\n",
      "KR\n",
      "KWR\n",
      "LBRDK\n",
      "LBTYA\n",
      "LEN\n",
      "LH\n",
      "LHX\n",
      "LIN\n",
      "LLY\n",
      "LMT\n",
      "LNC\n",
      "LNG\n",
      "LNT\n",
      "LOW\n",
      "LPLA\n",
      "LRCX\n",
      "LTC\n",
      "LUMN\n",
      "LVS\n",
      "LW\n",
      "LXP\n",
      "LYB\n",
      "LYV\n",
      "MA\n",
      "MAA\n",
      "MAR\n",
      "MAS\n",
      "MCD\n",
      "MCHP\n",
      "MCK\n",
      "MCO\n",
      "MDLZ\n",
      "MDT\n",
      "MET\n",
      "META\n",
      "MGEE\n",
      "MGM\n",
      "MKC\n",
      "MLM\n",
      "MMC\n",
      "MMM\n",
      "MNST\n",
      "MO\n",
      "MOS\n",
      "MPC\n",
      "MPW\n",
      "MPWR\n",
      "MRK\n",
      "MS\n",
      "MSCI\n",
      "MSEX\n",
      "MSFT\n",
      "MTD\n",
      "MTDR\n",
      "MTX\n",
      "MU\n",
      "MUR\n",
      "NBR\n",
      "NDAQ\n",
      "NEE\n",
      "NEM\n",
      "NFLX\n",
      "NHI\n",
      "NI\n",
      "NKE\n",
      "NNN\n",
      "NOC\n",
      "NOG\n",
      "NOV\n",
      "NOW\n",
      "NRG\n",
      "NTES\n",
      "NTTYY\n",
      "NUE\n",
      "NVDA\n",
      "NVR\n",
      "NWE\n",
      "NWN\n",
      "NWSA\n",
      "NX\n",
      "NXPI\n",
      "NXST\n",
      "O\n",
      "OC\n",
      "OGE\n",
      "OHI\n",
      "OKE\n",
      "OLN\n",
      "OMC\n",
      "ON\n",
      "ORA\n",
      "ORCL\n",
      "ORLY\n",
      "OVV\n",
      "OXY\n",
      "PAA\n",
      "PANW\n",
      "PARA\n",
      "PAYX\n",
      "PBR\n",
      "PDM\n",
      "PEG\n",
      "PENN\n",
      "PEP\n",
      "PFE\n",
      "PFG\n",
      "PFGC\n",
      "PG\n",
      "PH\n",
      "PINS\n",
      "PKG\n",
      "PLD\n",
      "PLNT\n",
      "PM\n",
      "PNC\n",
      "PNR\n",
      "PNW\n",
      "POOL\n",
      "POR\n",
      "POST\n",
      "PPG\n",
      "PPL\n",
      "PRU\n",
      "PSA\n",
      "PSX\n",
      "PTEN\n",
      "PTON\n",
      "PWR\n",
      "PYPL\n",
      "QCOM\n",
      "RCI\n",
      "RCL\n",
      "REG\n",
      "REGN\n",
      "RES\n",
      "REXR\n",
      "RF\n",
      "RIO\n",
      "RL\n",
      "RMD\n",
      "ROKU\n",
      "ROL\n",
      "ROP\n",
      "ROST\n",
      "RPM\n",
      "RRC\n",
      "RS\n",
      "RSG\n",
      "RTX\n",
      "SAM\n",
      "SBRA\n",
      "SBUX\n",
      "SCHW\n",
      "SE\n",
      "SEE\n",
      "SFM\n",
      "SHEL\n",
      "SHW\n",
      "SIRI\n",
      "SJM\n",
      "SJW\n",
      "SKM\n",
      "SLB\n",
      "SLG\n",
      "SLGN\n",
      "SM\n",
      "SNA\n",
      "SNAP\n",
      "SNPS\n",
      "SO\n",
      "SPG\n",
      "SPGI\n",
      "SPOT\n",
      "SPTN\n",
      "SQ\n",
      "SQM\n",
      "SRE\n",
      "STAG\n",
      "STE\n",
      "STLD\n",
      "STT\n",
      "STX\n",
      "STZ\n",
      "SU\n",
      "SUI\n",
      "SWK\n",
      "SWKS\n",
      "SWX\n",
      "SYF\n",
      "SYK\n",
      "SYY\n",
      "T\n",
      "TAP\n",
      "TCEHY\n",
      "TECH\n",
      "TECK\n",
      "TEF\n",
      "TEL\n",
      "TFC\n",
      "TFX\n",
      "TGT\n",
      "THC\n",
      "THS\n",
      "TJX\n",
      "TME\n",
      "TMO\n",
      "TMUS\n",
      "TPR\n",
      "TRP\n",
      "TRV\n",
      "TSLA\n",
      "TSN\n",
      "TT\n",
      "TTE\n",
      "TTWO\n",
      "TXN\n",
      "TXT\n",
      "TYL\n",
      "UAL\n",
      "UDR\n",
      "UGI\n",
      "UHS\n",
      "UL\n",
      "ULTA\n",
      "UNFI\n",
      "UNH\n",
      "UNP\n",
      "UPS\n",
      "URI\n",
      "USB\n",
      "USFD\n",
      "V\n",
      "VFC\n",
      "VLO\n",
      "VMC\n",
      "VNO\n",
      "VRSN\n",
      "VRTX\n",
      "VST\n",
      "VTR\n",
      "VZ\n",
      "WAB\n",
      "WB\n",
      "WBA\n",
      "WDAY\n",
      "WEC\n",
      "WELL\n",
      "WFC\n",
      "WHD\n",
      "WHR\n",
      "WM\n",
      "WMB\n",
      "WMT\n",
      "WPP\n",
      "WSM\n",
      "WTRG\n",
      "WU\n",
      "WY\n",
      "WYNN\n",
      "XEL\n",
      "XOM\n",
      "XRAY\n",
      "XYL\n",
      "YORW\n",
      "YUM\n",
      "ZBRA\n",
      "ZG\n",
      "ZM\n",
      "ZTS\n",
      "\n",
      "Total number of unique stocks: 550\n"
     ]
    }
   ],
   "source": [
    "# Extract and print all unique tickers (replace \"Ticker\" with your actual column name)\n",
    "unique_tickers = sort(unique(combined_df.Ticker))  # Sorting for easier reading\n",
    "println(\"\\nUnique Stock Tickers:\")\n",
    "for ticker in unique_tickers\n",
    "    println(ticker)\n",
    "end\n",
    "\n",
    "# Print the total number of unique tickers\n",
    "println(\"\\nTotal number of unique stocks: \", length(unique_tickers))"
   ]
  },
  {
   "cell_type": "code",
   "execution_count": 8,
   "id": "407d252b-fabe-4262-82a5-e8737b7d90a3",
   "metadata": {
    "jupyter": {
     "source_hidden": true
    }
   },
   "outputs": [
    {
     "data": {
      "text/html": [
       "<div><div style = \"float: left;\"><span>716100×3 DataFrame</span></div><div style = \"float: right;\"><span style = \"font-style: italic;\">716075 rows omitted</span></div><div style = \"clear: both;\"></div></div><div class = \"data-frame\" style = \"overflow-x: scroll;\"><table class = \"data-frame\" style = \"margin-bottom: 6px;\"><thead><tr class = \"header\"><th class = \"rowNumber\" style = \"font-weight: bold; text-align: right;\">Row</th><th style = \"text-align: left;\">Date</th><th style = \"text-align: left;\">Ticker</th><th style = \"text-align: left;\">Close</th></tr><tr class = \"subheader headerLastRow\"><th class = \"rowNumber\" style = \"font-weight: bold; text-align: right;\"></th><th title = \"DateTime\" style = \"text-align: left;\">DateTime</th><th title = \"String7\" style = \"text-align: left;\">String7</th><th title = \"Float64\" style = \"text-align: left;\">Float64</th></tr></thead><tbody><tr><td class = \"rowNumber\" style = \"font-weight: bold; text-align: right;\">1</td><td style = \"text-align: left;\">2020-01-02T05:00:00</td><td style = \"text-align: left;\">A</td><td style = \"text-align: right;\">83.0613</td></tr><tr><td class = \"rowNumber\" style = \"font-weight: bold; text-align: right;\">2</td><td style = \"text-align: left;\">2020-01-02T05:00:00</td><td style = \"text-align: left;\">AA</td><td style = \"text-align: right;\">20.6555</td></tr><tr><td class = \"rowNumber\" style = \"font-weight: bold; text-align: right;\">3</td><td style = \"text-align: left;\">2020-01-02T05:00:00</td><td style = \"text-align: left;\">AAL</td><td style = \"text-align: right;\">28.9829</td></tr><tr><td class = \"rowNumber\" style = \"font-weight: bold; text-align: right;\">4</td><td style = \"text-align: left;\">2020-01-02T05:00:00</td><td style = \"text-align: left;\">AAP</td><td style = \"text-align: right;\">143.805</td></tr><tr><td class = \"rowNumber\" style = \"font-weight: bold; text-align: right;\">5</td><td style = \"text-align: left;\">2020-01-02T05:00:00</td><td style = \"text-align: left;\">AAPL</td><td style = \"text-align: right;\">72.7161</td></tr><tr><td class = \"rowNumber\" style = \"font-weight: bold; text-align: right;\">6</td><td style = \"text-align: left;\">2020-01-02T05:00:00</td><td style = \"text-align: left;\">ABBV</td><td style = \"text-align: right;\">71.5898</td></tr><tr><td class = \"rowNumber\" style = \"font-weight: bold; text-align: right;\">7</td><td style = \"text-align: left;\">2020-01-02T05:00:00</td><td style = \"text-align: left;\">ABT</td><td style = \"text-align: right;\">79.2739</td></tr><tr><td class = \"rowNumber\" style = \"font-weight: bold; text-align: right;\">8</td><td style = \"text-align: left;\">2020-01-02T05:00:00</td><td style = \"text-align: left;\">ACN</td><td style = \"text-align: right;\">195.264</td></tr><tr><td class = \"rowNumber\" style = \"font-weight: bold; text-align: right;\">9</td><td style = \"text-align: left;\">2020-01-02T05:00:00</td><td style = \"text-align: left;\">ADBE</td><td style = \"text-align: right;\">334.43</td></tr><tr><td class = \"rowNumber\" style = \"font-weight: bold; text-align: right;\">10</td><td style = \"text-align: left;\">2020-01-02T05:00:00</td><td style = \"text-align: left;\">ADC</td><td style = \"text-align: right;\">54.5435</td></tr><tr><td class = \"rowNumber\" style = \"font-weight: bold; text-align: right;\">11</td><td style = \"text-align: left;\">2020-01-02T05:00:00</td><td style = \"text-align: left;\">ADI</td><td style = \"text-align: right;\">109.436</td></tr><tr><td class = \"rowNumber\" style = \"font-weight: bold; text-align: right;\">12</td><td style = \"text-align: left;\">2020-01-02T05:00:00</td><td style = \"text-align: left;\">ADM</td><td style = \"text-align: right;\">39.8677</td></tr><tr><td class = \"rowNumber\" style = \"font-weight: bold; text-align: right;\">13</td><td style = \"text-align: left;\">2020-01-02T05:00:00</td><td style = \"text-align: left;\">ADP</td><td style = \"text-align: right;\">153.206</td></tr><tr><td style = \"text-align: right;\">&vellip;</td><td style = \"text-align: right;\">&vellip;</td><td style = \"text-align: right;\">&vellip;</td><td style = \"text-align: right;\">&vellip;</td></tr><tr><td class = \"rowNumber\" style = \"font-weight: bold; text-align: right;\">716089</td><td style = \"text-align: left;\">2025-03-07T05:00:00</td><td style = \"text-align: left;\">WY</td><td style = \"text-align: right;\">30.65</td></tr><tr><td class = \"rowNumber\" style = \"font-weight: bold; text-align: right;\">716090</td><td style = \"text-align: left;\">2025-03-07T05:00:00</td><td style = \"text-align: left;\">WYNN</td><td style = \"text-align: right;\">88.72</td></tr><tr><td class = \"rowNumber\" style = \"font-weight: bold; text-align: right;\">716091</td><td style = \"text-align: left;\">2025-03-07T05:00:00</td><td style = \"text-align: left;\">XEL</td><td style = \"text-align: right;\">68.0</td></tr><tr><td class = \"rowNumber\" style = \"font-weight: bold; text-align: right;\">716092</td><td style = \"text-align: left;\">2025-03-07T05:00:00</td><td style = \"text-align: left;\">XOM</td><td style = \"text-align: right;\">109.02</td></tr><tr><td class = \"rowNumber\" style = \"font-weight: bold; text-align: right;\">716093</td><td style = \"text-align: left;\">2025-03-07T05:00:00</td><td style = \"text-align: left;\">XRAY</td><td style = \"text-align: right;\">16.32</td></tr><tr><td class = \"rowNumber\" style = \"font-weight: bold; text-align: right;\">716094</td><td style = \"text-align: left;\">2025-03-07T05:00:00</td><td style = \"text-align: left;\">XYL</td><td style = \"text-align: right;\">130.62</td></tr><tr><td class = \"rowNumber\" style = \"font-weight: bold; text-align: right;\">716095</td><td style = \"text-align: left;\">2025-03-07T05:00:00</td><td style = \"text-align: left;\">YORW</td><td style = \"text-align: right;\">34.48</td></tr><tr><td class = \"rowNumber\" style = \"font-weight: bold; text-align: right;\">716096</td><td style = \"text-align: left;\">2025-03-07T05:00:00</td><td style = \"text-align: left;\">YUM</td><td style = \"text-align: right;\">162.53</td></tr><tr><td class = \"rowNumber\" style = \"font-weight: bold; text-align: right;\">716097</td><td style = \"text-align: left;\">2025-03-07T05:00:00</td><td style = \"text-align: left;\">ZBRA</td><td style = \"text-align: right;\">292.69</td></tr><tr><td class = \"rowNumber\" style = \"font-weight: bold; text-align: right;\">716098</td><td style = \"text-align: left;\">2025-03-07T05:00:00</td><td style = \"text-align: left;\">ZG</td><td style = \"text-align: right;\">73.85</td></tr><tr><td class = \"rowNumber\" style = \"font-weight: bold; text-align: right;\">716099</td><td style = \"text-align: left;\">2025-03-07T05:00:00</td><td style = \"text-align: left;\">ZM</td><td style = \"text-align: right;\">75.98</td></tr><tr><td class = \"rowNumber\" style = \"font-weight: bold; text-align: right;\">716100</td><td style = \"text-align: left;\">2025-03-07T05:00:00</td><td style = \"text-align: left;\">ZTS</td><td style = \"text-align: right;\">170.37</td></tr></tbody></table></div>"
      ],
      "text/latex": [
       "\\begin{tabular}{r|ccc}\n",
       "\t& Date & Ticker & Close\\\\\n",
       "\t\\hline\n",
       "\t& DateTime & String7 & Float64\\\\\n",
       "\t\\hline\n",
       "\t1 & 2020-01-02T05:00:00 & A & 83.0613 \\\\\n",
       "\t2 & 2020-01-02T05:00:00 & AA & 20.6555 \\\\\n",
       "\t3 & 2020-01-02T05:00:00 & AAL & 28.9829 \\\\\n",
       "\t4 & 2020-01-02T05:00:00 & AAP & 143.805 \\\\\n",
       "\t5 & 2020-01-02T05:00:00 & AAPL & 72.7161 \\\\\n",
       "\t6 & 2020-01-02T05:00:00 & ABBV & 71.5898 \\\\\n",
       "\t7 & 2020-01-02T05:00:00 & ABT & 79.2739 \\\\\n",
       "\t8 & 2020-01-02T05:00:00 & ACN & 195.264 \\\\\n",
       "\t9 & 2020-01-02T05:00:00 & ADBE & 334.43 \\\\\n",
       "\t10 & 2020-01-02T05:00:00 & ADC & 54.5435 \\\\\n",
       "\t11 & 2020-01-02T05:00:00 & ADI & 109.436 \\\\\n",
       "\t12 & 2020-01-02T05:00:00 & ADM & 39.8677 \\\\\n",
       "\t13 & 2020-01-02T05:00:00 & ADP & 153.206 \\\\\n",
       "\t14 & 2020-01-02T05:00:00 & AEE & 65.9074 \\\\\n",
       "\t15 & 2020-01-02T05:00:00 & AEP & 77.2617 \\\\\n",
       "\t16 & 2020-01-02T05:00:00 & AES & 16.8297 \\\\\n",
       "\t17 & 2020-01-02T05:00:00 & AFL & 46.9609 \\\\\n",
       "\t18 & 2020-01-02T05:00:00 & AIG & 45.2333 \\\\\n",
       "\t19 & 2020-01-02T05:00:00 & AJG & 89.6528 \\\\\n",
       "\t20 & 2020-01-02T05:00:00 & AKAM & 87.64 \\\\\n",
       "\t21 & 2020-01-02T05:00:00 & ALB & 68.6946 \\\\\n",
       "\t22 & 2020-01-02T05:00:00 & ALE & 64.2924 \\\\\n",
       "\t23 & 2020-01-02T05:00:00 & ALGN & 283.68 \\\\\n",
       "\t24 & 2020-01-02T05:00:00 & ALL & 99.558 \\\\\n",
       "\t25 & 2020-01-02T05:00:00 & ALLE & 117.816 \\\\\n",
       "\t26 & 2020-01-02T05:00:00 & ALLY & 25.9851 \\\\\n",
       "\t27 & 2020-01-02T05:00:00 & AMAT & 59.2246 \\\\\n",
       "\t28 & 2020-01-02T05:00:00 & AMD & 49.1 \\\\\n",
       "\t29 & 2020-01-02T05:00:00 & AMGN & 204.453 \\\\\n",
       "\t30 & 2020-01-02T05:00:00 & AMP & 154.143 \\\\\n",
       "\t$\\dots$ & $\\dots$ & $\\dots$ & $\\dots$ \\\\\n",
       "\\end{tabular}\n"
      ],
      "text/plain": [
       "\u001b[1m716100×3 DataFrame\u001b[0m\n",
       "\u001b[1m    Row \u001b[0m│\u001b[1m Date                \u001b[0m\u001b[1m Ticker  \u001b[0m\u001b[1m Close    \u001b[0m\n",
       "        │\u001b[90m DateTime            \u001b[0m\u001b[90m String7 \u001b[0m\u001b[90m Float64  \u001b[0m\n",
       "────────┼────────────────────────────────────────\n",
       "      1 │ 2020-01-02T05:00:00  A         83.0613\n",
       "      2 │ 2020-01-02T05:00:00  AA        20.6555\n",
       "      3 │ 2020-01-02T05:00:00  AAL       28.9829\n",
       "      4 │ 2020-01-02T05:00:00  AAP      143.805\n",
       "      5 │ 2020-01-02T05:00:00  AAPL      72.7161\n",
       "      6 │ 2020-01-02T05:00:00  ABBV      71.5898\n",
       "      7 │ 2020-01-02T05:00:00  ABT       79.2739\n",
       "      8 │ 2020-01-02T05:00:00  ACN      195.264\n",
       "      9 │ 2020-01-02T05:00:00  ADBE     334.43\n",
       "     10 │ 2020-01-02T05:00:00  ADC       54.5435\n",
       "     11 │ 2020-01-02T05:00:00  ADI      109.436\n",
       "   ⋮    │          ⋮              ⋮        ⋮\n",
       " 716091 │ 2025-03-07T05:00:00  XEL       68.0\n",
       " 716092 │ 2025-03-07T05:00:00  XOM      109.02\n",
       " 716093 │ 2025-03-07T05:00:00  XRAY      16.32\n",
       " 716094 │ 2025-03-07T05:00:00  XYL      130.62\n",
       " 716095 │ 2025-03-07T05:00:00  YORW      34.48\n",
       " 716096 │ 2025-03-07T05:00:00  YUM      162.53\n",
       " 716097 │ 2025-03-07T05:00:00  ZBRA     292.69\n",
       " 716098 │ 2025-03-07T05:00:00  ZG        73.85\n",
       " 716099 │ 2025-03-07T05:00:00  ZM        75.98\n",
       " 716100 │ 2025-03-07T05:00:00  ZTS      170.37\n",
       "\u001b[36m                              716079 rows omitted\u001b[0m"
      ]
     },
     "execution_count": 8,
     "metadata": {},
     "output_type": "execute_result"
    }
   ],
   "source": [
    "# Extract unique tickers from the combined DataFrame\n",
    "tickers = unique(combined_df.Ticker)\n",
    "\n",
    "# Filter the combined DataFrame by the extracted tickers\n",
    "filtered_df = filter(:Ticker => t -> t in tickers, combined_df)\n",
    "\n",
    "# Select only the required columns\n",
    "filtered_df = filtered_df[:, [\"Date\", \"Ticker\", \"Close\"]]\n",
    "\n",
    "# Correctly parse the DateTime with the specified format\n",
    "filtered_df[!, \"Date\"] = DateTime.(filtered_df.Date, \"yyyy-mm-dd HH:MM:SS-HH:MM\")\n",
    "\n",
    "# Define the date range for filtering\n",
    "start_date = DateTime(\"2020-01-02\")\n",
    "end_date = DateTime(\"2025-03-08\")\n",
    "\n",
    "\n",
    "# Filter the DataFrame for the specified date range\n",
    "daily_df = filter(row -> start_date <= row.Date <= end_date, filtered_df)\n",
    "\n",
    "# Sort the DataFrame by Date and Ticker\n",
    "sort!(daily_df, [:Date, :Ticker])\n"
   ]
  },
  {
   "cell_type": "code",
   "execution_count": 9,
   "id": "1d640b03-9def-4e0d-bf54-0f9cc86c4191",
   "metadata": {
    "jupyter": {
     "source_hidden": true
    }
   },
   "outputs": [
    {
     "data": {
      "text/plain": [
       "\u001b[1m1302×550 TSFrame with DateTime Index\u001b[0m\n",
       "\u001b[1m Index               \u001b[0m\u001b[1m A        \u001b[0m\u001b[1m AA       \u001b[0m\u001b[1m AAL      \u001b[0m\u001b[1m AAP      \u001b[0m\u001b[1m AAPL     \u001b[0m\u001b[1m ABBV  \u001b[0m ⋯\n",
       "\u001b[90m DateTime            \u001b[0m\u001b[90m Float64? \u001b[0m\u001b[90m Float64? \u001b[0m\u001b[90m Float64? \u001b[0m\u001b[90m Float64? \u001b[0m\u001b[90m Float64? \u001b[0m\u001b[90m Float6\u001b[0m ⋯\n",
       "────────────────────────────────────────────────────────────────────────────────\n",
       " 2020-01-02T05:00:00   83.0613   20.6555   28.9829   143.805   72.7161   71.58 ⋯\n",
       " 2020-01-03T05:00:00   81.7277   20.7326   27.5482   143.814   72.0091   70.91\n",
       " 2020-01-06T05:00:00   81.9693   20.2505   27.2194   141.451   72.5829   71.46\n",
       " 2020-01-07T05:00:00   82.2206   20.559    27.1198   139.773   72.2416   71.06\n",
       " 2020-01-08T05:00:00   83.0323   19.7297   27.7375   138.167   73.4036   71.56 ⋯\n",
       " 2020-01-09T05:00:00   84.337    19.1029   27.8471   137.905   74.9628   72.11\n",
       " 2020-01-10T05:00:00   84.6462   18.7558   27.2194   134.423   75.1323   71.19\n",
       " 2020-01-13T05:00:00   84.5206   18.9101   27.2892   131.04    76.7374   70.76\n",
       " 2020-01-14T05:00:00   85.0328   19.6429   27.4286   134.324   75.7012   71.46 ⋯\n",
       " 2020-01-15T05:00:00   85.6416   19.4597   27.4785   135.506   75.3768   72.32\n",
       " 2020-01-16T05:00:00   86.4534   17.1454   28.1261   137.066   76.321    72.32\n",
       "          ⋮              ⋮         ⋮         ⋮         ⋮         ⋮         ⋮   ⋱\n",
       " 2025-02-24T05:00:00  135.28     34.9082   15.31      42.81   247.1     204.08\n",
       " 2025-02-25T05:00:00  134.18     34.2603   15.13      45.88   247.04    204.14 ⋯\n",
       " 2025-02-26T05:00:00  134.47     33.5625   15.18      37.7    240.36    203.01\n",
       " 2025-02-27T05:00:00  127.08     33.3233   14.53      36.96   237.3     205.02\n",
       " 2025-02-28T05:00:00  127.92     33.1439   14.35      36.9    241.84    209.03\n",
       " 2025-03-03T05:00:00  126.33     31.23     13.87      35.41   238.03    211.48 ⋯\n",
       " 2025-03-04T05:00:00  123.06     31.15     13.35      34.58   235.93    207.76\n",
       " 2025-03-05T05:00:00  126.51     32.38     14.09      34.35   235.74    211.54\n",
       " 2025-03-06T05:00:00  126.55     32.83     13.25      33.63   235.33    210.75\n",
       " 2025-03-07T05:00:00  126.7      32.84     13.03      35.37   239.07    214.29 ⋯\n",
       "\u001b[36m                                               545 columns and 1281 rows omitted\u001b[0m"
      ]
     },
     "execution_count": 9,
     "metadata": {},
     "output_type": "execute_result"
    }
   ],
   "source": [
    "# Pivot the DataFrame to get the desired format, handling duplicates by taking the mean\n",
    "pivoted_df = unstack(daily_df, :Date, :Ticker, :Close, combine = mean)\n",
    "\n",
    "# Sort by Date (Index)\n",
    "sort!(pivoted_df, :Date)\n",
    "\n",
    "# Convert the DataFrame to a TSFrame\n",
    "tsframe = TSFrame(pivoted_df, :Date)\n"
   ]
  },
  {
   "cell_type": "code",
   "execution_count": null,
   "id": "e1c840aa",
   "metadata": {},
   "outputs": [],
   "source": []
  },
  {
   "cell_type": "code",
   "execution_count": null,
   "id": "1121d234-1a6d-4a35-8c55-e67b2ada104f",
   "metadata": {},
   "outputs": [],
   "source": []
  },
  {
   "cell_type": "code",
   "execution_count": null,
   "id": "fc1e4b99-b5a1-43ca-88b5-2dd18390a7fa",
   "metadata": {},
   "outputs": [],
   "source": []
  },
  {
   "cell_type": "markdown",
   "id": "706e38cf-c58a-47f4-ba4a-0d3ab596a5f3",
   "metadata": {},
   "source": [
    "# Log Returns"
   ]
  },
  {
   "cell_type": "code",
   "execution_count": 10,
   "id": "ff0a0512",
   "metadata": {},
   "outputs": [],
   "source": [
    "\n",
    "all_tickers = unique(daily_df.Ticker)\n",
    "pivoted_df = unstack(daily_df, :Date, :Ticker, :Close, combine = mean)\n",
    "for ticker in setdiff(all_tickers, names(pivoted_df)[2:end])\n",
    "    pivoted_df[!, ticker] = fill(NaN, nrow(pivoted_df))\n",
    "end\n",
    "     "
   ]
  },
  {
   "cell_type": "code",
   "execution_count": 11,
   "id": "5b9d2356-af28-43e2-ad13-a99fd4dea1ed",
   "metadata": {
    "scrolled": true
   },
   "outputs": [
    {
     "data": {
      "text/html": [
       "<div><div style = \"float: left;\"><span>1301×550 DataFrame</span></div><div style = \"float: right;\"><span style = \"font-style: italic;\">450 columns and 1276 rows omitted</span></div><div style = \"clear: both;\"></div></div><div class = \"data-frame\" style = \"overflow-x: scroll;\"><table class = \"data-frame\" style = \"margin-bottom: 6px;\"><thead><tr class = \"header\"><th class = \"rowNumber\" style = \"font-weight: bold; text-align: right;\">Row</th><th style = \"text-align: left;\">A</th><th style = \"text-align: left;\">AA</th><th style = \"text-align: left;\">AAL</th><th style = \"text-align: left;\">AAP</th><th style = \"text-align: left;\">AAPL</th><th style = \"text-align: left;\">ABBV</th><th style = \"text-align: left;\">ABT</th><th style = \"text-align: left;\">ACN</th><th style = \"text-align: left;\">ADBE</th><th style = \"text-align: left;\">ADC</th><th style = \"text-align: left;\">ADI</th><th style = \"text-align: left;\">ADM</th><th style = \"text-align: left;\">ADP</th><th style = \"text-align: left;\">AEE</th><th style = \"text-align: left;\">AEP</th><th style = \"text-align: left;\">AES</th><th style = \"text-align: left;\">AFL</th><th style = \"text-align: left;\">AIG</th><th style = \"text-align: left;\">AJG</th><th style = \"text-align: left;\">AKAM</th><th style = \"text-align: left;\">ALB</th><th style = \"text-align: left;\">ALE</th><th style = \"text-align: left;\">ALGN</th><th style = \"text-align: left;\">ALL</th><th style = \"text-align: left;\">ALLE</th><th style = \"text-align: left;\">ALLY</th><th style = \"text-align: left;\">AMAT</th><th style = \"text-align: left;\">AMD</th><th style = \"text-align: left;\">AMGN</th><th style = \"text-align: left;\">AMP</th><th style = \"text-align: left;\">AMT</th><th style = \"text-align: left;\">AMX</th><th style = \"text-align: left;\">AMZN</th><th style = \"text-align: left;\">ANSS</th><th style = \"text-align: left;\">AOS</th><th style = \"text-align: left;\">APA</th><th style = \"text-align: left;\">APD</th><th style = \"text-align: left;\">APH</th><th style = \"text-align: left;\">AR</th><th style = \"text-align: left;\">ARE</th><th style = \"text-align: left;\">ARTNA</th><th style = \"text-align: left;\">ASH</th><th style = \"text-align: left;\">ATI</th><th style = \"text-align: left;\">ATO</th><th style = \"text-align: left;\">ATUS</th><th style = \"text-align: left;\">AVA</th><th style = \"text-align: left;\">AVB</th><th style = \"text-align: left;\">AVGO</th><th style = \"text-align: left;\">AVT</th><th style = \"text-align: left;\">AVY</th><th style = \"text-align: left;\">AWK</th><th style = \"text-align: left;\">AWR</th><th style = \"text-align: left;\">AXP</th><th style = \"text-align: left;\">AZO</th><th style = \"text-align: left;\">BA</th><th style = \"text-align: left;\">BAC</th><th style = \"text-align: left;\">BALL</th><th style = \"text-align: left;\">BBY</th><th style = \"text-align: left;\">BCPC</th><th style = \"text-align: left;\">BDX</th><th style = \"text-align: left;\">BEN</th><th style = \"text-align: left;\">BG</th><th style = \"text-align: left;\">BHP</th><th style = \"text-align: left;\">BIDU</th><th style = \"text-align: left;\">BIIB</th><th style = \"text-align: left;\">BILI</th><th style = \"text-align: left;\">BIO</th><th style = \"text-align: left;\">BK</th><th style = \"text-align: left;\">BKH</th><th style = \"text-align: left;\">BKNG</th><th style = \"text-align: left;\">BKR</th><th style = \"text-align: left;\">BLK</th><th style = \"text-align: left;\">BMY</th><th style = \"text-align: left;\">BP</th><th style = \"text-align: left;\">BR</th><th style = \"text-align: left;\">BRX</th><th style = \"text-align: left;\">BSX</th><th style = \"text-align: left;\">BURL</th><th style = \"text-align: left;\">BXP</th><th style = \"text-align: left;\">C</th><th style = \"text-align: left;\">CABO</th><th style = \"text-align: left;\">CACC</th><th style = \"text-align: left;\">CAG</th><th style = \"text-align: left;\">CAH</th><th style = \"text-align: left;\">CASY</th><th style = \"text-align: left;\">CAT</th><th style = \"text-align: left;\">CB</th><th style = \"text-align: left;\">CBT</th><th style = \"text-align: left;\">CC</th><th style = \"text-align: left;\">CCI</th><th style = \"text-align: left;\">CCOI</th><th style = \"text-align: left;\">CDNS</th><th style = \"text-align: left;\">CE</th><th style = \"text-align: left;\">CF</th><th style = \"text-align: left;\">CFG</th><th style = \"text-align: left;\">CHD</th><th style = \"text-align: left;\">CHTR</th><th style = \"text-align: left;\">CHWY</th><th style = \"text-align: left;\">CHX</th><th style = \"text-align: left;\">CI</th><th style = \"text-align: right;\">&ctdot;</th></tr><tr class = \"subheader headerLastRow\"><th class = \"rowNumber\" style = \"font-weight: bold; text-align: right;\"></th><th title = \"Float64\" style = \"text-align: left;\">Float64</th><th title = \"Float64\" style = \"text-align: left;\">Float64</th><th title = \"Float64\" style = \"text-align: left;\">Float64</th><th title = \"Float64\" style = \"text-align: left;\">Float64</th><th title = \"Float64\" style = \"text-align: left;\">Float64</th><th title = \"Float64\" style = \"text-align: left;\">Float64</th><th title = \"Float64\" style = \"text-align: left;\">Float64</th><th title = \"Float64\" style = \"text-align: left;\">Float64</th><th title = \"Float64\" style = \"text-align: left;\">Float64</th><th title = \"Float64\" style = \"text-align: left;\">Float64</th><th title = \"Float64\" style = \"text-align: left;\">Float64</th><th title = \"Float64\" style = \"text-align: left;\">Float64</th><th title = \"Float64\" style = \"text-align: left;\">Float64</th><th title = \"Float64\" style = \"text-align: left;\">Float64</th><th title = \"Float64\" style = \"text-align: left;\">Float64</th><th title = \"Float64\" style = \"text-align: left;\">Float64</th><th title = \"Float64\" style = \"text-align: left;\">Float64</th><th title = \"Float64\" style = \"text-align: left;\">Float64</th><th title = \"Float64\" style = \"text-align: left;\">Float64</th><th title = \"Float64\" style = \"text-align: left;\">Float64</th><th title = \"Float64\" style = \"text-align: left;\">Float64</th><th title = \"Float64\" style = \"text-align: left;\">Float64</th><th title = \"Float64\" style = \"text-align: left;\">Float64</th><th title = \"Float64\" style = \"text-align: left;\">Float64</th><th title = \"Float64\" style = \"text-align: left;\">Float64</th><th title = \"Float64\" style = \"text-align: left;\">Float64</th><th title = \"Float64\" style = \"text-align: left;\">Float64</th><th title = \"Float64\" style = \"text-align: left;\">Float64</th><th title = \"Float64\" style = \"text-align: left;\">Float64</th><th title = \"Float64\" style = \"text-align: left;\">Float64</th><th title = \"Float64\" style = \"text-align: left;\">Float64</th><th title = \"Float64\" style = \"text-align: left;\">Float64</th><th title = \"Float64\" style = \"text-align: left;\">Float64</th><th title = \"Float64\" style = \"text-align: left;\">Float64</th><th title = \"Float64\" style = \"text-align: left;\">Float64</th><th title = \"Float64\" style = \"text-align: left;\">Float64</th><th title = \"Float64\" style = \"text-align: left;\">Float64</th><th title = \"Float64\" style = \"text-align: left;\">Float64</th><th title = \"Float64\" style = \"text-align: left;\">Float64</th><th title = \"Float64\" style = \"text-align: left;\">Float64</th><th title = \"Float64\" style = \"text-align: left;\">Float64</th><th title = \"Float64\" style = \"text-align: left;\">Float64</th><th title = \"Float64\" style = \"text-align: left;\">Float64</th><th title = \"Float64\" style = \"text-align: left;\">Float64</th><th title = \"Float64\" style = \"text-align: left;\">Float64</th><th title = \"Float64\" style = \"text-align: left;\">Float64</th><th title = \"Float64\" style = \"text-align: left;\">Float64</th><th title = \"Float64\" style = \"text-align: left;\">Float64</th><th title = \"Float64\" style = \"text-align: left;\">Float64</th><th title = \"Float64\" style = \"text-align: left;\">Float64</th><th title = \"Float64\" style = \"text-align: left;\">Float64</th><th title = \"Float64\" style = \"text-align: left;\">Float64</th><th title = \"Float64\" style = \"text-align: left;\">Float64</th><th title = \"Float64\" style = \"text-align: left;\">Float64</th><th title = \"Float64\" style = \"text-align: left;\">Float64</th><th title = \"Float64\" style = \"text-align: left;\">Float64</th><th title = \"Float64\" style = \"text-align: left;\">Float64</th><th title = \"Float64\" style = \"text-align: left;\">Float64</th><th title = \"Float64\" style = \"text-align: left;\">Float64</th><th title = \"Float64\" style = \"text-align: left;\">Float64</th><th title = \"Float64\" style = \"text-align: left;\">Float64</th><th title = \"Float64\" style = \"text-align: left;\">Float64</th><th title = \"Float64\" style = \"text-align: left;\">Float64</th><th title = \"Float64\" style = \"text-align: left;\">Float64</th><th title = \"Float64\" style = \"text-align: left;\">Float64</th><th title = \"Float64\" style = \"text-align: left;\">Float64</th><th title = \"Float64\" style = \"text-align: left;\">Float64</th><th title = \"Float64\" style = \"text-align: left;\">Float64</th><th title = \"Float64\" style = \"text-align: left;\">Float64</th><th title = \"Float64\" style = \"text-align: left;\">Float64</th><th title = \"Float64\" style = \"text-align: left;\">Float64</th><th title = \"Float64\" style = \"text-align: left;\">Float64</th><th title = \"Float64\" style = \"text-align: left;\">Float64</th><th title = \"Float64\" style = \"text-align: left;\">Float64</th><th title = \"Float64\" style = \"text-align: left;\">Float64</th><th title = \"Float64\" style = \"text-align: left;\">Float64</th><th title = \"Float64\" style = \"text-align: left;\">Float64</th><th title = \"Float64\" style = \"text-align: left;\">Float64</th><th title = \"Float64\" style = \"text-align: left;\">Float64</th><th title = \"Float64\" style = \"text-align: left;\">Float64</th><th title = \"Float64\" style = \"text-align: left;\">Float64</th><th title = \"Float64\" style = \"text-align: left;\">Float64</th><th title = \"Float64\" style = \"text-align: left;\">Float64</th><th title = \"Float64\" style = \"text-align: left;\">Float64</th><th title = \"Float64\" style = \"text-align: left;\">Float64</th><th title = \"Float64\" style = \"text-align: left;\">Float64</th><th title = \"Float64\" style = \"text-align: left;\">Float64</th><th title = \"Float64\" style = \"text-align: left;\">Float64</th><th title = \"Float64\" style = \"text-align: left;\">Float64</th><th title = \"Float64\" style = \"text-align: left;\">Float64</th><th title = \"Float64\" style = \"text-align: left;\">Float64</th><th title = \"Float64\" style = \"text-align: left;\">Float64</th><th title = \"Float64\" style = \"text-align: left;\">Float64</th><th title = \"Float64\" style = \"text-align: left;\">Float64</th><th title = \"Float64\" style = \"text-align: left;\">Float64</th><th title = \"Float64\" style = \"text-align: left;\">Float64</th><th title = \"Float64\" style = \"text-align: left;\">Float64</th><th title = \"Float64\" style = \"text-align: left;\">Float64</th><th title = \"Float64\" style = \"text-align: left;\">Float64</th><th title = \"Float64\" style = \"text-align: left;\">Float64</th><th title = \"Float64\" style = \"text-align: right;\">&ctdot;</th></tr></thead><tbody><tr><td class = \"rowNumber\" style = \"font-weight: bold; text-align: right;\">1</td><td style = \"text-align: right;\">-0.0161859</td><td style = \"text-align: right;\">0.00372787</td><td style = \"text-align: right;\">-0.0507687</td><td style = \"text-align: right;\">6.26014e-5</td><td style = \"text-align: right;\">-0.00976959</td><td style = \"text-align: right;\">-0.0095374</td><td style = \"text-align: right;\">-0.0122657</td><td style = \"text-align: right;\">-0.00166696</td><td style = \"text-align: right;\">-0.00786506</td><td style = \"text-align: right;\">0.0233728</td><td style = \"text-align: right;\">-0.0177604</td><td style = \"text-align: right;\">-0.00195348</td><td style = \"text-align: right;\">-0.00211588</td><td style = \"text-align: right;\">0.000394314</td><td style = \"text-align: right;\">-0.0010705</td><td style = \"text-align: right;\">-0.0115492</td><td style = \"text-align: right;\">-0.00695953</td><td style = \"text-align: right;\">-0.00775795</td><td style = \"text-align: right;\">-0.00209632</td><td style = \"text-align: right;\">-0.00457459</td><td style = \"text-align: right;\">-0.0144269</td><td style = \"text-align: right;\">0.00198535</td><td style = \"text-align: right;\">-0.011487</td><td style = \"text-align: right;\">8.85068e-5</td><td style = \"text-align: right;\">-0.0124383</td><td style = \"text-align: right;\">-0.0108005</td><td style = \"text-align: right;\">-0.0160446</td><td style = \"text-align: right;\">-0.0102355</td><td style = \"text-align: right;\">-0.00681193</td><td style = \"text-align: right;\">-0.0125467</td><td style = \"text-align: right;\">0.000481323</td><td style = \"text-align: right;\">-0.00123101</td><td style = \"text-align: right;\">-0.0122133</td><td style = \"text-align: right;\">-0.0101441</td><td style = \"text-align: right;\">-0.00883081</td><td style = \"text-align: right;\">0.0129286</td><td style = \"text-align: right;\">-0.0224887</td><td style = \"text-align: right;\">-0.0104914</td><td style = \"text-align: right;\">0.034159</td><td style = \"text-align: right;\">0.00568113</td><td style = \"text-align: right;\">-0.00244992</td><td style = \"text-align: right;\">-0.0153598</td><td style = \"text-align: right;\">-0.00437851</td><td style = \"text-align: right;\">0.00659177</td><td style = \"text-align: right;\">-0.00893661</td><td style = \"text-align: right;\">0.00378442</td><td style = \"text-align: right;\">0.00955646</td><td style = \"text-align: right;\">-0.0257642</td><td style = \"text-align: right;\">-0.0167596</td><td style = \"text-align: right;\">-0.00620578</td><td style = \"text-align: right;\">0.0064682</td><td style = \"text-align: right;\">0.00789164</td><td style = \"text-align: right;\">-0.0099822</td><td style = \"text-align: right;\">-0.00148042</td><td style = \"text-align: right;\">-0.00168143</td><td style = \"text-align: right;\">-0.020982</td><td style = \"text-align: right;\">0.0138363</td><td style = \"text-align: right;\">-0.00148987</td><td style = \"text-align: right;\">0.00650834</td><td style = \"text-align: right;\">-0.0108831</td><td style = \"text-align: right;\">-0.0205136</td><td style = \"text-align: right;\">0.00658005</td><td style = \"text-align: right;\">-0.00675988</td><td style = \"text-align: right;\">-0.0325005</td><td style = \"text-align: right;\">-0.011588</td><td style = \"text-align: right;\">0.0525335</td><td style = \"text-align: right;\">-0.0145617</td><td style = \"text-align: right;\">-0.0128473</td><td style = \"text-align: right;\">-0.00379046</td><td style = \"text-align: right;\">-0.00439608</td><td style = \"text-align: right;\">0.00117016</td><td style = \"text-align: right;\">-0.0106862</td><td style = \"text-align: right;\">-0.00888051</td><td style = \"text-align: right;\">0.0179297</td><td style = \"text-align: right;\">0.000807462</td><td style = \"text-align: right;\">0.00802235</td><td style = \"text-align: right;\">-0.00775117</td><td style = \"text-align: right;\">-0.00196544</td><td style = \"text-align: right;\">0.00778776</td><td style = \"text-align: right;\">-0.0190154</td><td style = \"text-align: right;\">0.0109742</td><td style = \"text-align: right;\">-0.0157294</td><td style = \"text-align: right;\">-0.00866051</td><td style = \"text-align: right;\">-0.0146809</td><td style = \"text-align: right;\">0.0111915</td><td style = \"text-align: right;\">-0.0139812</td><td style = \"text-align: right;\">-0.00153929</td><td style = \"text-align: right;\">-0.0166993</td><td style = \"text-align: right;\">-0.069151</td><td style = \"text-align: right;\">0.0054904</td><td style = \"text-align: right;\">0.0180049</td><td style = \"text-align: right;\">-0.0143807</td><td style = \"text-align: right;\">-0.0136814</td><td style = \"text-align: right;\">-0.00692055</td><td style = \"text-align: right;\">-0.0208292</td><td style = \"text-align: right;\">0.0034213</td><td style = \"text-align: right;\">0.00820394</td><td style = \"text-align: right;\">-0.00949806</td><td style = \"text-align: right;\">-0.00237878</td><td style = \"text-align: right;\">-0.00862488</td><td style = \"text-align: right;\">&ctdot;</td></tr><tr><td class = \"rowNumber\" style = \"font-weight: bold; text-align: right;\">2</td><td style = \"text-align: right;\">0.0029518</td><td style = \"text-align: right;\">-0.0235305</td><td style = \"text-align: right;\">-0.0120067</td><td style = \"text-align: right;\">-0.0165713</td><td style = \"text-align: right;\">0.00793653</td><td style = \"text-align: right;\">0.0078607</td><td style = \"text-align: right;\">0.00522526</td><td style = \"text-align: right;\">-0.00655134</td><td style = \"text-align: right;\">0.00570982</td><td style = \"text-align: right;\">0.0103416</td><td style = \"text-align: right;\">-0.0118184</td><td style = \"text-align: right;\">-0.00785335</td><td style = \"text-align: right;\">0.00135238</td><td style = \"text-align: right;\">0.0009195</td><td style = \"text-align: right;\">0.00331488</td><td style = \"text-align: right;\">0.0115492</td><td style = \"text-align: right;\">-0.00283507</td><td style = \"text-align: right;\">0.000778381</td><td style = \"text-align: right;\">0.00460581</td><td style = \"text-align: right;\">0.00354718</td><td style = \"text-align: right;\">-0.00111815</td><td style = \"text-align: right;\">-0.0034768</td><td style = \"text-align: right;\">0.0192124</td><td style = \"text-align: right;\">0.00292085</td><td style = \"text-align: right;\">-0.00185905</td><td style = \"text-align: right;\">-0.0132498</td><td style = \"text-align: right;\">-0.0218007</td><td style = \"text-align: right;\">-0.00433033</td><td style = \"text-align: right;\">0.00764462</td><td style = \"text-align: right;\">0.00328561</td><td style = \"text-align: right;\">-0.0002624</td><td style = \"text-align: right;\">-0.00493816</td><td style = \"text-align: right;\">0.0147759</td><td style = \"text-align: right;\">-0.00930496</td><td style = \"text-align: right;\">0.00631582</td><td style = \"text-align: right;\">-0.00194829</td><td style = \"text-align: right;\">-0.000442377</td><td style = \"text-align: right;\">-0.00519443</td><td style = \"text-align: right;\">-0.0226425</td><td style = \"text-align: right;\">0.00242475</td><td style = \"text-align: right;\">0.000545204</td><td style = \"text-align: right;\">-0.0110409</td><td style = \"text-align: right;\">-0.0201927</td><td style = \"text-align: right;\">-0.00135085</td><td style = \"text-align: right;\">0.0117795</td><td style = \"text-align: right;\">0.000839141</td><td style = \"text-align: right;\">0.00167144</td><td style = \"text-align: right;\">-0.0014971</td><td style = \"text-align: right;\">-0.0110104</td><td style = \"text-align: right;\">-0.012686</td><td style = \"text-align: right;\">-0.00190302</td><td style = \"text-align: right;\">-0.0187861</td><td style = \"text-align: right;\">-0.00434332</td><td style = \"text-align: right;\">-0.0189241</td><td style = \"text-align: right;\">0.00294067</td><td style = \"text-align: right;\">-0.00143387</td><td style = \"text-align: right;\">-0.00930699</td><td style = \"text-align: right;\">0.00833834</td><td style = \"text-align: right;\">0.00232107</td><td style = \"text-align: right;\">0.0139603</td><td style = \"text-align: right;\">0.00793986</td><td style = \"text-align: right;\">-0.00727514</td><td style = \"text-align: right;\">-0.00110058</td><td style = \"text-align: right;\">0.0158675</td><td style = \"text-align: right;\">-0.000103147</td><td style = \"text-align: right;\">0.049911</td><td style = \"text-align: right;\">0.0142123</td><td style = \"text-align: right;\">0.00930623</td><td style = \"text-align: right;\">0.000392763</td><td style = \"text-align: right;\">-0.00879192</td><td style = \"text-align: right;\">-0.00469089</td><td style = \"text-align: right;\">0.000853443</td><td style = \"text-align: right;\">0.00318066</td><td style = \"text-align: right;\">0.025929</td><td style = \"text-align: right;\">0.0090006</td><td style = \"text-align: right;\">0.00915871</td><td style = \"text-align: right;\">0.00819221</td><td style = \"text-align: right;\">0.0135915</td><td style = \"text-align: right;\">0.00700141</td><td style = \"text-align: right;\">-0.00314157</td><td style = \"text-align: right;\">0.0108421</td><td style = \"text-align: right;\">0.00265788</td><td style = \"text-align: right;\">0.00538423</td><td style = \"text-align: right;\">0.00827211</td><td style = \"text-align: right;\">0.0203094</td><td style = \"text-align: right;\">-0.000673915</td><td style = \"text-align: right;\">0.00818346</td><td style = \"text-align: right;\">-0.00584579</td><td style = \"text-align: right;\">0.0175961</td><td style = \"text-align: right;\">-0.00845933</td><td style = \"text-align: right;\">0.014588</td><td style = \"text-align: right;\">0.00608766</td><td style = \"text-align: right;\">-0.0110813</td><td style = \"text-align: right;\">-0.00173769</td><td style = \"text-align: right;\">-0.00527575</td><td style = \"text-align: right;\">0.00383504</td><td style = \"text-align: right;\">0.00600859</td><td style = \"text-align: right;\">0.001022</td><td style = \"text-align: right;\">0.00267564</td><td style = \"text-align: right;\">0.0182401</td><td style = \"text-align: right;\">&ctdot;</td></tr><tr><td class = \"rowNumber\" style = \"font-weight: bold; text-align: right;\">3</td><td style = \"text-align: right;\">0.00306068</td><td style = \"text-align: right;\">0.0151229</td><td style = \"text-align: right;\">-0.00366705</td><td style = \"text-align: right;\">-0.0119329</td><td style = \"text-align: right;\">-0.00471395</td><td style = \"text-align: right;\">-0.00572072</td><td style = \"text-align: right;\">-0.00557479</td><td style = \"text-align: right;\">-0.0218264</td><td style = \"text-align: right;\">-0.000959307</td><td style = \"text-align: right;\">0.000142871</td><td style = \"text-align: right;\">0.0224957</td><td style = \"text-align: right;\">-0.0121188</td><td style = \"text-align: right;\">-0.012178</td><td style = \"text-align: right;\">0.00367038</td><td style = \"text-align: right;\">0.000213483</td><td style = \"text-align: right;\">0.00348884</td><td style = \"text-align: right;\">-0.00950947</td><td style = \"text-align: right;\">-0.00565794</td><td style = \"text-align: right;\">-0.0108155</td><td style = \"text-align: right;\">0.0298193</td><td style = \"text-align: right;\">0.0130629</td><td style = \"text-align: right;\">-0.0108796</td><td style = \"text-align: right;\">-0.00991328</td><td style = \"text-align: right;\">-0.00860915</td><td style = \"text-align: right;\">-0.0120454</td><td style = \"text-align: right;\">-0.00904369</td><td style = \"text-align: right;\">0.0284769</td><td style = \"text-align: right;\">-0.00289734</td><td style = \"text-align: right;\">-0.00944944</td><td style = \"text-align: right;\">-0.0121205</td><td style = \"text-align: right;\">-0.0215386</td><td style = \"text-align: right;\">-0.0149628</td><td style = \"text-align: right;\">0.00208944</td><td style = \"text-align: right;\">0.00813687</td><td style = \"text-align: right;\">-0.0067385</td><td style = \"text-align: right;\">0.237394</td><td style = \"text-align: right;\">0.0042407</td><td style = \"text-align: right;\">0.00537949</td><td style = \"text-align: right;\">0.0226425</td><td style = \"text-align: right;\">-0.0332746</td><td style = \"text-align: right;\">-0.00683395</td><td style = \"text-align: right;\">0.00213787</td><td style = \"text-align: right;\">0.0108858</td><td style = \"text-align: right;\">0.00664684</td><td style = \"text-align: right;\">0.0147942</td><td style = \"text-align: right;\">-0.00715489</td><td style = \"text-align: right;\">-0.0219983</td><td style = \"text-align: right;\">-0.00344845</td><td style = \"text-align: right;\">0.0141001</td><td style = \"text-align: right;\">-0.00220912</td><td style = \"text-align: right;\">-0.00623026</td><td style = \"text-align: right;\">-0.0081603</td><td style = \"text-align: right;\">-0.00525295</td><td style = \"text-align: right;\">-0.0175938</td><td style = \"text-align: right;\">0.0105512</td><td style = \"text-align: right;\">-0.00662151</td><td style = \"text-align: right;\">-0.00390329</td><td style = \"text-align: right;\">0.00567169</td><td style = \"text-align: right;\">-0.0106828</td><td style = \"text-align: right;\">-0.00238034</td><td style = \"text-align: right;\">0.0106195</td><td style = \"text-align: right;\">-0.00838014</td><td style = \"text-align: right;\">0.0</td><td style = \"text-align: right;\">0.00557509</td><td style = \"text-align: right;\">-0.00251334</td><td style = \"text-align: right;\">-0.00345274</td><td style = \"text-align: right;\">0.0226168</td><td style = \"text-align: right;\">0.0100011</td><td style = \"text-align: right;\">-0.00249045</td><td style = \"text-align: right;\">0.0100354</td><td style = \"text-align: right;\">-0.0169934</td><td style = \"text-align: right;\">0.00636877</td><td style = \"text-align: right;\">0.0149717</td><td style = \"text-align: right;\">-0.0105954</td><td style = \"text-align: right;\">-0.00352637</td><td style = \"text-align: right;\">-0.0144996</td><td style = \"text-align: right;\">0.001102</td><td style = \"text-align: right;\">0.00935827</td><td style = \"text-align: right;\">-0.017522</td><td style = \"text-align: right;\">-0.00872261</td><td style = \"text-align: right;\">0.00287886</td><td style = \"text-align: right;\">-0.0138245</td><td style = \"text-align: right;\">-0.0364561</td><td style = \"text-align: right;\">0.000401744</td><td style = \"text-align: right;\">6.0946e-5</td><td style = \"text-align: right;\">-0.0133011</td><td style = \"text-align: right;\">-0.0201953</td><td style = \"text-align: right;\">-0.00173866</td><td style = \"text-align: right;\">-0.00700148</td><td style = \"text-align: right;\">-0.0170639</td><td style = \"text-align: right;\">0.0051588</td><td style = \"text-align: right;\">0.00310036</td><td style = \"text-align: right;\">-0.00389074</td><td style = \"text-align: right;\">-0.00917236</td><td style = \"text-align: right;\">-0.00631726</td><td style = \"text-align: right;\">-0.00968672</td><td style = \"text-align: right;\">0.00343162</td><td style = \"text-align: right;\">-0.00580504</td><td style = \"text-align: right;\">-0.0125485</td><td style = \"text-align: right;\">0.00486901</td><td style = \"text-align: right;\">&ctdot;</td></tr><tr><td class = \"rowNumber\" style = \"font-weight: bold; text-align: right;\">4</td><td style = \"text-align: right;\">0.00982453</td><td style = \"text-align: right;\">-0.0411738</td><td style = \"text-align: right;\">0.0225219</td><td style = \"text-align: right;\">-0.0115549</td><td style = \"text-align: right;\">0.0159581</td><td style = \"text-align: right;\">0.0070622</td><td style = \"text-align: right;\">0.00406819</td><td style = \"text-align: right;\">0.00195934</td><td style = \"text-align: right;\">0.0133482</td><td style = \"text-align: right;\">-0.00171614</td><td style = \"text-align: right;\">0.00899098</td><td style = \"text-align: right;\">-0.011146</td><td style = \"text-align: right;\">0.00935378</td><td style = \"text-align: right;\">-0.00170237</td><td style = \"text-align: right;\">-0.00299302</td><td style = \"text-align: right;\">-0.00199228</td><td style = \"text-align: right;\">0.00305269</td><td style = \"text-align: right;\">0.011671</td><td style = \"text-align: right;\">0.00137166</td><td style = \"text-align: right;\">0.0132161</td><td style = \"text-align: right;\">-0.0174087</td><td style = \"text-align: right;\">0.00876308</td><td style = \"text-align: right;\">0.0103329</td><td style = \"text-align: right;\">0.00275936</td><td style = \"text-align: right;\">0.00424882</td><td style = \"text-align: right;\">0.0186673</td><td style = \"text-align: right;\">-0.0006496</td><td style = \"text-align: right;\">-0.00874273</td><td style = \"text-align: right;\">0.000755808</td><td style = \"text-align: right;\">0.00895474</td><td style = \"text-align: right;\">0.00863574</td><td style = \"text-align: right;\">-0.00377607</td><td style = \"text-align: right;\">-0.00783929</td><td style = \"text-align: right;\">0.0041213</td><td style = \"text-align: right;\">-0.00147989</td><td style = \"text-align: right;\">0.00674451</td><td style = \"text-align: right;\">0.00540709</td><td style = \"text-align: right;\">0.00240208</td><td style = \"text-align: right;\">-0.0497235</td><td style = \"text-align: right;\">0.0132025</td><td style = \"text-align: right;\">0.00109674</td><td style = \"text-align: right;\">-0.00857892</td><td style = \"text-align: right;\">-0.0320027</td><td style = \"text-align: right;\">-0.00863157</td><td style = \"text-align: right;\">0.00800978</td><td style = \"text-align: right;\">-0.0108292</td><td style = \"text-align: right;\">0.00413764</td><td style = \"text-align: right;\">-0.0125527</td><td style = \"text-align: right;\">-0.000474894</td><td style = \"text-align: right;\">0.00299672</td><td style = \"text-align: right;\">0.00407474</td><td style = \"text-align: right;\">-0.00738987</td><td style = \"text-align: right;\">0.0171122</td><td style = \"text-align: right;\">0.00184048</td><td style = \"text-align: right;\">-0.0176779</td><td style = \"text-align: right;\">0.010059</td><td style = \"text-align: right;\">0.00856761</td><td style = \"text-align: right;\">0.00271077</td><td style = \"text-align: right;\">0.00932952</td><td style = \"text-align: right;\">0.0024536</td><td style = \"text-align: right;\">-0.00549241</td><td style = \"text-align: right;\">-0.0114608</td><td style = \"text-align: right;\">0.00494292</td><td style = \"text-align: right;\">0.00823233</td><td style = \"text-align: right;\">0.00882033</td><td style = \"text-align: right;\">0.0302344</td><td style = \"text-align: right;\">0.00327942</td><td style = \"text-align: right;\">0.00117</td><td style = \"text-align: right;\">-0.00144462</td><td style = \"text-align: right;\">-0.00249352</td><td style = \"text-align: right;\">-0.012836</td><td style = \"text-align: right;\">-0.000236568</td><td style = \"text-align: right;\">-0.00109572</td><td style = \"text-align: right;\">-0.0153337</td><td style = \"text-align: right;\">0.00640223</td><td style = \"text-align: right;\">-0.00390245</td><td style = \"text-align: right;\">0.00527237</td><td style = \"text-align: right;\">-0.00389575</td><td style = \"text-align: right;\">-0.00533895</td><td style = \"text-align: right;\">0.00758939</td><td style = \"text-align: right;\">-0.00320139</td><td style = \"text-align: right;\">0.00506811</td><td style = \"text-align: right;\">-0.014021</td><td style = \"text-align: right;\">0.00540812</td><td style = \"text-align: right;\">-0.00684614</td><td style = \"text-align: right;\">0.00884165</td><td style = \"text-align: right;\">-0.00684521</td><td style = \"text-align: right;\">0.00455768</td><td style = \"text-align: right;\">0.00641986</td><td style = \"text-align: right;\">0.00416838</td><td style = \"text-align: right;\">0.017777</td><td style = \"text-align: right;\">0.0168821</td><td style = \"text-align: right;\">-0.00782704</td><td style = \"text-align: right;\">0.00459674</td><td style = \"text-align: right;\">0.00782745</td><td style = \"text-align: right;\">-0.00905848</td><td style = \"text-align: right;\">0.0032202</td><td style = \"text-align: right;\">-0.0200629</td><td style = \"text-align: right;\">-0.031458</td><td style = \"text-align: right;\">0.0165981</td><td style = \"text-align: right;\">&ctdot;</td></tr><tr><td class = \"rowNumber\" style = \"font-weight: bold; text-align: right;\">5</td><td style = \"text-align: right;\">0.0155901</td><td style = \"text-align: right;\">-0.0322847</td><td style = \"text-align: right;\">0.00394341</td><td style = \"text-align: right;\">-0.00189513</td><td style = \"text-align: right;\">0.0210185</td><td style = \"text-align: right;\">0.00767833</td><td style = \"text-align: right;\">0.00266433</td><td style = \"text-align: right;\">0.00886777</td><td style = \"text-align: right;\">0.00760712</td><td style = \"text-align: right;\">-0.00387168</td><td style = \"text-align: right;\">0.0</td><td style = \"text-align: right;\">-0.0103649</td><td style = \"text-align: right;\">0.00879945</td><td style = \"text-align: right;\">0.0037933</td><td style = \"text-align: right;\">0.00501918</td><td style = \"text-align: right;\">0.00992071</td><td style = \"text-align: right;\">0.000190701</td><td style = \"text-align: right;\">0.0109627</td><td style = \"text-align: right;\">0.00975689</td><td style = \"text-align: right;\">0.019395</td><td style = \"text-align: right;\">0.0216796</td><td style = \"text-align: right;\">0.00893398</td><td style = \"text-align: right;\">0.0361903</td><td style = \"text-align: right;\">0.0113136</td><td style = \"text-align: right;\">0.00179211</td><td style = \"text-align: right;\">-0.0016527</td><td style = \"text-align: right;\">0.00631348</td><td style = \"text-align: right;\">0.0235548</td><td style = \"text-align: right;\">0.00297613</td><td style = \"text-align: right;\">0.0102974</td><td style = \"text-align: right;\">0.00376044</td><td style = \"text-align: right;\">0.00126041</td><td style = \"text-align: right;\">0.0047877</td><td style = \"text-align: right;\">0.014254</td><td style = \"text-align: right;\">-0.00445331</td><td style = \"text-align: right;\">-0.00397976</td><td style = \"text-align: right;\">0.0234417</td><td style = \"text-align: right;\">0.00350033</td><td style = \"text-align: right;\">-0.0606246</td><td style = \"text-align: right;\">-0.00355426</td><td style = \"text-align: right;\">-0.000822054</td><td style = \"text-align: right;\">0.00053824</td><td style = \"text-align: right;\">-0.0293911</td><td style = \"text-align: right;\">0.00324554</td><td style = \"text-align: right;\">-0.00208332</td><td style = \"text-align: right;\">0.00106697</td><td style = \"text-align: right;\">0.00232877</td><td style = \"text-align: right;\">-0.0080652</td><td style = \"text-align: right;\">0.0118011</td><td style = \"text-align: right;\">0.0136089</td><td style = \"text-align: right;\">0.0135193</td><td style = \"text-align: right;\">0.0038209</td><td style = \"text-align: right;\">0.0179203</td><td style = \"text-align: right;\">-0.00183174</td><td style = \"text-align: right;\">0.014887</td><td style = \"text-align: right;\">0.00171422</td><td style = \"text-align: right;\">0.034305</td><td style = \"text-align: right;\">0.00808931</td><td style = \"text-align: right;\">-0.0106973</td><td style = \"text-align: right;\">0.000511776</td><td style = \"text-align: right;\">-0.00869217</td><td style = \"text-align: right;\">-0.00729746</td><td style = \"text-align: right;\">-0.00954144</td><td style = \"text-align: right;\">0.0217454</td><td style = \"text-align: right;\">0.00558808</td><td style = \"text-align: right;\">-0.0289382</td><td style = \"text-align: right;\">0.0180143</td><td style = \"text-align: right;\">0.00330778</td><td style = \"text-align: right;\">0.0100687</td><td style = \"text-align: right;\">0.0103159</td><td style = \"text-align: right;\">0.0108414</td><td style = \"text-align: right;\">0.0117625</td><td style = \"text-align: right;\">0.0245931</td><td style = \"text-align: right;\">0.00334205</td><td style = \"text-align: right;\">0.0216217</td><td style = \"text-align: right;\">-0.02324</td><td style = \"text-align: right;\">0.00153256</td><td style = \"text-align: right;\">-0.000557805</td><td style = \"text-align: right;\">0.000519872</td><td style = \"text-align: right;\">0.00903188</td><td style = \"text-align: right;\">0.0203715</td><td style = \"text-align: right;\">-0.000808263</td><td style = \"text-align: right;\">0.0106117</td><td style = \"text-align: right;\">0.00478278</td><td style = \"text-align: right;\">0.00721193</td><td style = \"text-align: right;\">-0.00250842</td><td style = \"text-align: right;\">0.00703988</td><td style = \"text-align: right;\">-0.0139558</td><td style = \"text-align: right;\">-0.0265268</td><td style = \"text-align: right;\">0.00572014</td><td style = \"text-align: right;\">0.0180341</td><td style = \"text-align: right;\">0.0148314</td><td style = \"text-align: right;\">0.00663995</td><td style = \"text-align: right;\">-0.00481625</td><td style = \"text-align: right;\">0.00651795</td><td style = \"text-align: right;\">0.00748269</td><td style = \"text-align: right;\">0.0129162</td><td style = \"text-align: right;\">0.0279088</td><td style = \"text-align: right;\">0.00124053</td><td style = \"text-align: right;\">-0.0026525</td><td style = \"text-align: right;\">&ctdot;</td></tr><tr><td class = \"rowNumber\" style = \"font-weight: bold; text-align: right;\">6</td><td style = \"text-align: right;\">0.00366022</td><td style = \"text-align: right;\">-0.0183398</td><td style = \"text-align: right;\">-0.0227982</td><td style = \"text-align: right;\">-0.0255748</td><td style = \"text-align: right;\">0.00225799</td><td style = \"text-align: right;\">-0.0128299</td><td style = \"text-align: right;\">-0.0125729</td><td style = \"text-align: right;\">0.0072982</td><td style = \"text-align: right;\">-0.00188168</td><td style = \"text-align: right;\">0.00772891</td><td style = \"text-align: right;\">-0.0174732</td><td style = \"text-align: right;\">-0.0045405</td><td style = \"text-align: right;\">-0.000700932</td><td style = \"text-align: right;\">0.00546884</td><td style = \"text-align: right;\">0.00488779</td><td style = \"text-align: right;\">-0.00395607</td><td style = \"text-align: right;\">-0.00822457</td><td style = \"text-align: right;\">-0.00479315</td><td style = \"text-align: right;\">-0.00355599</td><td style = \"text-align: right;\">0.00364178</td><td style = \"text-align: right;\">-0.00883755</td><td style = \"text-align: right;\">-0.0012359</td><td style = \"text-align: right;\">-0.0108839</td><td style = \"text-align: right;\">-0.00290468</td><td style = \"text-align: right;\">0.0045472</td><td style = \"text-align: right;\">-0.00930527</td><td style = \"text-align: right;\">-0.00810115</td><td style = \"text-align: right;\">-0.0164715</td><td style = \"text-align: right;\">-0.00280818</td><td style = \"text-align: right;\">0.00171582</td><td style = \"text-align: right;\">0.018939</td><td style = \"text-align: right;\">0.00877746</td><td style = \"text-align: right;\">-0.00945516</td><td style = \"text-align: right;\">-0.00241275</td><td style = \"text-align: right;\">0.0120419</td><td style = \"text-align: right;\">-0.00677129</td><td style = \"text-align: right;\">-0.00644461</td><td style = \"text-align: right;\">-0.00396188</td><td style = \"text-align: right;\">-0.0125789</td><td style = \"text-align: right;\">0.00823169</td><td style = \"text-align: right;\">-0.00109753</td><td style = \"text-align: right;\">0.000806817</td><td style = \"text-align: right;\">-0.0498897</td><td style = \"text-align: right;\">0.00260699</td><td style = \"text-align: right;\">-0.0253446</td><td style = \"text-align: right;\">0.00701283</td><td style = \"text-align: right;\">0.0101254</td><td style = \"text-align: right;\">-0.0232552</td><td style = \"text-align: right;\">-0.00352579</td><td style = \"text-align: right;\">-0.00171048</td><td style = \"text-align: right;\">0.00351467</td><td style = \"text-align: right;\">0.00142916</td><td style = \"text-align: right;\">-0.00415544</td><td style = \"text-align: right;\">-0.0115649</td><td style = \"text-align: right;\">-0.0192723</td><td style = \"text-align: right;\">-0.00831293</td><td style = \"text-align: right;\">-0.00676765</td><td style = \"text-align: right;\">0.0142208</td><td style = \"text-align: right;\">0.0219514</td><td style = \"text-align: right;\">0.00335774</td><td style = \"text-align: right;\">-0.00716842</td><td style = \"text-align: right;\">-0.00573263</td><td style = \"text-align: right;\">0.00276165</td><td style = \"text-align: right;\">0.0255822</td><td style = \"text-align: right;\">0.00748136</td><td style = \"text-align: right;\">-0.0720509</td><td style = \"text-align: right;\">-0.0134933</td><td style = \"text-align: right;\">-0.0184284</td><td style = \"text-align: right;\">0.00777616</td><td style = \"text-align: right;\">0.00125121</td><td style = \"text-align: right;\">-0.00721469</td><td style = \"text-align: right;\">-0.00179486</td><td style = \"text-align: right;\">-0.00336663</td><td style = \"text-align: right;\">-0.0056626</td><td style = \"text-align: right;\">-0.00398959</td><td style = \"text-align: right;\">0.0114402</td><td style = \"text-align: right;\">-0.000875485</td><td style = \"text-align: right;\">-0.00719318</td><td style = \"text-align: right;\">0.00385717</td><td style = \"text-align: right;\">-0.0104189</td><td style = \"text-align: right;\">0.0210055</td><td style = \"text-align: right;\">0.00637895</td><td style = \"text-align: right;\">-0.0118676</td><td style = \"text-align: right;\">0.00653913</td><td style = \"text-align: right;\">0.0228773</td><td style = \"text-align: right;\">-0.00804255</td><td style = \"text-align: right;\">-0.019414</td><td style = \"text-align: right;\">-0.0157133</td><td style = \"text-align: right;\">-0.0186921</td><td style = \"text-align: right;\">0.0152134</td><td style = \"text-align: right;\">-0.0074033</td><td style = \"text-align: right;\">-0.00450854</td><td style = \"text-align: right;\">-0.00723806</td><td style = \"text-align: right;\">-0.0177113</td><td style = \"text-align: right;\">-0.0125725</td><td style = \"text-align: right;\">0.0050054</td><td style = \"text-align: right;\">-0.00444529</td><td style = \"text-align: right;\">-0.00681901</td><td style = \"text-align: right;\">-0.0074652</td><td style = \"text-align: right;\">-0.00270705</td><td style = \"text-align: right;\">&ctdot;</td></tr><tr><td class = \"rowNumber\" style = \"font-weight: bold; text-align: right;\">7</td><td style = \"text-align: right;\">-0.0014855</td><td style = \"text-align: right;\">0.00819257</td><td style = \"text-align: right;\">0.00255895</td><td style = \"text-align: right;\">-0.025488</td><td style = \"text-align: right;\">0.0211394</td><td style = \"text-align: right;\">-0.00608228</td><td style = \"text-align: right;\">-0.00281537</td><td style = \"text-align: right;\">0.00925106</td><td style = \"text-align: right;\">0.0169822</td><td style = \"text-align: right;\">0.0138754</td><td style = \"text-align: right;\">0.00412425</td><td style = \"text-align: right;\">0.0106371</td><td style = \"text-align: right;\">0.00739562</td><td style = \"text-align: right;\">0.0080186</td><td style = \"text-align: right;\">0.00306918</td><td style = \"text-align: right;\">0.00642106</td><td style = \"text-align: right;\">0.00822457</td><td style = \"text-align: right;\">0.0112756</td><td style = \"text-align: right;\">-0.000733341</td><td style = \"text-align: right;\">0.0122206</td><td style = \"text-align: right;\">0.0508358</td><td style = \"text-align: right;\">0.00714832</td><td style = \"text-align: right;\">0.0160302</td><td style = \"text-align: right;\">0.0090382</td><td style = \"text-align: right;\">0.00983576</td><td style = \"text-align: right;\">0.00200098</td><td style = \"text-align: right;\">0.00551576</td><td style = \"text-align: right;\">0.0119688</td><td style = \"text-align: right;\">-0.00564005</td><td style = \"text-align: right;\">0.003364</td><td style = \"text-align: right;\">0.0197771</td><td style = \"text-align: right;\">-0.00250007</td><td style = \"text-align: right;\">0.00431326</td><td style = \"text-align: right;\">0.0123846</td><td style = \"text-align: right;\">0.0191352</td><td style = \"text-align: right;\">-0.0114928</td><td style = \"text-align: right;\">0.0207319</td><td style = \"text-align: right;\">0.00726689</td><td style = \"text-align: right;\">-0.00847462</td><td style = \"text-align: right;\">0.013841</td><td style = \"text-align: right;\">0.0117343</td><td style = \"text-align: right;\">0.00656636</td><td style = \"text-align: right;\">0.0163669</td><td style = \"text-align: right;\">0.010271</td><td style = \"text-align: right;\">0.0322722</td><td style = \"text-align: right;\">0.0084357</td><td style = \"text-align: right;\">0.0122539</td><td style = \"text-align: right;\">0.00652902</td><td style = \"text-align: right;\">0.00211711</td><td style = \"text-align: right;\">0.0188089</td><td style = \"text-align: right;\">0.00958182</td><td style = \"text-align: right;\">0.00959301</td><td style = \"text-align: right;\">0.00985084</td><td style = \"text-align: right;\">-0.00340617</td><td style = \"text-align: right;\">0.000908874</td><td style = \"text-align: right;\">0.00916925</td><td style = \"text-align: right;\">0.0183904</td><td style = \"text-align: right;\">0.00670661</td><td style = \"text-align: right;\">0.0176341</td><td style = \"text-align: right;\">0.00631979</td><td style = \"text-align: right;\">0.0193948</td><td style = \"text-align: right;\">0.00215354</td><td style = \"text-align: right;\">0.00659718</td><td style = \"text-align: right;\">-0.0156923</td><td style = \"text-align: right;\">-0.00884142</td><td style = \"text-align: right;\">0.020212</td><td style = \"text-align: right;\">0.00161537</td><td style = \"text-align: right;\">0.00670476</td><td style = \"text-align: right;\">0.0146099</td><td style = \"text-align: right;\">-0.00307159</td><td style = \"text-align: right;\">-0.0182671</td><td style = \"text-align: right;\">0.0211158</td><td style = \"text-align: right;\">0.0140053</td><td style = \"text-align: right;\">0.00154769</td><td style = \"text-align: right;\">0.00702934</td><td style = \"text-align: right;\">0.014728</td><td style = \"text-align: right;\">-0.00438879</td><td style = \"text-align: right;\">-4.32055e-5</td><td style = \"text-align: right;\">0.0124335</td><td style = \"text-align: right;\">0.0175114</td><td style = \"text-align: right;\">0.0449425</td><td style = \"text-align: right;\">0.0132036</td><td style = \"text-align: right;\">0.00626367</td><td style = \"text-align: right;\">-0.00375977</td><td style = \"text-align: right;\">0.00540162</td><td style = \"text-align: right;\">0.00471083</td><td style = \"text-align: right;\">-0.000596225</td><td style = \"text-align: right;\">0.0220613</td><td style = \"text-align: right;\">0.0276127</td><td style = \"text-align: right;\">0.00623052</td><td style = \"text-align: right;\">0.0158778</td><td style = \"text-align: right;\">0.00491738</td><td style = \"text-align: right;\">0.0095261</td><td style = \"text-align: right;\">0.0126515</td><td style = \"text-align: right;\">0.00856658</td><td style = \"text-align: right;\">0.0102185</td><td style = \"text-align: right;\">0.010087</td><td style = \"text-align: right;\">0.0431867</td><td style = \"text-align: right;\">-0.0160506</td><td style = \"text-align: right;\">-0.0327246</td><td style = \"text-align: right;\">&ctdot;</td></tr><tr><td class = \"rowNumber\" style = \"font-weight: bold; text-align: right;\">8</td><td style = \"text-align: right;\">0.00604186</td><td style = \"text-align: right;\">0.0380235</td><td style = \"text-align: right;\">0.0050984</td><td style = \"text-align: right;\">0.0247497</td><td style = \"text-align: right;\">-0.0135954</td><td style = \"text-align: right;\">0.00979897</td><td style = \"text-align: right;\">0.0114954</td><td style = \"text-align: right;\">-0.00891415</td><td style = \"text-align: right;\">-0.00289746</td><td style = \"text-align: right;\">-0.00323902</td><td style = \"text-align: right;\">0.00393952</td><td style = \"text-align: right;\">0.00179963</td><td style = \"text-align: right;\">-0.00657798</td><td style = \"text-align: right;\">-0.000257572</td><td style = \"text-align: right;\">0.00369187</td><td style = \"text-align: right;\">0.00442143</td><td style = \"text-align: right;\">-0.00573075</td><td style = \"text-align: right;\">-0.00533539</td><td style = \"text-align: right;\">-0.00294038</td><td style = \"text-align: right;\">-0.00795296</td><td style = \"text-align: right;\">0.0301244</td><td style = \"text-align: right;\">-0.00245944</td><td style = \"text-align: right;\">-0.035723</td><td style = \"text-align: right;\">-0.00595763</td><td style = \"text-align: right;\">0.000561295</td><td style = \"text-align: right;\">0.00796577</td><td style = \"text-align: right;\">0.00869856</td><td style = \"text-align: right;\">-0.0111387</td><td style = \"text-align: right;\">0.0129165</td><td style = \"text-align: right;\">-0.00774824</td><td style = \"text-align: right;\">-0.00622125</td><td style = \"text-align: right;\">-0.0106953</td><td style = \"text-align: right;\">-0.0116255</td><td style = \"text-align: right;\">-0.00447884</td><td style = \"text-align: right;\">-0.0271471</td><td style = \"text-align: right;\">0.0481802</td><td style = \"text-align: right;\">-0.00992846</td><td style = \"text-align: right;\">0.00356787</td><td style = \"text-align: right;\">0.0816781</td><td style = \"text-align: right;\">-0.00199243</td><td style = \"text-align: right;\">0.00675957</td><td style = \"text-align: right;\">0.00492959</td><td style = \"text-align: right;\">0.0309028</td><td style = \"text-align: right;\">0.00239647</td><td style = \"text-align: right;\">-0.012155</td><td style = \"text-align: right;\">-0.00126108</td><td style = \"text-align: right;\">-0.00718166</td><td style = \"text-align: right;\">0.0229756</td><td style = \"text-align: right;\">-0.0137217</td><td style = \"text-align: right;\">0.00441951</td><td style = \"text-align: right;\">0.0066854</td><td style = \"text-align: right;\">-0.0059108</td><td style = \"text-align: right;\">0.00202069</td><td style = \"text-align: right;\">0.00726722</td><td style = \"text-align: right;\">0.00642953</td><td style = \"text-align: right;\">0.00738863</td><td style = \"text-align: right;\">-0.0141738</td><td style = \"text-align: right;\">-0.00869454</td><td style = \"text-align: right;\">0.00440702</td><td style = \"text-align: right;\">-0.000869384</td><td style = \"text-align: right;\">-0.0102442</td><td style = \"text-align: right;\">-0.00323221</td><td style = \"text-align: right;\">0.00800428</td><td style = \"text-align: right;\">-0.0157283</td><td style = \"text-align: right;\">0.0171037</td><td style = \"text-align: right;\">0.0392383</td><td style = \"text-align: right;\">5.20344e-5</td><td style = \"text-align: right;\">0.0025519</td><td style = \"text-align: right;\">0.00114428</td><td style = \"text-align: right;\">-0.00434476</td><td style = \"text-align: right;\">-0.0161059</td><td style = \"text-align: right;\">-0.00919889</td><td style = \"text-align: right;\">0.00437439</td><td style = \"text-align: right;\">0.000515062</td><td style = \"text-align: right;\">-0.00303975</td><td style = \"text-align: right;\">0.00340542</td><td style = \"text-align: right;\">-0.0637911</td><td style = \"text-align: right;\">-0.00663625</td><td style = \"text-align: right;\">-0.00270903</td><td style = \"text-align: right;\">0.015502</td><td style = \"text-align: right;\">-0.0127275</td><td style = \"text-align: right;\">0.00942487</td><td style = \"text-align: right;\">0.00373954</td><td style = \"text-align: right;\">0.0390758</td><td style = \"text-align: right;\">-0.00468754</td><td style = \"text-align: right;\">-0.000954328</td><td style = \"text-align: right;\">-0.000928316</td><td style = \"text-align: right;\">0.000218303</td><td style = \"text-align: right;\">0.0747001</td><td style = \"text-align: right;\">-0.00939539</td><td style = \"text-align: right;\">-0.00197113</td><td style = \"text-align: right;\">-0.010685</td><td style = \"text-align: right;\">0.00270529</td><td style = \"text-align: right;\">0.00176268</td><td style = \"text-align: right;\">0.00375601</td><td style = \"text-align: right;\">0.00492996</td><td style = \"text-align: right;\">-0.00103945</td><td style = \"text-align: right;\">0.0197897</td><td style = \"text-align: right;\">0.0113564</td><td style = \"text-align: right;\">0.00822108</td><td style = \"text-align: right;\">&ctdot;</td></tr><tr><td class = \"rowNumber\" style = \"font-weight: bold; text-align: right;\">9</td><td style = \"text-align: right;\">0.00713438</td><td style = \"text-align: right;\">-0.0093709</td><td style = \"text-align: right;\">0.00181449</td><td style = \"text-align: right;\">0.00875938</td><td style = \"text-align: right;\">-0.0042945</td><td style = \"text-align: right;\">0.0119464</td><td style = \"text-align: right;\">0.0189469</td><td style = \"text-align: right;\">0.00159366</td><td style = \"text-align: right;\">-0.00491588</td><td style = \"text-align: right;\">0.0278218</td><td style = \"text-align: right;\">-0.0170438</td><td style = \"text-align: right;\">-0.00247496</td><td style = \"text-align: right;\">0.00918502</td><td style = \"text-align: right;\">0.00757338</td><td style = \"text-align: right;\">0.0169121</td><td style = \"text-align: right;\">0.00293717</td><td style = \"text-align: right;\">0.00191396</td><td style = \"text-align: right;\">-0.0107569</td><td style = \"text-align: right;\">0.00754304</td><td style = \"text-align: right;\">0.0125895</td><td style = \"text-align: right;\">0.0245115</td><td style = \"text-align: right;\">0.0167251</td><td style = \"text-align: right;\">-0.0481123</td><td style = \"text-align: right;\">0.00403391</td><td style = \"text-align: right;\">0.00479925</td><td style = \"text-align: right;\">0.00264112</td><td style = \"text-align: right;\">-0.00675891</td><td style = \"text-align: right;\">0.00702773</td><td style = \"text-align: right;\">0.0070582</td><td style = \"text-align: right;\">-0.000772263</td><td style = \"text-align: right;\">0.00609399</td><td style = \"text-align: right;\">-0.00380226</td><td style = \"text-align: right;\">-0.00397702</td><td style = \"text-align: right;\">0.00534955</td><td style = \"text-align: right;\">-0.0134259</td><td style = \"text-align: right;\">-0.0014898</td><td style = \"text-align: right;\">0.00400023</td><td style = \"text-align: right;\">-0.0072407</td><td style = \"text-align: right;\">-0.00392927</td><td style = \"text-align: right;\">0.0113402</td><td style = \"text-align: right;\">0.00215369</td><td style = \"text-align: right;\">-0.00346128</td><td style = \"text-align: right;\">-0.00948875</td><td style = \"text-align: right;\">0.00829796</td><td style = \"text-align: right;\">0.00869722</td><td style = \"text-align: right;\">0.00962581</td><td style = \"text-align: right;\">0.0113431</td><td style = \"text-align: right;\">-0.0164892</td><td style = \"text-align: right;\">0.000238423</td><td style = \"text-align: right;\">0.00326374</td><td style = \"text-align: right;\">0.0183738</td><td style = \"text-align: right;\">0.0122559</td><td style = \"text-align: right;\">0.00788806</td><td style = \"text-align: right;\">-0.00203439</td><td style = \"text-align: right;\">-0.0077022</td><td style = \"text-align: right;\">-0.018575</td><td style = \"text-align: right;\">0.0246374</td><td style = \"text-align: right;\">-0.017281</td><td style = \"text-align: right;\">0.00699272</td><td style = \"text-align: right;\">0.00484409</td><td style = \"text-align: right;\">-0.00516185</td><td style = \"text-align: right;\">-0.00396463</td><td style = \"text-align: right;\">-0.00290315</td><td style = \"text-align: right;\">-0.00458059</td><td style = \"text-align: right;\">-0.0198635</td><td style = \"text-align: right;\">0.0069717</td><td style = \"text-align: right;\">-0.0203271</td><td style = \"text-align: right;\">-0.00629306</td><td style = \"text-align: right;\">0.0167606</td><td style = \"text-align: right;\">-0.00305559</td><td style = \"text-align: right;\">-0.0295755</td><td style = \"text-align: right;\">0.0227747</td><td style = \"text-align: right;\">0.00210473</td><td style = \"text-align: right;\">-0.00283754</td><td style = \"text-align: right;\">0.00140397</td><td style = \"text-align: right;\">0.00581093</td><td style = \"text-align: right;\">-0.00211194</td><td style = \"text-align: right;\">-0.0250288</td><td style = \"text-align: right;\">0.00679518</td><td style = \"text-align: right;\">-0.00821312</td><td style = \"text-align: right;\">0.000743113</td><td style = \"text-align: right;\">-0.00213426</td><td style = \"text-align: right;\">-0.00686651</td><td style = \"text-align: right;\">0.025599</td><td style = \"text-align: right;\">-0.00554692</td><td style = \"text-align: right;\">-0.0075962</td><td style = \"text-align: right;\">0.00350951</td><td style = \"text-align: right;\">-0.0149454</td><td style = \"text-align: right;\">-0.0250361</td><td style = \"text-align: right;\">0.0146854</td><td style = \"text-align: right;\">0.0163538</td><td style = \"text-align: right;\">-0.00927019</td><td style = \"text-align: right;\">-0.00211279</td><td style = \"text-align: right;\">0.00505139</td><td style = \"text-align: right;\">-0.0260809</td><td style = \"text-align: right;\">0.00937019</td><td style = \"text-align: right;\">0.011278</td><td style = \"text-align: right;\">-0.0204453</td><td style = \"text-align: right;\">-0.0218812</td><td style = \"text-align: right;\">0.0147067</td><td style = \"text-align: right;\">&ctdot;</td></tr><tr><td class = \"rowNumber\" style = \"font-weight: bold; text-align: right;\">10</td><td style = \"text-align: right;\">0.00943384</td><td style = \"text-align: right;\">-0.126618</td><td style = \"text-align: right;\">0.0232944</td><td style = \"text-align: right;\">0.0114513</td><td style = \"text-align: right;\">0.0124486</td><td style = \"text-align: right;\">0.0</td><td style = \"text-align: right;\">0.0102474</td><td style = \"text-align: right;\">0.00826451</td><td style = \"text-align: right;\">0.00708976</td><td style = \"text-align: right;\">-0.00702197</td><td style = \"text-align: right;\">0.0136918</td><td style = \"text-align: right;\">0.0211753</td><td style = \"text-align: right;\">0.0119077</td><td style = \"text-align: right;\">0.0128328</td><td style = \"text-align: right;\">0.00732331</td><td style = \"text-align: right;\">0.00536158</td><td style = \"text-align: right;\">0.00932544</td><td style = \"text-align: right;\">0.011139</td><td style = \"text-align: right;\">0.0025019</td><td style = \"text-align: right;\">0.00733215</td><td style = \"text-align: right;\">0.00373757</td><td style = \"text-align: right;\">0.0111961</td><td style = \"text-align: right;\">0.0391014</td><td style = \"text-align: right;\">0.0164059</td><td style = \"text-align: right;\">0.0251362</td><td style = \"text-align: right;\">0.0140778</td><td style = \"text-align: right;\">0.0204577</td><td style = \"text-align: right;\">0.0248182</td><td style = \"text-align: right;\">-0.00497703</td><td style = \"text-align: right;\">0.0215151</td><td style = \"text-align: right;\">-0.0134301</td><td style = \"text-align: right;\">0.0324826</td><td style = \"text-align: right;\">0.00851357</td><td style = \"text-align: right;\">0.00952764</td><td style = \"text-align: right;\">0.0216477</td><td style = \"text-align: right;\">-0.0132052</td><td style = \"text-align: right;\">0.00131567</td><td style = \"text-align: right;\">0.00988563</td><td style = \"text-align: right;\">-0.0118813</td><td style = \"text-align: right;\">0.0093222</td><td style = \"text-align: right;\">0.0377301</td><td style = \"text-align: right;\">0.0149584</td><td style = \"text-align: right;\">-0.00531061</td><td style = \"text-align: right;\">0.00840435</td><td style = \"text-align: right;\">0.00242172</td><td style = \"text-align: right;\">0.0124171</td><td style = \"text-align: right;\">0.0140117</td><td style = \"text-align: right;\">0.0128158</td><td style = \"text-align: right;\">0.0047516</td><td style = \"text-align: right;\">0.0149677</td><td style = \"text-align: right;\">0.0132318</td><td style = \"text-align: right;\">0.0156878</td><td style = \"text-align: right;\">0.00560734</td><td style = \"text-align: right;\">0.00687924</td><td style = \"text-align: right;\">0.00664854</td><td style = \"text-align: right;\">0.00144137</td><td style = \"text-align: right;\">0.0141206</td><td style = \"text-align: right;\">0.000337186</td><td style = \"text-align: right;\">0.00795867</td><td style = \"text-align: right;\">-0.00155177</td><td style = \"text-align: right;\">0.0251585</td><td style = \"text-align: right;\">0.0168312</td><td style = \"text-align: right;\">0.009585</td><td style = \"text-align: right;\">0.000645499</td><td style = \"text-align: right;\">-0.0239985</td><td style = \"text-align: right;\">-0.00260876</td><td style = \"text-align: right;\">0.00864941</td><td style = \"text-align: right;\">-0.0815563</td><td style = \"text-align: right;\">0.0134064</td><td style = \"text-align: right;\">-0.00505355</td><td style = \"text-align: right;\">0.00811464</td><td style = \"text-align: right;\">0.00889904</td><td style = \"text-align: right;\">0.00299946</td><td style = \"text-align: right;\">0.00335279</td><td style = \"text-align: right;\">0.00830653</td><td style = \"text-align: right;\">0.0019298</td><td style = \"text-align: right;\">0.0146907</td><td style = \"text-align: right;\">0.00387448</td><td style = \"text-align: right;\">0.0140995</td><td style = \"text-align: right;\">-0.00295854</td><td style = \"text-align: right;\">-0.00825743</td><td style = \"text-align: right;\">0.00721556</td><td style = \"text-align: right;\">0.0115213</td><td style = \"text-align: right;\">0.0112724</td><td style = \"text-align: right;\">-0.000358775</td><td style = \"text-align: right;\">0.0156763</td><td style = \"text-align: right;\">0.00901479</td><td style = \"text-align: right;\">0.00881838</td><td style = \"text-align: right;\">0.01676</td><td style = \"text-align: right;\">0.00815828</td><td style = \"text-align: right;\">0.0158178</td><td style = \"text-align: right;\">0.0154485</td><td style = \"text-align: right;\">-0.0005075</td><td style = \"text-align: right;\">0.00524337</td><td style = \"text-align: right;\">0.0155279</td><td style = \"text-align: right;\">-0.00222966</td><td style = \"text-align: right;\">-0.0129276</td><td style = \"text-align: right;\">-0.0411636</td><td style = \"text-align: right;\">-0.000641551</td><td style = \"text-align: right;\">0.012978</td><td style = \"text-align: right;\">&ctdot;</td></tr><tr><td class = \"rowNumber\" style = \"font-weight: bold; text-align: right;\">11</td><td style = \"text-align: right;\">0.00735077</td><td style = \"text-align: right;\">-0.00507464</td><td style = \"text-align: right;\">0.00600385</td><td style = \"text-align: right;\">-0.00587488</td><td style = \"text-align: right;\">0.0110101</td><td style = \"text-align: right;\">-0.0142167</td><td style = \"text-align: right;\">0.00812251</td><td style = \"text-align: right;\">0.00105199</td><td style = \"text-align: right;\">0.0125447</td><td style = \"text-align: right;\">0.0022089</td><td style = \"text-align: right;\">0.00285015</td><td style = \"text-align: right;\">-0.00198688</td><td style = \"text-align: right;\">0.0113148</td><td style = \"text-align: right;\">0.00679449</td><td style = \"text-align: right;\">0.0127638</td><td style = \"text-align: right;\">-0.00340855</td><td style = \"text-align: right;\">0.0118631</td><td style = \"text-align: right;\">0.0102603</td><td style = \"text-align: right;\">0.00415572</td><td style = \"text-align: right;\">-0.00533672</td><td style = \"text-align: right;\">0.00595083</td><td style = \"text-align: right;\">0.000478612</td><td style = \"text-align: right;\">-0.0153079</td><td style = \"text-align: right;\">0.0119814</td><td style = \"text-align: right;\">-0.0035859</td><td style = \"text-align: right;\">-0.0101292</td><td style = \"text-align: right;\">-0.00571162</td><td style = \"text-align: right;\">0.0230397</td><td style = \"text-align: right;\">0.0041079</td><td style = \"text-align: right;\">0.00278744</td><td style = \"text-align: right;\">0.00506817</td><td style = \"text-align: right;\">0.0158539</td><td style = \"text-align: right;\">-0.00706456</td><td style = \"text-align: right;\">0.0129217</td><td style = \"text-align: right;\">-0.0148057</td><td style = \"text-align: right;\">-0.0130762</td><td style = \"text-align: right;\">0.0052035</td><td style = \"text-align: right;\">-0.00310172</td><td style = \"text-align: right;\">-0.0489893</td><td style = \"text-align: right;\">-0.00557044</td><td style = \"text-align: right;\">0.0149067</td><td style = \"text-align: right;\">0.00471857</td><td style = \"text-align: right;\">-0.00587455</td><td style = \"text-align: right;\">0.00235104</td><td style = \"text-align: right;\">-0.00763102</td><td style = \"text-align: right;\">0.0138895</td><td style = \"text-align: right;\">0.00547606</td><td style = \"text-align: right;\">0.00565091</td><td style = \"text-align: right;\">-0.00785262</td><td style = \"text-align: right;\">0.00573219</td><td style = \"text-align: right;\">0.0144397</td><td style = \"text-align: right;\">0.00551945</td><td style = \"text-align: right;\">0.00740276</td><td style = \"text-align: right;\">0.0108504</td><td style = \"text-align: right;\">-0.0239286</td><td style = \"text-align: right;\">-0.000288195</td><td style = \"text-align: right;\">0.000866882</td><td style = \"text-align: right;\">0.0110688</td><td style = \"text-align: right;\">0.0</td><td style = \"text-align: right;\">0.000758192</td><td style = \"text-align: right;\">-0.000776639</td><td style = \"text-align: right;\">-0.00462711</td><td style = \"text-align: right;\">0.0164231</td><td style = \"text-align: right;\">0.000859872</td><td style = \"text-align: right;\">-0.00223922</td><td style = \"text-align: right;\">-0.00742848</td><td style = \"text-align: right;\">-0.00742809</td><td style = \"text-align: right;\">-0.0116254</td><td style = \"text-align: right;\">-0.000863464</td><td style = \"text-align: right;\">-2.92489e-5</td><td style = \"text-align: right;\">0.00424441</td><td style = \"text-align: right;\">0.000448544</td><td style = \"text-align: right;\">-0.000898744</td><td style = \"text-align: right;\">-0.00180409</td><td style = \"text-align: right;\">0.0126755</td><td style = \"text-align: right;\">-0.000964264</td><td style = \"text-align: right;\">0.0246926</td><td style = \"text-align: right;\">0.00880637</td><td style = \"text-align: right;\">0.0020083</td><td style = \"text-align: right;\">0.00148042</td><td style = \"text-align: right;\">-0.0153664</td><td style = \"text-align: right;\">0.00647641</td><td style = \"text-align: right;\">0.0313906</td><td style = \"text-align: right;\">-0.00904475</td><td style = \"text-align: right;\">0.0100013</td><td style = \"text-align: right;\">0.00638159</td><td style = \"text-align: right;\">0.00672433</td><td style = \"text-align: right;\">-0.016822</td><td style = \"text-align: right;\">-0.0332332</td><td style = \"text-align: right;\">0.000137427</td><td style = \"text-align: right;\">-0.000682466</td><td style = \"text-align: right;\">0.00912883</td><td style = \"text-align: right;\">-0.00466684</td><td style = \"text-align: right;\">0.00543315</td><td style = \"text-align: right;\">0.0318199</td><td style = \"text-align: right;\">0.00445435</td><td style = \"text-align: right;\">-0.0119624</td><td style = \"text-align: right;\">0.00341066</td><td style = \"text-align: right;\">-0.00482374</td><td style = \"text-align: right;\">0.00741507</td><td style = \"text-align: right;\">&ctdot;</td></tr><tr><td class = \"rowNumber\" style = \"font-weight: bold; text-align: right;\">12</td><td style = \"text-align: right;\">-0.00567519</td><td style = \"text-align: right;\">-0.0327523</td><td style = \"text-align: right;\">-0.0431721</td><td style = \"text-align: right;\">-0.0136646</td><td style = \"text-align: right;\">-0.00679981</td><td style = \"text-align: right;\">-0.000113536</td><td style = \"text-align: right;\">0.00816925</td><td style = \"text-align: right;\">-0.000238999</td><td style = \"text-align: right;\">0.000743161</td><td style = \"text-align: right;\">0.0255864</td><td style = \"text-align: right;\">-0.00134035</td><td style = \"text-align: right;\">-0.00287704</td><td style = \"text-align: right;\">-0.00379528</td><td style = \"text-align: right;\">0.00350454</td><td style = \"text-align: right;\">0.00788264</td><td style = \"text-align: right;\">-0.00146486</td><td style = \"text-align: right;\">-0.0109166</td><td style = \"text-align: right;\">-0.0235259</td><td style = \"text-align: right;\">-0.0026991</td><td style = \"text-align: right;\">-0.00378431</td><td style = \"text-align: right;\">0.0051778</td><td style = \"text-align: right;\">-0.000837864</td><td style = \"text-align: right;\">-0.0271922</td><td style = \"text-align: right;\">0.00212434</td><td style = \"text-align: right;\">-0.00713198</td><td style = \"text-align: right;\">-0.0062593</td><td style = \"text-align: right;\">0.00555353</td><td style = \"text-align: right;\">0.00235338</td><td style = \"text-align: right;\">-0.0162394</td><td style = \"text-align: right;\">-0.0127231</td><td style = \"text-align: right;\">0.0140807</td><td style = \"text-align: right;\">0.00120916</td><td style = \"text-align: right;\">0.0145235</td><td style = \"text-align: right;\">0.0130125</td><td style = \"text-align: right;\">0.00191602</td><td style = \"text-align: right;\">-0.0211979</td><td style = \"text-align: right;\">0.000758994</td><td style = \"text-align: right;\">-0.010932</td><td style = \"text-align: right;\">-0.0783009</td><td style = \"text-align: right;\">0.011596</td><td style = \"text-align: right;\">-0.00434618</td><td style = \"text-align: right;\">-0.0068233</td><td style = \"text-align: right;\">-0.0426761</td><td style = \"text-align: right;\">0.00814191</td><td style = \"text-align: right;\">0.00555556</td><td style = \"text-align: right;\">0.00626822</td><td style = \"text-align: right;\">0.0148383</td><td style = \"text-align: right;\">-0.0023344</td><td style = \"text-align: right;\">-0.0154069</td><td style = \"text-align: right;\">-0.0316722</td><td style = \"text-align: right;\">0.0210887</td><td style = \"text-align: right;\">0.0164897</td><td style = \"text-align: right;\">-0.00755603</td><td style = \"text-align: right;\">0.000363741</td><td style = \"text-align: right;\">-0.0338218</td><td style = \"text-align: right;\">-0.0130493</td><td style = \"text-align: right;\">0.000288872</td><td style = \"text-align: right;\">0.00332976</td><td style = \"text-align: right;\">-0.0155128</td><td style = \"text-align: right;\">0.00162271</td><td style = \"text-align: right;\">-0.00897587</td><td style = \"text-align: right;\">0.00622374</td><td style = \"text-align: right;\">-0.0160632</td><td style = \"text-align: right;\">-0.0181422</td><td style = \"text-align: right;\">0.005902</td><td style = \"text-align: right;\">-0.00836819</td><td style = \"text-align: right;\">0.00526614</td><td style = \"text-align: right;\">0.0129088</td><td style = \"text-align: right;\">0.00516987</td><td style = \"text-align: right;\">-0.0317039</td><td style = \"text-align: right;\">-0.0379847</td><td style = \"text-align: right;\">-0.0114623</td><td style = \"text-align: right;\">0.0105852</td><td style = \"text-align: right;\">-0.0116748</td><td style = \"text-align: right;\">0.0119134</td><td style = \"text-align: right;\">0.0100793</td><td style = \"text-align: right;\">-0.00475381</td><td style = \"text-align: right;\">-0.000484766</td><td style = \"text-align: right;\">0.00571615</td><td style = \"text-align: right;\">-0.0151539</td><td style = \"text-align: right;\">-0.0066699</td><td style = \"text-align: right;\">0.00442694</td><td style = \"text-align: right;\">-0.0172498</td><td style = \"text-align: right;\">0.00148214</td><td style = \"text-align: right;\">0.00124328</td><td style = \"text-align: right;\">-0.0131465</td><td style = \"text-align: right;\">-0.00620041</td><td style = \"text-align: right;\">-0.0105465</td><td style = \"text-align: right;\">-0.0469018</td><td style = \"text-align: right;\">0.0201739</td><td style = \"text-align: right;\">0.00721118</td><td style = \"text-align: right;\">0.0117307</td><td style = \"text-align: right;\">-0.000339915</td><td style = \"text-align: right;\">-0.0418249</td><td style = \"text-align: right;\">-0.0192694</td><td style = \"text-align: right;\">0.00692046</td><td style = \"text-align: right;\">0.00170917</td><td style = \"text-align: right;\">0.0258794</td><td style = \"text-align: right;\">-0.0304393</td><td style = \"text-align: right;\">0.00225594</td><td style = \"text-align: right;\">&ctdot;</td></tr><tr><td class = \"rowNumber\" style = \"font-weight: bold; text-align: right;\">13</td><td style = \"text-align: right;\">0.005786</td><td style = \"text-align: right;\">-0.0314474</td><td style = \"text-align: right;\">0.004402</td><td style = \"text-align: right;\">-0.0091015</td><td style = \"text-align: right;\">0.00356291</td><td style = \"text-align: right;\">-0.00890429</td><td style = \"text-align: right;\">0.0234601</td><td style = \"text-align: right;\">0.00124262</td><td style = \"text-align: right;\">0.000171407</td><td style = \"text-align: right;\">-0.00309524</td><td style = \"text-align: right;\">0.00926052</td><td style = \"text-align: right;\">-0.00421993</td><td style = \"text-align: right;\">0.0120158</td><td style = \"text-align: right;\">-0.00150046</td><td style = \"text-align: right;\">0.00662195</td><td style = \"text-align: right;\">-0.00342534</td><td style = \"text-align: right;\">-0.00588408</td><td style = \"text-align: right;\">0.0113539</td><td style = \"text-align: right;\">0.000831028</td><td style = \"text-align: right;\">0.0068224</td><td style = \"text-align: right;\">0.000737728</td><td style = \"text-align: right;\">-0.000119703</td><td style = \"text-align: right;\">0.0222279</td><td style = \"text-align: right;\">-0.00127403</td><td style = \"text-align: right;\">0.0180058</td><td style = \"text-align: right;\">0.0655502</td><td style = \"text-align: right;\">0.0108586</td><td style = \"text-align: right;\">0.00741614</td><td style = \"text-align: right;\">-0.00358407</td><td style = \"text-align: right;\">0.00521398</td><td style = \"text-align: right;\">-0.00665407</td><td style = \"text-align: right;\">0.00120783</td><td style = \"text-align: right;\">-0.00240243</td><td style = \"text-align: right;\">0.00331785</td><td style = \"text-align: right;\">-0.0111207</td><td style = \"text-align: right;\">-0.0277929</td><td style = \"text-align: right;\">0.00361946</td><td style = \"text-align: right;\">-0.015171</td><td style = \"text-align: right;\">-0.0751528</td><td style = \"text-align: right;\">-0.00926616</td><td style = \"text-align: right;\">-0.000512732</td><td style = \"text-align: right;\">-0.00250472</td><td style = \"text-align: right;\">-0.0118078</td><td style = \"text-align: right;\">0.00146539</td><td style = \"text-align: right;\">0.0113618</td><td style = \"text-align: right;\">0.000604732</td><td style = \"text-align: right;\">-0.0122035</td><td style = \"text-align: right;\">0.0157805</td><td style = \"text-align: right;\">0.00604653</td><td style = \"text-align: right;\">-0.00222432</td><td style = \"text-align: right;\">0.00621108</td><td style = \"text-align: right;\">0.0068565</td><td style = \"text-align: right;\">0.00732766</td><td style = \"text-align: right;\">0.00201525</td><td style = \"text-align: right;\">-0.0140433</td><td style = \"text-align: right;\">0.00291471</td><td style = \"text-align: right;\">0.036713</td><td style = \"text-align: right;\">-0.0108074</td><td style = \"text-align: right;\">0.00196392</td><td style = \"text-align: right;\">0.00467328</td><td style = \"text-align: right;\">0.013627</td><td style = \"text-align: right;\">-0.0094397</td><td style = \"text-align: right;\">0.0135813</td><td style = \"text-align: right;\">-0.0169184</td><td style = \"text-align: right;\">0.00316364</td><td style = \"text-align: right;\">-0.00310076</td><td style = \"text-align: right;\">-0.000950663</td><td style = \"text-align: right;\">-0.00106939</td><td style = \"text-align: right;\">0.00746128</td><td style = \"text-align: right;\">0.00511609</td><td style = \"text-align: right;\">-0.00220226</td><td style = \"text-align: right;\">0.0144847</td><td style = \"text-align: right;\">0.0</td><td style = \"text-align: right;\">-0.0115486</td><td style = \"text-align: right;\">-0.000301849</td><td style = \"text-align: right;\">0.00571419</td><td style = \"text-align: right;\">-0.000453937</td><td style = \"text-align: right;\">0.00140953</td><td style = \"text-align: right;\">-0.0032828</td><td style = \"text-align: right;\">0.00250002</td><td style = \"text-align: right;\">0.0187454</td><td style = \"text-align: right;\">0.00576979</td><td style = \"text-align: right;\">-0.0144507</td><td style = \"text-align: right;\">0.0239654</td><td style = \"text-align: right;\">-0.0130411</td><td style = \"text-align: right;\">-0.0223246</td><td style = \"text-align: right;\">0.00711071</td><td style = \"text-align: right;\">-0.0228162</td><td style = \"text-align: right;\">-0.0255334</td><td style = \"text-align: right;\">0.00323334</td><td style = \"text-align: right;\">-0.0139251</td><td style = \"text-align: right;\">0.00267744</td><td style = \"text-align: right;\">-0.00657219</td><td style = \"text-align: right;\">-0.0354223</td><td style = \"text-align: right;\">0.00149557</td><td style = \"text-align: right;\">-0.00386941</td><td style = \"text-align: right;\">0.0136282</td><td style = \"text-align: right;\">-0.0378679</td><td style = \"text-align: right;\">-0.0211596</td><td style = \"text-align: right;\">-0.00820252</td><td style = \"text-align: right;\">&ctdot;</td></tr><tr><td style = \"text-align: right;\">&vellip;</td><td style = \"text-align: right;\">&vellip;</td><td style = \"text-align: right;\">&vellip;</td><td style = \"text-align: right;\">&vellip;</td><td style = \"text-align: right;\">&vellip;</td><td style = \"text-align: right;\">&vellip;</td><td style = \"text-align: right;\">&vellip;</td><td style = \"text-align: right;\">&vellip;</td><td style = \"text-align: right;\">&vellip;</td><td style = \"text-align: right;\">&vellip;</td><td style = \"text-align: right;\">&vellip;</td><td style = \"text-align: right;\">&vellip;</td><td style = \"text-align: right;\">&vellip;</td><td style = \"text-align: right;\">&vellip;</td><td style = \"text-align: right;\">&vellip;</td><td style = \"text-align: right;\">&vellip;</td><td style = \"text-align: right;\">&vellip;</td><td style = \"text-align: right;\">&vellip;</td><td style = \"text-align: right;\">&vellip;</td><td style = \"text-align: right;\">&vellip;</td><td style = \"text-align: right;\">&vellip;</td><td style = \"text-align: right;\">&vellip;</td><td style = \"text-align: right;\">&vellip;</td><td style = \"text-align: right;\">&vellip;</td><td style = \"text-align: right;\">&vellip;</td><td style = \"text-align: right;\">&vellip;</td><td style = \"text-align: right;\">&vellip;</td><td style = \"text-align: right;\">&vellip;</td><td style = \"text-align: right;\">&vellip;</td><td style = \"text-align: right;\">&vellip;</td><td style = \"text-align: right;\">&vellip;</td><td style = \"text-align: right;\">&vellip;</td><td style = \"text-align: right;\">&vellip;</td><td style = \"text-align: right;\">&vellip;</td><td style = \"text-align: right;\">&vellip;</td><td style = \"text-align: right;\">&vellip;</td><td style = \"text-align: right;\">&vellip;</td><td style = \"text-align: right;\">&vellip;</td><td style = \"text-align: right;\">&vellip;</td><td style = \"text-align: right;\">&vellip;</td><td style = \"text-align: right;\">&vellip;</td><td style = \"text-align: right;\">&vellip;</td><td style = \"text-align: right;\">&vellip;</td><td style = \"text-align: right;\">&vellip;</td><td style = \"text-align: right;\">&vellip;</td><td style = \"text-align: right;\">&vellip;</td><td style = \"text-align: right;\">&vellip;</td><td style = \"text-align: right;\">&vellip;</td><td style = \"text-align: right;\">&vellip;</td><td style = \"text-align: right;\">&vellip;</td><td style = \"text-align: right;\">&vellip;</td><td style = \"text-align: right;\">&vellip;</td><td style = \"text-align: right;\">&vellip;</td><td style = \"text-align: right;\">&vellip;</td><td style = \"text-align: right;\">&vellip;</td><td style = \"text-align: right;\">&vellip;</td><td style = \"text-align: right;\">&vellip;</td><td style = \"text-align: right;\">&vellip;</td><td style = \"text-align: right;\">&vellip;</td><td style = \"text-align: right;\">&vellip;</td><td style = \"text-align: right;\">&vellip;</td><td style = \"text-align: right;\">&vellip;</td><td style = \"text-align: right;\">&vellip;</td><td style = \"text-align: right;\">&vellip;</td><td style = \"text-align: right;\">&vellip;</td><td style = \"text-align: right;\">&vellip;</td><td style = \"text-align: right;\">&vellip;</td><td style = \"text-align: right;\">&vellip;</td><td style = \"text-align: right;\">&vellip;</td><td style = \"text-align: right;\">&vellip;</td><td style = \"text-align: right;\">&vellip;</td><td style = \"text-align: right;\">&vellip;</td><td style = \"text-align: right;\">&vellip;</td><td style = \"text-align: right;\">&vellip;</td><td style = \"text-align: right;\">&vellip;</td><td style = \"text-align: right;\">&vellip;</td><td style = \"text-align: right;\">&vellip;</td><td style = \"text-align: right;\">&vellip;</td><td style = \"text-align: right;\">&vellip;</td><td style = \"text-align: right;\">&vellip;</td><td style = \"text-align: right;\">&vellip;</td><td style = \"text-align: right;\">&vellip;</td><td style = \"text-align: right;\">&vellip;</td><td style = \"text-align: right;\">&vellip;</td><td style = \"text-align: right;\">&vellip;</td><td style = \"text-align: right;\">&vellip;</td><td style = \"text-align: right;\">&vellip;</td><td style = \"text-align: right;\">&vellip;</td><td style = \"text-align: right;\">&vellip;</td><td style = \"text-align: right;\">&vellip;</td><td style = \"text-align: right;\">&vellip;</td><td style = \"text-align: right;\">&vellip;</td><td style = \"text-align: right;\">&vellip;</td><td style = \"text-align: right;\">&vellip;</td><td style = \"text-align: right;\">&vellip;</td><td style = \"text-align: right;\">&vellip;</td><td style = \"text-align: right;\">&vellip;</td><td style = \"text-align: right;\">&vellip;</td><td style = \"text-align: right;\">&vellip;</td><td style = \"text-align: right;\">&vellip;</td><td style = \"text-align: right;\">&vellip;</td><td style = \"text-align: right;\">&dtdot;</td></tr><tr><td class = \"rowNumber\" style = \"font-weight: bold; text-align: right;\">1290</td><td style = \"text-align: right;\">-0.00262832</td><td style = \"text-align: right;\">0.0291454</td><td style = \"text-align: right;\">-0.00878853</td><td style = \"text-align: right;\">0.000451172</td><td style = \"text-align: right;\">0.00391281</td><td style = \"text-align: right;\">0.0177289</td><td style = \"text-align: right;\">0.00784017</td><td style = \"text-align: right;\">-0.013883</td><td style = \"text-align: right;\">-0.00504561</td><td style = \"text-align: right;\">0.0002803</td><td style = \"text-align: right;\">0.0088985</td><td style = \"text-align: right;\">0.0110164</td><td style = \"text-align: right;\">-0.00399879</td><td style = \"text-align: right;\">-0.00707299</td><td style = \"text-align: right;\">0.0121483</td><td style = \"text-align: right;\">0.0256303</td><td style = \"text-align: right;\">-0.0022032</td><td style = \"text-align: right;\">0.0128029</td><td style = \"text-align: right;\">-0.00674376</td><td style = \"text-align: right;\">-0.0224933</td><td style = \"text-align: right;\">-0.0139609</td><td style = \"text-align: right;\">0.000611261</td><td style = \"text-align: right;\">-0.0186575</td><td style = \"text-align: right;\">-0.012711</td><td style = \"text-align: right;\">0.00417832</td><td style = \"text-align: right;\">-0.00461422</td><td style = \"text-align: right;\">0.0134414</td><td style = \"text-align: right;\">-0.00454431</td><td style = \"text-align: right;\">0.0123609</td><td style = \"text-align: right;\">-0.0154618</td><td style = \"text-align: right;\">0.0200564</td><td style = \"text-align: right;\">0.0177358</td><td style = \"text-align: right;\">-0.0166852</td><td style = \"text-align: right;\">0.0109865</td><td style = \"text-align: right;\">-0.008498</td><td style = \"text-align: right;\">0.00127095</td><td style = \"text-align: right;\">-0.00877515</td><td style = \"text-align: right;\">-0.00632269</td><td style = \"text-align: right;\">-0.0210376</td><td style = \"text-align: right;\">0.0022009</td><td style = \"text-align: right;\">0.00281471</td><td style = \"text-align: right;\">-0.00912828</td><td style = \"text-align: right;\">-0.00833812</td><td style = \"text-align: right;\">-0.00661679</td><td style = \"text-align: right;\">-0.0354647</td><td style = \"text-align: right;\">0.00213622</td><td style = \"text-align: right;\">0.00828474</td><td style = \"text-align: right;\">-0.00873824</td><td style = \"text-align: right;\">-0.000380861</td><td style = \"text-align: right;\">0.00702529</td><td style = \"text-align: right;\">0.00631505</td><td style = \"text-align: right;\">0.00960906</td><td style = \"text-align: right;\">-0.0197472</td><td style = \"text-align: right;\">0.00299861</td><td style = \"text-align: right;\">-0.0287189</td><td style = \"text-align: right;\">-0.0155516</td><td style = \"text-align: right;\">0.0283465</td><td style = \"text-align: right;\">-0.00175781</td><td style = \"text-align: right;\">-0.0150101</td><td style = \"text-align: right;\">0.0016246</td><td style = \"text-align: right;\">-0.00720982</td><td style = \"text-align: right;\">0.0152718</td><td style = \"text-align: right;\">0.0199638</td><td style = \"text-align: right;\">0.0182356</td><td style = \"text-align: right;\">0.00292234</td><td style = \"text-align: right;\">0.0839324</td><td style = \"text-align: right;\">0.00667416</td><td style = \"text-align: right;\">-0.0131078</td><td style = \"text-align: right;\">-0.00457978</td><td style = \"text-align: right;\">-0.0182395</td><td style = \"text-align: right;\">0.000426449</td><td style = \"text-align: right;\">0.0030773</td><td style = \"text-align: right;\">0.0146252</td><td style = \"text-align: right;\">0.00317972</td><td style = \"text-align: right;\">-0.0110684</td><td style = \"text-align: right;\">0.00364825</td><td style = \"text-align: right;\">-0.00293795</td><td style = \"text-align: right;\">-0.000454463</td><td style = \"text-align: right;\">-0.00458913</td><td style = \"text-align: right;\">-0.0314644</td><td style = \"text-align: right;\">-0.0227831</td><td style = \"text-align: right;\">-0.0170433</td><td style = \"text-align: right;\">0.0223905</td><td style = \"text-align: right;\">0.00495808</td><td style = \"text-align: right;\">-0.0133925</td><td style = \"text-align: right;\">-0.0109664</td><td style = \"text-align: right;\">0.00393306</td><td style = \"text-align: right;\">-0.0325596</td><td style = \"text-align: right;\">0.0184762</td><td style = \"text-align: right;\">0.0218303</td><td style = \"text-align: right;\">-0.0241385</td><td style = \"text-align: right;\">-0.0140006</td><td style = \"text-align: right;\">-0.0427893</td><td style = \"text-align: right;\">-0.0432809</td><td style = \"text-align: right;\">-0.0258644</td><td style = \"text-align: right;\">0.000670527</td><td style = \"text-align: right;\">0.00394713</td><td style = \"text-align: right;\">-0.0174478</td><td style = \"text-align: right;\">0.00830984</td><td style = \"text-align: right;\">0.00820898</td><td style = \"text-align: right;\">&ctdot;</td></tr><tr><td class = \"rowNumber\" style = \"font-weight: bold; text-align: right;\">1291</td><td style = \"text-align: right;\">-0.0104351</td><td style = \"text-align: right;\">-0.0795953</td><td style = \"text-align: right;\">-0.0405331</td><td style = \"text-align: right;\">-0.0205066</td><td style = \"text-align: right;\">-0.00113964</td><td style = \"text-align: right;\">0.00595593</td><td style = \"text-align: right;\">0.0130555</td><td style = \"text-align: right;\">-0.0549597</td><td style = \"text-align: right;\">-0.0230708</td><td style = \"text-align: right;\">0.0205307</td><td style = \"text-align: right;\">-0.0203433</td><td style = \"text-align: right;\">0.0346245</td><td style = \"text-align: right;\">-0.00388609</td><td style = \"text-align: right;\">0.013589</td><td style = \"text-align: right;\">0.00934768</td><td style = \"text-align: right;\">-0.0075259</td><td style = \"text-align: right;\">-0.0205393</td><td style = \"text-align: right;\">0.00523221</td><td style = \"text-align: right;\">0.00132174</td><td style = \"text-align: right;\">-0.244981</td><td style = \"text-align: right;\">-0.0160043</td><td style = \"text-align: right;\">0.00076358</td><td style = \"text-align: right;\">-0.0392854</td><td style = \"text-align: right;\">-0.0187818</td><td style = \"text-align: right;\">0.000393307</td><td style = \"text-align: right;\">-0.0374339</td><td style = \"text-align: right;\">-0.0231626</td><td style = \"text-align: right;\">-0.0296009</td><td style = \"text-align: right;\">0.0169073</td><td style = \"text-align: right;\">-0.0196556</td><td style = \"text-align: right;\">-0.00432372</td><td style = \"text-align: right;\">-0.00678431</td><td style = \"text-align: right;\">-0.0286735</td><td style = \"text-align: right;\">-0.0185281</td><td style = \"text-align: right;\">-0.0122017</td><td style = \"text-align: right;\">-0.035772</td><td style = \"text-align: right;\">-0.0140669</td><td style = \"text-align: right;\">-0.0261424</td><td style = \"text-align: right;\">-0.035028</td><td style = \"text-align: right;\">0.000523346</td><td style = \"text-align: right;\">0.0090161</td><td style = \"text-align: right;\">-0.00690134</td><td style = \"text-align: right;\">-0.0484373</td><td style = \"text-align: right;\">0.015327</td><td style = \"text-align: right;\">-0.00361664</td><td style = \"text-align: right;\">0.0119317</td><td style = \"text-align: right;\">-0.00209905</td><td style = \"text-align: right;\">-0.036286</td><td style = \"text-align: right;\">-0.0126486</td><td style = \"text-align: right;\">0.000488243</td><td style = \"text-align: right;\">0.0306892</td><td style = \"text-align: right;\">0.00172513</td><td style = \"text-align: right;\">-0.0282367</td><td style = \"text-align: right;\">-0.0111223</td><td style = \"text-align: right;\">-0.0208371</td><td style = \"text-align: right;\">-0.0108757</td><td style = \"text-align: right;\">0.0176821</td><td style = \"text-align: right;\">-0.0128378</td><td style = \"text-align: right;\">0.0147048</td><td style = \"text-align: right;\">-0.00219607</td><td style = \"text-align: right;\">-0.00969464</td><td style = \"text-align: right;\">0.0249458</td><td style = \"text-align: right;\">-0.0129408</td><td style = \"text-align: right;\">0.0180185</td><td style = \"text-align: right;\">0.0256387</td><td style = \"text-align: right;\">0.0316073</td><td style = \"text-align: right;\">-0.0196221</td><td style = \"text-align: right;\">0.00103201</td><td style = \"text-align: right;\">0.0140122</td><td style = \"text-align: right;\">-0.00551314</td><td style = \"text-align: right;\">-0.0278847</td><td style = \"text-align: right;\">-0.0154413</td><td style = \"text-align: right;\">0.000716734</td><td style = \"text-align: right;\">-0.00822816</td><td style = \"text-align: right;\">-0.0041134</td><td style = \"text-align: right;\">-0.00730993</td><td style = \"text-align: right;\">-0.00829171</td><td style = \"text-align: right;\">-0.0259549</td><td style = \"text-align: right;\">-0.010258</td><td style = \"text-align: right;\">-0.0209958</td><td style = \"text-align: right;\">-0.0129774</td><td style = \"text-align: right;\">-0.0359315</td><td style = \"text-align: right;\">0.0375316</td><td style = \"text-align: right;\">-0.00251533</td><td style = \"text-align: right;\">-0.0361968</td><td style = \"text-align: right;\">-0.0264383</td><td style = \"text-align: right;\">-0.000897596</td><td style = \"text-align: right;\">-0.0122369</td><td style = \"text-align: right;\">-0.0420622</td><td style = \"text-align: right;\">0.0104679</td><td style = \"text-align: right;\">-0.018838</td><td style = \"text-align: right;\">-0.044997</td><td style = \"text-align: right;\">0.00284709</td><td style = \"text-align: right;\">-0.0298454</td><td style = \"text-align: right;\">-0.0285545</td><td style = \"text-align: right;\">0.0085813</td><td style = \"text-align: right;\">-0.00555245</td><td style = \"text-align: right;\">-0.0502535</td><td style = \"text-align: right;\">-0.0173627</td><td style = \"text-align: right;\">0.000433701</td><td style = \"text-align: right;\">&ctdot;</td></tr><tr><td class = \"rowNumber\" style = \"font-weight: bold; text-align: right;\">1292</td><td style = \"text-align: right;\">-0.000665039</td><td style = \"text-align: right;\">0.0178627</td><td style = \"text-align: right;\">0.0052391</td><td style = \"text-align: right;\">-0.0146089</td><td style = \"text-align: right;\">0.00629253</td><td style = \"text-align: right;\">0.00984842</td><td style = \"text-align: right;\">0.00022232</td><td style = \"text-align: right;\">-0.000961331</td><td style = \"text-align: right;\">0.000225051</td><td style = \"text-align: right;\">0.00123489</td><td style = \"text-align: right;\">-0.00806896</td><td style = \"text-align: right;\">0.00434834</td><td style = \"text-align: right;\">0.00462311</td><td style = \"text-align: right;\">0.00303978</td><td style = \"text-align: right;\">0.00907292</td><td style = \"text-align: right;\">0.012201</td><td style = \"text-align: right;\">0.0187156</td><td style = \"text-align: right;\">0.0247403</td><td style = \"text-align: right;\">0.00895956</td><td style = \"text-align: right;\">0.0119188</td><td style = \"text-align: right;\">-0.00209577</td><td style = \"text-align: right;\">-0.0018335</td><td style = \"text-align: right;\">0.00152176</td><td style = \"text-align: right;\">0.0165063</td><td style = \"text-align: right;\">0.00603708</td><td style = \"text-align: right;\">-0.0158627</td><td style = \"text-align: right;\">-0.020027</td><td style = \"text-align: right;\">-0.0249385</td><td style = \"text-align: right;\">0.0219028</td><td style = \"text-align: right;\">0.00103635</td><td style = \"text-align: right;\">0.00234648</td><td style = \"text-align: right;\">-0.0137082</td><td style = \"text-align: right;\">-0.0180302</td><td style = \"text-align: right;\">-0.0017369</td><td style = \"text-align: right;\">0.00378187</td><td style = \"text-align: right;\">0.00350416</td><td style = \"text-align: right;\">-0.00161478</td><td style = \"text-align: right;\">-0.00668111</td><td style = \"text-align: right;\">-0.00657465</td><td style = \"text-align: right;\">0.016706</td><td style = \"text-align: right;\">-0.00589797</td><td style = \"text-align: right;\">-0.0029283</td><td style = \"text-align: right;\">-0.0152807</td><td style = \"text-align: right;\">0.00226569</td><td style = \"text-align: right;\">0.0179538</td><td style = \"text-align: right;\">0.00813766</td><td style = \"text-align: right;\">0.00932059</td><td style = \"text-align: right;\">-0.0503166</td><td style = \"text-align: right;\">0.00538568</td><td style = \"text-align: right;\">0.000975855</td><td style = \"text-align: right;\">0.00683522</td><td style = \"text-align: right;\">0.00225148</td><td style = \"text-align: right;\">0.000440001</td><td style = \"text-align: right;\">0.00945948</td><td style = \"text-align: right;\">0.0154599</td><td style = \"text-align: right;\">-0.00784142</td><td style = \"text-align: right;\">-0.0111623</td><td style = \"text-align: right;\">-0.0121024</td><td style = \"text-align: right;\">0.0111754</td><td style = \"text-align: right;\">0.0125838</td><td style = \"text-align: right;\">-0.00831504</td><td style = \"text-align: right;\">0.00709229</td><td style = \"text-align: right;\">-0.00682727</td><td style = \"text-align: right;\">-0.0380732</td><td style = \"text-align: right;\">0.00446955</td><td style = \"text-align: right;\">-0.10575</td><td style = \"text-align: right;\">0.000249924</td><td style = \"text-align: right;\">0.00867291</td><td style = \"text-align: right;\">0.00234426</td><td style = \"text-align: right;\">0.0116419</td><td style = \"text-align: right;\">-0.022164</td><td style = \"text-align: right;\">-0.0222321</td><td style = \"text-align: right;\">0.0360605</td><td style = \"text-align: right;\">-0.00443584</td><td style = \"text-align: right;\">0.00466336</td><td style = \"text-align: right;\">0.00439235</td><td style = \"text-align: right;\">-0.000957473</td><td style = \"text-align: right;\">0.000551207</td><td style = \"text-align: right;\">-0.000290549</td><td style = \"text-align: right;\">-0.014034</td><td style = \"text-align: right;\">0.0173842</td><td style = \"text-align: right;\">-0.0108546</td><td style = \"text-align: right;\">0.00116252</td><td style = \"text-align: right;\">0.00384907</td><td style = \"text-align: right;\">0.0218749</td><td style = \"text-align: right;\">-0.00329915</td><td style = \"text-align: right;\">0.0228977</td><td style = \"text-align: right;\">0.00495984</td><td style = \"text-align: right;\">-0.0370751</td><td style = \"text-align: right;\">0.00400537</td><td style = \"text-align: right;\">-0.0104384</td><td style = \"text-align: right;\">-0.0210847</td><td style = \"text-align: right;\">0.00321701</td><td style = \"text-align: right;\">-0.00501898</td><td style = \"text-align: right;\">-0.0114287</td><td style = \"text-align: right;\">0.0212294</td><td style = \"text-align: right;\">0.0132087</td><td style = \"text-align: right;\">-0.0189715</td><td style = \"text-align: right;\">-0.005065</td><td style = \"text-align: right;\">0.00402772</td><td style = \"text-align: right;\">&ctdot;</td></tr><tr><td class = \"rowNumber\" style = \"font-weight: bold; text-align: right;\">1293</td><td style = \"text-align: right;\">-0.00816457</td><td style = \"text-align: right;\">-0.0187353</td><td style = \"text-align: right;\">-0.0118267</td><td style = \"text-align: right;\">0.0692576</td><td style = \"text-align: right;\">-0.000242898</td><td style = \"text-align: right;\">0.000293947</td><td style = \"text-align: right;\">0.00642622</td><td style = \"text-align: right;\">-0.00264148</td><td style = \"text-align: right;\">-0.00227523</td><td style = \"text-align: right;\">0.0119958</td><td style = \"text-align: right;\">-0.00715665</td><td style = \"text-align: right;\">0.00741042</td><td style = \"text-align: right;\">0.00374054</td><td style = \"text-align: right;\">0.0057504</td><td style = \"text-align: right;\">0.0126211</td><td style = \"text-align: right;\">0.0129751</td><td style = \"text-align: right;\">0.0250464</td><td style = \"text-align: right;\">0.005711</td><td style = \"text-align: right;\">0.0101164</td><td style = \"text-align: right;\">0.00513812</td><td style = \"text-align: right;\">-0.0327405</td><td style = \"text-align: right;\">0.00290147</td><td style = \"text-align: right;\">-0.021732</td><td style = \"text-align: right;\">0.00912379</td><td style = \"text-align: right;\">0.0152047</td><td style = \"text-align: right;\">-0.0117216</td><td style = \"text-align: right;\">-0.0181383</td><td style = \"text-align: right;\">-0.039143</td><td style = \"text-align: right;\">0.018902</td><td style = \"text-align: right;\">-0.017151</td><td style = \"text-align: right;\">0.0593984</td><td style = \"text-align: right;\">0.0020683</td><td style = \"text-align: right;\">0.000423005</td><td style = \"text-align: right;\">-0.00972859</td><td style = \"text-align: right;\">0.0114097</td><td style = \"text-align: right;\">-0.0216584</td><td style = \"text-align: right;\">0.0254341</td><td style = \"text-align: right;\">-0.0320899</td><td style = \"text-align: right;\">-0.0146183</td><td style = \"text-align: right;\">0.0378623</td><td style = \"text-align: right;\">0.0224728</td><td style = \"text-align: right;\">-0.00495129</td><td style = \"text-align: right;\">-0.0146297</td><td style = \"text-align: right;\">0.0068054</td><td style = \"text-align: right;\">0.00709222</td><td style = \"text-align: right;\">0.0104032</td><td style = \"text-align: right;\">0.0119212</td><td style = \"text-align: right;\">-0.0262641</td><td style = \"text-align: right;\">-0.01566</td><td style = \"text-align: right;\">0.00992136</td><td style = \"text-align: right;\">0.0270287</td><td style = \"text-align: right;\">0.0265012</td><td style = \"text-align: right;\">-0.00743802</td><td style = \"text-align: right;\">0.00720716</td><td style = \"text-align: right;\">-0.00915747</td><td style = \"text-align: right;\">-0.0117649</td><td style = \"text-align: right;\">0.0158253</td><td style = \"text-align: right;\">0.0155493</td><td style = \"text-align: right;\">0.0473021</td><td style = \"text-align: right;\">-0.00112953</td><td style = \"text-align: right;\">-0.00640559</td><td style = \"text-align: right;\">0.00933378</td><td style = \"text-align: right;\">-0.00766286</td><td style = \"text-align: right;\">0.0130025</td><td style = \"text-align: right;\">0.0153833</td><td style = \"text-align: right;\">0.0368198</td><td style = \"text-align: right;\">-0.0100089</td><td style = \"text-align: right;\">-0.01442</td><td style = \"text-align: right;\">-0.00234426</td><td style = \"text-align: right;\">-0.00302491</td><td style = \"text-align: right;\">-0.0130838</td><td style = \"text-align: right;\">0.00545325</td><td style = \"text-align: right;\">0.00568523</td><td style = \"text-align: right;\">-0.0152311</td><td style = \"text-align: right;\">0.00156377</td><td style = \"text-align: right;\">0.0040095</td><td style = \"text-align: right;\">-0.0357895</td><td style = \"text-align: right;\">0.0013555</td><td style = \"text-align: right;\">0.0152808</td><td style = \"text-align: right;\">-0.00510598</td><td style = \"text-align: right;\">-0.0439296</td><td style = \"text-align: right;\">-0.0220691</td><td style = \"text-align: right;\">0.010786</td><td style = \"text-align: right;\">0.0020363</td><td style = \"text-align: right;\">0.0195396</td><td style = \"text-align: right;\">0.0100986</td><td style = \"text-align: right;\">0.0145586</td><td style = \"text-align: right;\">0.0245518</td><td style = \"text-align: right;\">-0.0219101</td><td style = \"text-align: right;\">0.00828456</td><td style = \"text-align: right;\">0.00151595</td><td style = \"text-align: right;\">-0.0161406</td><td style = \"text-align: right;\">0.0283283</td><td style = \"text-align: right;\">0.0115445</td><td style = \"text-align: right;\">0.000901125</td><td style = \"text-align: right;\">0.0273211</td><td style = \"text-align: right;\">-0.0195167</td><td style = \"text-align: right;\">0.00260832</td><td style = \"text-align: right;\">-0.0143201</td><td style = \"text-align: right;\">0.0418978</td><td style = \"text-align: right;\">&ctdot;</td></tr><tr><td class = \"rowNumber\" style = \"font-weight: bold; text-align: right;\">1294</td><td style = \"text-align: right;\">0.00215901</td><td style = \"text-align: right;\">-0.0205768</td><td style = \"text-align: right;\">0.00329926</td><td style = \"text-align: right;\">-0.196369</td><td style = \"text-align: right;\">-0.0274124</td><td style = \"text-align: right;\">-0.00555082</td><td style = \"text-align: right;\">0.00103024</td><td style = \"text-align: right;\">-0.0127549</td><td style = \"text-align: right;\">-0.00431684</td><td style = \"text-align: right;\">-0.0143298</td><td style = \"text-align: right;\">-0.00669471</td><td style = \"text-align: right;\">-0.0371883</td><td style = \"text-align: right;\">-0.00637054</td><td style = \"text-align: right;\">-0.00080509</td><td style = \"text-align: right;\">-0.00699206</td><td style = \"text-align: right;\">0.00550969</td><td style = \"text-align: right;\">-0.0086573</td><td style = \"text-align: right;\">-0.010815</td><td style = \"text-align: right;\">-0.0106036</td><td style = \"text-align: right;\">0.0194131</td><td style = \"text-align: right;\">-0.011414</td><td style = \"text-align: right;\">0.00137137</td><td style = \"text-align: right;\">0.0242979</td><td style = \"text-align: right;\">-0.0108206</td><td style = \"text-align: right;\">-0.00362502</td><td style = \"text-align: right;\">0.0114505</td><td style = \"text-align: right;\">0.0177822</td><td style = \"text-align: right;\">0.00747487</td><td style = \"text-align: right;\">-0.0297445</td><td style = \"text-align: right;\">0.00624487</td><td style = \"text-align: right;\">-0.0149331</td><td style = \"text-align: right;\">0.00412368</td><td style = \"text-align: right;\">0.00725745</td><td style = \"text-align: right;\">0.00579436</td><td style = \"text-align: right;\">-0.0124672</td><td style = \"text-align: right;\">-0.0166708</td><td style = \"text-align: right;\">-0.0111215</td><td style = \"text-align: right;\">0.0185924</td><td style = \"text-align: right;\">-0.00833444</td><td style = \"text-align: right;\">-0.0184996</td><td style = \"text-align: right;\">-0.0150286</td><td style = \"text-align: right;\">-0.0279981</td><td style = \"text-align: right;\">0.00725346</td><td style = \"text-align: right;\">-0.00266325</td><td style = \"text-align: right;\">0.0244341</td><td style = \"text-align: right;\">0.0448391</td><td style = \"text-align: right;\">-0.00916445</td><td style = \"text-align: right;\">0.0500731</td><td style = \"text-align: right;\">0.00563489</td><td style = \"text-align: right;\">-0.00338589</td><td style = \"text-align: right;\">-0.016085</td><td style = \"text-align: right;\">-0.010881</td><td style = \"text-align: right;\">0.00936492</td><td style = \"text-align: right;\">-0.00957103</td><td style = \"text-align: right;\">-0.0297765</td><td style = \"text-align: right;\">0.0</td><td style = \"text-align: right;\">0.00772357</td><td style = \"text-align: right;\">0.00354579</td><td style = \"text-align: right;\">-0.00519808</td><td style = \"text-align: right;\">-0.0107509</td><td style = \"text-align: right;\">-0.0149405</td><td style = \"text-align: right;\">-0.0136923</td><td style = \"text-align: right;\">-0.00951255</td><td style = \"text-align: right;\">0.00157152</td><td style = \"text-align: right;\">-0.0209199</td><td style = \"text-align: right;\">-0.00564968</td><td style = \"text-align: right;\">-0.00422721</td><td style = \"text-align: right;\">-0.00473747</td><td style = \"text-align: right;\">0.0103403</td><td style = \"text-align: right;\">0.000142969</td><td style = \"text-align: right;\">-0.0121076</td><td style = \"text-align: right;\">-0.00443566</td><td style = \"text-align: right;\">-0.0143613</td><td style = \"text-align: right;\">-0.0166898</td><td style = \"text-align: right;\">-0.00194449</td><td style = \"text-align: right;\">-0.00327929</td><td style = \"text-align: right;\">0.00830533</td><td style = \"text-align: right;\">0.0534878</td><td style = \"text-align: right;\">0.00128667</td><td style = \"text-align: right;\">0.0118315</td><td style = \"text-align: right;\">-0.0331123</td><td style = \"text-align: right;\">0.00210406</td><td style = \"text-align: right;\">-0.0287622</td><td style = \"text-align: right;\">-0.00494136</td><td style = \"text-align: right;\">-0.016072</td><td style = \"text-align: right;\">0.000642396</td><td style = \"text-align: right;\">-0.0137543</td><td style = \"text-align: right;\">-0.00426198</td><td style = \"text-align: right;\">0.0125788</td><td style = \"text-align: right;\">-0.0183829</td><td style = \"text-align: right;\">0.0111719</td><td style = \"text-align: right;\">0.0200468</td><td style = \"text-align: right;\">-0.0330654</td><td style = \"text-align: right;\">-0.0080672</td><td style = \"text-align: right;\">0.0129756</td><td style = \"text-align: right;\">-0.0180695</td><td style = \"text-align: right;\">-0.0147431</td><td style = \"text-align: right;\">0.0360989</td><td style = \"text-align: right;\">-0.00827597</td><td style = \"text-align: right;\">-0.0276486</td><td style = \"text-align: right;\">&ctdot;</td></tr><tr><td class = \"rowNumber\" style = \"font-weight: bold; text-align: right;\">1295</td><td style = \"text-align: right;\">-0.0565243</td><td style = \"text-align: right;\">-0.00715356</td><td style = \"text-align: right;\">-0.0437633</td><td style = \"text-align: right;\">-0.0198239</td><td style = \"text-align: right;\">-0.0128126</td><td style = \"text-align: right;\">0.00985234</td><td style = \"text-align: right;\">-0.000662264</td><td style = \"text-align: right;\">-0.00413862</td><td style = \"text-align: right;\">-0.00981013</td><td style = \"text-align: right;\">0.0128382</td><td style = \"text-align: right;\">-0.0431904</td><td style = \"text-align: right;\">-0.00833604</td><td style = \"text-align: right;\">-0.000257009</td><td style = \"text-align: right;\">0.00140844</td><td style = \"text-align: right;\">-0.0163172</td><td style = \"text-align: right;\">-0.0507151</td><td style = \"text-align: right;\">0.0151945</td><td style = \"text-align: right;\">0.0192582</td><td style = \"text-align: right;\">0.0146338</td><td style = \"text-align: right;\">-0.021722</td><td style = \"text-align: right;\">0.0184031</td><td style = \"text-align: right;\">-0.00320292</td><td style = \"text-align: right;\">-0.028863</td><td style = \"text-align: right;\">0.0345806</td><td style = \"text-align: right;\">-0.0158097</td><td style = \"text-align: right;\">-0.00489132</td><td style = \"text-align: right;\">-0.0730449</td><td style = \"text-align: right;\">-0.0512229</td><td style = \"text-align: right;\">-0.00182946</td><td style = \"text-align: right;\">0.00152184</td><td style = \"text-align: right;\">0.0160122</td><td style = \"text-align: right;\">-0.0110346</td><td style = \"text-align: right;\">-0.0265207</td><td style = \"text-align: right;\">-0.00588516</td><td style = \"text-align: right;\">-0.00333083</td><td style = \"text-align: right;\">-0.0749821</td><td style = \"text-align: right;\">-0.00459874</td><td style = \"text-align: right;\">-0.0116943</td><td style = \"text-align: right;\">-0.0402147</td><td style = \"text-align: right;\">0.0185987</td><td style = \"text-align: right;\">-0.0304338</td><td style = \"text-align: right;\">-0.0191647</td><td style = \"text-align: right;\">0.00316791</td><td style = \"text-align: right;\">-0.00233626</td><td style = \"text-align: right;\">-0.0103988</td><td style = \"text-align: right;\">-0.000501265</td><td style = \"text-align: right;\">0.00647777</td><td style = \"text-align: right;\">-0.073754</td><td style = \"text-align: right;\">-0.0211483</td><td style = \"text-align: right;\">-0.00140074</td><td style = \"text-align: right;\">-0.00773003</td><td style = \"text-align: right;\">-0.00968464</td><td style = \"text-align: right;\">-0.00643741</td><td style = \"text-align: right;\">0.0151283</td><td style = \"text-align: right;\">0.00455508</td><td style = \"text-align: right;\">0.00408813</td><td style = \"text-align: right;\">0.00134548</td><td style = \"text-align: right;\">-0.0199973</td><td style = \"text-align: right;\">-0.00400362</td><td style = \"text-align: right;\">-0.0151856</td><td style = \"text-align: right;\">-0.00452604</td><td style = \"text-align: right;\">-0.000136539</td><td style = \"text-align: right;\">-0.017273</td><td style = \"text-align: right;\">-0.0101455</td><td style = \"text-align: right;\">-0.0043514</td><td style = \"text-align: right;\">-0.0229236</td><td style = \"text-align: right;\">-0.0389847</td><td style = \"text-align: right;\">0.00635</td><td style = \"text-align: right;\">0.00182347</td><td style = \"text-align: right;\">-0.0233958</td><td style = \"text-align: right;\">0.00160761</td><td style = \"text-align: right;\">-0.00935403</td><td style = \"text-align: right;\">0.024446</td><td style = \"text-align: right;\">0.013374</td><td style = \"text-align: right;\">0.00455929</td><td style = \"text-align: right;\">0.00727279</td><td style = \"text-align: right;\">-0.00751135</td><td style = \"text-align: right;\">-0.026098</td><td style = \"text-align: right;\">0.000714176</td><td style = \"text-align: right;\">-0.00253257</td><td style = \"text-align: right;\">0.0210718</td><td style = \"text-align: right;\">-0.00865296</td><td style = \"text-align: right;\">0.00824662</td><td style = \"text-align: right;\">0.00227764</td><td style = \"text-align: right;\">-0.0167501</td><td style = \"text-align: right;\">-0.00755955</td><td style = \"text-align: right;\">0.0289207</td><td style = \"text-align: right;\">-0.0138317</td><td style = \"text-align: right;\">-0.0512933</td><td style = \"text-align: right;\">0.0196678</td><td style = \"text-align: right;\">-0.100366</td><td style = \"text-align: right;\">-0.0214138</td><td style = \"text-align: right;\">-0.0409011</td><td style = \"text-align: right;\">0.0228785</td><td style = \"text-align: right;\">0.00399283</td><td style = \"text-align: right;\">0.00715737</td><td style = \"text-align: right;\">0.0156069</td><td style = \"text-align: right;\">0.00861719</td><td style = \"text-align: right;\">0.0137554</td><td style = \"text-align: right;\">-0.00795708</td><td style = \"text-align: right;\">&ctdot;</td></tr><tr><td class = \"rowNumber\" style = \"font-weight: bold; text-align: right;\">1296</td><td style = \"text-align: right;\">0.00658823</td><td style = \"text-align: right;\">-0.0053989</td><td style = \"text-align: right;\">-0.0124655</td><td style = \"text-align: right;\">-0.00162463</td><td style = \"text-align: right;\">0.0189512</td><td style = \"text-align: right;\">0.0193702</td><td style = \"text-align: right;\">0.0156276</td><td style = \"text-align: right;\">-0.0237333</td><td style = \"text-align: right;\">0.00312874</td><td style = \"text-align: right;\">0.00493082</td><td style = \"text-align: right;\">0.0273639</td><td style = \"text-align: right;\">0.013008</td><td style = \"text-align: right;\">0.0123868</td><td style = \"text-align: right;\">0.0207936</td><td style = \"text-align: right;\">0.00842768</td><td style = \"text-align: right;\">0.110262</td><td style = \"text-align: right;\">0.0188111</td><td style = \"text-align: right;\">0.0399733</td><td style = \"text-align: right;\">0.0136234</td><td style = \"text-align: right;\">0.0354499</td><td style = \"text-align: right;\">-0.0248731</td><td style = \"text-align: right;\">0.00350749</td><td style = \"text-align: right;\">0.00675965</td><td style = \"text-align: right;\">0.0207511</td><td style = \"text-align: right;\">0.0103086</td><td style = \"text-align: right;\">0.0105678</td><td style = \"text-align: right;\">0.00908784</td><td style = \"text-align: right;\">0.00351105</td><td style = \"text-align: right;\">0.00729784</td><td style = \"text-align: right;\">0.0211223</td><td style = \"text-align: right;\">0.00805685</td><td style = \"text-align: right;\">-0.0132638</td><td style = \"text-align: right;\">0.0168167</td><td style = \"text-align: right;\">0.00867974</td><td style = \"text-align: right;\">0.00815593</td><td style = \"text-align: right;\">0.0136189</td><td style = \"text-align: right;\">0.0119003</td><td style = \"text-align: right;\">0.0172653</td><td style = \"text-align: right;\">0.030993</td><td style = \"text-align: right;\">0.0129923</td><td style = \"text-align: right;\">-0.00960312</td><td style = \"text-align: right;\">-0.00451137</td><td style = \"text-align: right;\">0.0217268</td><td style = \"text-align: right;\">0.016503</td><td style = \"text-align: right;\">-0.0034904</td><td style = \"text-align: right;\">0.00200355</td><td style = \"text-align: right;\">0.0140696</td><td style = \"text-align: right;\">0.00820683</td><td style = \"text-align: right;\">0.000197911</td><td style = \"text-align: right;\">0.0132814</td><td style = \"text-align: right;\">0.0144452</td><td style = \"text-align: right;\">0.00655396</td><td style = \"text-align: right;\">0.0227175</td><td style = \"text-align: right;\">0.0139299</td><td style = \"text-align: right;\">0.00459166</td><td style = \"text-align: right;\">0.0438997</td><td style = \"text-align: right;\">0.0120287</td><td style = \"text-align: right;\">0.0144516</td><td style = \"text-align: right;\">0.0117332</td><td style = \"text-align: right;\">0.00609308</td><td style = \"text-align: right;\">0.0204547</td><td style = \"text-align: right;\">0.0127512</td><td style = \"text-align: right;\">-0.0179891</td><td style = \"text-align: right;\">-0.0207209</td><td style = \"text-align: right;\">0.00442254</td><td style = \"text-align: right;\">-0.0175443</td><td style = \"text-align: right;\">-0.00177095</td><td style = \"text-align: right;\">0.0234314</td><td style = \"text-align: right;\">0.0131624</td><td style = \"text-align: right;\">0.0197064</td><td style = \"text-align: right;\">0.0229113</td><td style = \"text-align: right;\">0.0342162</td><td style = \"text-align: right;\">0.0138492</td><td style = \"text-align: right;\">0.0</td><td style = \"text-align: right;\">0.0158787</td><td style = \"text-align: right;\">0.0129591</td><td style = \"text-align: right;\">0.0292312</td><td style = \"text-align: right;\">0.0265393</td><td style = \"text-align: right;\">0.012627</td><td style = \"text-align: right;\">0.0136004</td><td style = \"text-align: right;\">-0.0245632</td><td style = \"text-align: right;\">0.0330552</td><td style = \"text-align: right;\">-0.00117389</td><td style = \"text-align: right;\">0.0156453</td><td style = \"text-align: right;\">0.0124379</td><td style = \"text-align: right;\">0.0115507</td><td style = \"text-align: right;\">0.0133648</td><td style = \"text-align: right;\">0.0115784</td><td style = \"text-align: right;\">0.0</td><td style = \"text-align: right;\">0.00693153</td><td style = \"text-align: right;\">0.00838321</td><td style = \"text-align: right;\">0.00777467</td><td style = \"text-align: right;\">0.00788332</td><td style = \"text-align: right;\">0.0179332</td><td style = \"text-align: right;\">0.0131958</td><td style = \"text-align: right;\">0.0165937</td><td style = \"text-align: right;\">0.012538</td><td style = \"text-align: right;\">0.0307967</td><td style = \"text-align: right;\">0.0176037</td><td style = \"text-align: right;\">0.019387</td><td style = \"text-align: right;\">&ctdot;</td></tr><tr><td class = \"rowNumber\" style = \"font-weight: bold; text-align: right;\">1297</td><td style = \"text-align: right;\">-0.0125075</td><td style = \"text-align: right;\">-0.0594787</td><td style = \"text-align: right;\">-0.0340217</td><td style = \"text-align: right;\">-0.0412173</td><td style = \"text-align: right;\">-0.0158796</td><td style = \"text-align: right;\">0.0116526</td><td style = \"text-align: right;\">0.0158865</td><td style = \"text-align: right;\">-0.0101228</td><td style = \"text-align: right;\">0.00491313</td><td style = \"text-align: right;\">0.00378684</td><td style = \"text-align: right;\">-0.0066726</td><td style = \"text-align: right;\">-0.0132226</td><td style = \"text-align: right;\">0.0109181</td><td style = \"text-align: right;\">0.020563</td><td style = \"text-align: right;\">0.0154388</td><td style = \"text-align: right;\">-0.0351222</td><td style = \"text-align: right;\">0.00610173</td><td style = \"text-align: right;\">-0.00422892</td><td style = \"text-align: right;\">0.0119494</td><td style = \"text-align: right;\">0.00395844</td><td style = \"text-align: right;\">-0.0964143</td><td style = \"text-align: right;\">0.000304363</td><td style = \"text-align: right;\">-0.0659689</td><td style = \"text-align: right;\">0.0145064</td><td style = \"text-align: right;\">-0.0171615</td><td style = \"text-align: right;\">-0.0522868</td><td style = \"text-align: right;\">-0.0383026</td><td style = \"text-align: right;\">-0.0164575</td><td style = \"text-align: right;\">0.0087907</td><td style = \"text-align: right;\">-0.0100635</td><td style = \"text-align: right;\">0.0192189</td><td style = \"text-align: right;\">-0.00776016</td><td style = \"text-align: right;\">-0.0347986</td><td style = \"text-align: right;\">-0.0237148</td><td style = \"text-align: right;\">-0.00150544</td><td style = \"text-align: right;\">-0.0915011</td><td style = \"text-align: right;\">-0.0175499</td><td style = \"text-align: right;\">-0.0484523</td><td style = \"text-align: right;\">-0.0150998</td><td style = \"text-align: right;\">-0.00745981</td><td style = \"text-align: right;\">0.0300989</td><td style = \"text-align: right;\">-0.0402604</td><td style = \"text-align: right;\">-0.00603604</td><td style = \"text-align: right;\">0.0098117</td><td style = \"text-align: right;\">-0.0355909</td><td style = \"text-align: right;\">-0.0012518</td><td style = \"text-align: right;\">0.00836534</td><td style = \"text-align: right;\">-0.062378</td><td style = \"text-align: right;\">-0.0274814</td><td style = \"text-align: right;\">-0.0109659</td><td style = \"text-align: right;\">0.026132</td><td style = \"text-align: right;\">0.0205606</td><td style = \"text-align: right;\">-0.0183424</td><td style = \"text-align: right;\">-0.00437542</td><td style = \"text-align: right;\">-0.0265182</td><td style = \"text-align: right;\">-0.0117827</td><td style = \"text-align: right;\">-0.00669024</td><td style = \"text-align: right;\">-0.0358941</td><td style = \"text-align: right;\">-0.00830887</td><td style = \"text-align: right;\">0.0128642</td><td style = \"text-align: right;\">-0.0199508</td><td style = \"text-align: right;\">-0.0323272</td><td style = \"text-align: right;\">0.00739832</td><td style = \"text-align: right;\">-0.0249471</td><td style = \"text-align: right;\">0.00857527</td><td style = \"text-align: right;\">-0.0269075</td><td style = \"text-align: right;\">-0.0333997</td><td style = \"text-align: right;\">-0.0067682</td><td style = \"text-align: right;\">0.0110534</td><td style = \"text-align: right;\">-0.0140252</td><td style = \"text-align: right;\">-0.0224525</td><td style = \"text-align: right;\">-0.0116345</td><td style = \"text-align: right;\">0.00418446</td><td style = \"text-align: right;\">-0.0403566</td><td style = \"text-align: right;\">0.0148547</td><td style = \"text-align: right;\">0.00107241</td><td style = \"text-align: right;\">0.0103519</td><td style = \"text-align: right;\">-0.0565145</td><td style = \"text-align: right;\">-0.0417447</td><td style = \"text-align: right;\">-0.0353906</td><td style = \"text-align: right;\">-0.0714034</td><td style = \"text-align: right;\">-0.0310631</td><td style = \"text-align: right;\">0.0197719</td><td style = \"text-align: right;\">-0.00231967</td><td style = \"text-align: right;\">-0.0151059</td><td style = \"text-align: right;\">-0.0352409</td><td style = \"text-align: right;\">0.0146394</td><td style = \"text-align: right;\">-0.0487262</td><td style = \"text-align: right;\">-0.0757043</td><td style = \"text-align: right;\">0.0185308</td><td style = \"text-align: right;\">-0.0242411</td><td style = \"text-align: right;\">-0.0355961</td><td style = \"text-align: right;\">-0.0800754</td><td style = \"text-align: right;\">-0.0383718</td><td style = \"text-align: right;\">-0.0158559</td><td style = \"text-align: right;\">0.00770407</td><td style = \"text-align: right;\">0.0193133</td><td style = \"text-align: right;\">-0.037183</td><td style = \"text-align: right;\">-0.0467117</td><td style = \"text-align: right;\">0.00857574</td><td style = \"text-align: right;\">&ctdot;</td></tr><tr><td class = \"rowNumber\" style = \"font-weight: bold; text-align: right;\">1298</td><td style = \"text-align: right;\">-0.0262255</td><td style = \"text-align: right;\">-0.00256492</td><td style = \"text-align: right;\">-0.0382118</td><td style = \"text-align: right;\">-0.0237187</td><td style = \"text-align: right;\">-0.00886159</td><td style = \"text-align: right;\">-0.0177469</td><td style = \"text-align: right;\">-0.019007</td><td style = \"text-align: right;\">0.00228733</td><td style = \"text-align: right;\">0.0119765</td><td style = \"text-align: right;\">0.00148379</td><td style = \"text-align: right;\">-0.00599497</td><td style = \"text-align: right;\">-0.0164506</td><td style = \"text-align: right;\">-0.016454</td><td style = \"text-align: right;\">-0.0360426</td><td style = \"text-align: right;\">-0.0231061</td><td style = \"text-align: right;\">-0.0336242</td><td style = \"text-align: right;\">-0.0233316</td><td style = \"text-align: right;\">-0.0337387</td><td style = \"text-align: right;\">-0.013342</td><td style = \"text-align: right;\">0.0144628</td><td style = \"text-align: right;\">0.0311053</td><td style = \"text-align: right;\">-0.00365907</td><td style = \"text-align: right;\">-0.0302078</td><td style = \"text-align: right;\">-0.0151091</td><td style = \"text-align: right;\">-0.0218138</td><td style = \"text-align: right;\">-0.010277</td><td style = \"text-align: right;\">0.0048524</td><td style = \"text-align: right;\">0.0253305</td><td style = \"text-align: right;\">0.00452672</td><td style = \"text-align: right;\">-0.0655517</td><td style = \"text-align: right;\">-0.0119504</td><td style = \"text-align: right;\">0.0</td><td style = \"text-align: right;\">-0.00596842</td><td style = \"text-align: right;\">-0.00684491</td><td style = \"text-align: right;\">-0.0116676</td><td style = \"text-align: right;\">-0.0170853</td><td style = \"text-align: right;\">-0.0172082</td><td style = \"text-align: right;\">-0.00632416</td><td style = \"text-align: right;\">0.0101831</td><td style = \"text-align: right;\">-0.0100006</td><td style = \"text-align: right;\">0.000935853</td><td style = \"text-align: right;\">-0.0316493</td><td style = \"text-align: right;\">-0.0278892</td><td style = \"text-align: right;\">-0.0255799</td><td style = \"text-align: right;\">-0.040671</td><td style = \"text-align: right;\">-0.00301051</td><td style = \"text-align: right;\">-0.0225695</td><td style = \"text-align: right;\">0.000586905</td><td style = \"text-align: right;\">-0.0120717</td><td style = \"text-align: right;\">-0.0249979</td><td style = \"text-align: right;\">-0.00265459</td><td style = \"text-align: right;\">-0.00667778</td><td style = \"text-align: right;\">-0.0415287</td><td style = \"text-align: right;\">-0.00117964</td><td style = \"text-align: right;\">-0.0678763</td><td style = \"text-align: right;\">-0.0655341</td><td style = \"text-align: right;\">-0.0215187</td><td style = \"text-align: right;\">-0.142764</td><td style = \"text-align: right;\">-0.0115971</td><td style = \"text-align: right;\">-0.0184667</td><td style = \"text-align: right;\">-0.0147174</td><td style = \"text-align: right;\">-0.00181154</td><td style = \"text-align: right;\">0.00775042</td><td style = \"text-align: right;\">0.0330117</td><td style = \"text-align: right;\">0.00661127</td><td style = \"text-align: right;\">0.0559793</td><td style = \"text-align: right;\">-0.0234748</td><td style = \"text-align: right;\">-0.0323221</td><td style = \"text-align: right;\">-0.0182713</td><td style = \"text-align: right;\">-0.00970087</td><td style = \"text-align: right;\">-0.0171181</td><td style = \"text-align: right;\">-0.0153058</td><td style = \"text-align: right;\">-0.00720815</td><td style = \"text-align: right;\">-0.0116997</td><td style = \"text-align: right;\">-0.0123291</td><td style = \"text-align: right;\">-0.0256934</td><td style = \"text-align: right;\">-0.0120877</td><td style = \"text-align: right;\">-0.0230102</td><td style = \"text-align: right;\">-0.0143611</td><td style = \"text-align: right;\">-0.0644953</td><td style = \"text-align: right;\">0.0490948</td><td style = \"text-align: right;\">-0.0251389</td><td style = \"text-align: right;\">-0.0225165</td><td style = \"text-align: right;\">-0.0224675</td><td style = \"text-align: right;\">7.35237e-5</td><td style = \"text-align: right;\">-0.0160601</td><td style = \"text-align: right;\">-0.0193091</td><td style = \"text-align: right;\">-0.00833645</td><td style = \"text-align: right;\">-0.0330063</td><td style = \"text-align: right;\">-0.0173625</td><td style = \"text-align: right;\">-0.000841599</td><td style = \"text-align: right;\">-0.00186329</td><td style = \"text-align: right;\">0.0249934</td><td style = \"text-align: right;\">-0.0351097</td><td style = \"text-align: right;\">-0.0329452</td><td style = \"text-align: right;\">-0.0121203</td><td style = \"text-align: right;\">-0.00622453</td><td style = \"text-align: right;\">-0.0450091</td><td style = \"text-align: right;\">-0.0163067</td><td style = \"text-align: right;\">-0.00854347</td><td style = \"text-align: right;\">&ctdot;</td></tr><tr><td class = \"rowNumber\" style = \"font-weight: bold; text-align: right;\">1299</td><td style = \"text-align: right;\">0.0276494</td><td style = \"text-align: right;\">0.0387267</td><td style = \"text-align: right;\">0.0539489</td><td style = \"text-align: right;\">-0.00667356</td><td style = \"text-align: right;\">-0.000805594</td><td style = \"text-align: right;\">0.0180305</td><td style = \"text-align: right;\">0.000944494</td><td style = \"text-align: right;\">0.00714662</td><td style = \"text-align: right;\">0.0116131</td><td style = \"text-align: right;\">0.01843</td><td style = \"text-align: right;\">0.0144412</td><td style = \"text-align: right;\">-0.000436596</td><td style = \"text-align: right;\">-0.00964955</td><td style = \"text-align: right;\">-0.0127813</td><td style = \"text-align: right;\">-0.0177352</td><td style = \"text-align: right;\">0.012856</td><td style = \"text-align: right;\">0.00519101</td><td style = \"text-align: right;\">0.0181191</td><td style = \"text-align: right;\">0.0103827</td><td style = \"text-align: right;\">0.00775761</td><td style = \"text-align: right;\">0.028013</td><td style = \"text-align: right;\">0.0</td><td style = \"text-align: right;\">0.0250543</td><td style = \"text-align: right;\">0.00265937</td><td style = \"text-align: right;\">0.0214976</td><td style = \"text-align: right;\">0.0184796</td><td style = \"text-align: right;\">0.0158997</td><td style = \"text-align: right;\">0.00909006</td><td style = \"text-align: right;\">0.0139324</td><td style = \"text-align: right;\">0.0216834</td><td style = \"text-align: right;\">0.0075516</td><td style = \"text-align: right;\">0.00916468</td><td style = \"text-align: right;\">0.0221282</td><td style = \"text-align: right;\">0.0140094</td><td style = \"text-align: right;\">0.0134738</td><td style = \"text-align: right;\">-0.00161675</td><td style = \"text-align: right;\">0.0201974</td><td style = \"text-align: right;\">0.0259877</td><td style = \"text-align: right;\">-0.00384087</td><td style = \"text-align: right;\">0.0167757</td><td style = \"text-align: right;\">-0.00406184</td><td style = \"text-align: right;\">0.0486219</td><td style = \"text-align: right;\">0.0285808</td><td style = \"text-align: right;\">-0.010742</td><td style = \"text-align: right;\">-0.0152095</td><td style = \"text-align: right;\">-0.00781938</td><td style = \"text-align: right;\">0.00661512</td><td style = \"text-align: right;\">0.0216333</td><td style = \"text-align: right;\">0.0172594</td><td style = \"text-align: right;\">0.0130483</td><td style = \"text-align: right;\">-0.00996319</td><td style = \"text-align: right;\">-0.00116037</td><td style = \"text-align: right;\">0.00250151</td><td style = \"text-align: right;\">0.0233938</td><td style = \"text-align: right;\">0.0264563</td><td style = \"text-align: right;\">-0.00894535</td><td style = \"text-align: right;\">0.0163269</td><td style = \"text-align: right;\">0.00437872</td><td style = \"text-align: right;\">0.0222018</td><td style = \"text-align: right;\">-0.000669101</td><td style = \"text-align: right;\">0.0297176</td><td style = \"text-align: right;\">0.00013949</td><td style = \"text-align: right;\">0.029823</td><td style = \"text-align: right;\">0.0528526</td><td style = \"text-align: right;\">0.0078208</td><td style = \"text-align: right;\">0.0543688</td><td style = \"text-align: right;\">0.0385295</td><td style = \"text-align: right;\">0.0118537</td><td style = \"text-align: right;\">-0.0100936</td><td style = \"text-align: right;\">0.00388351</td><td style = \"text-align: right;\">-0.0126792</td><td style = \"text-align: right;\">0.0170323</td><td style = \"text-align: right;\">0.00637267</td><td style = \"text-align: right;\">0.0138978</td><td style = \"text-align: right;\">0.00272549</td><td style = \"text-align: right;\">0.0040241</td><td style = \"text-align: right;\">0.0105608</td><td style = \"text-align: right;\">0.0285966</td><td style = \"text-align: right;\">0.00920302</td><td style = \"text-align: right;\">0.0083959</td><td style = \"text-align: right;\">-0.00200645</td><td style = \"text-align: right;\">0.032091</td><td style = \"text-align: right;\">-0.00314589</td><td style = \"text-align: right;\">0.00874952</td><td style = \"text-align: right;\">-0.00789816</td><td style = \"text-align: right;\">0.0352992</td><td style = \"text-align: right;\">0.0100148</td><td style = \"text-align: right;\">0.020471</td><td style = \"text-align: right;\">0.0501741</td><td style = \"text-align: right;\">0.0044482</td><td style = \"text-align: right;\">-0.0151293</td><td style = \"text-align: right;\">0.0140335</td><td style = \"text-align: right;\">0.11951</td><td style = \"text-align: right;\">0.0135895</td><td style = \"text-align: right;\">-0.00575177</td><td style = \"text-align: right;\">-0.000451691</td><td style = \"text-align: right;\">0.026944</td><td style = \"text-align: right;\">0.0719412</td><td style = \"text-align: right;\">0.00995743</td><td style = \"text-align: right;\">0.00803663</td><td style = \"text-align: right;\">&ctdot;</td></tr><tr><td class = \"rowNumber\" style = \"font-weight: bold; text-align: right;\">1300</td><td style = \"text-align: right;\">0.000316138</td><td style = \"text-align: right;\">0.0138018</td><td style = \"text-align: right;\">-0.0614678</td><td style = \"text-align: right;\">-0.0211834</td><td style = \"text-align: right;\">-0.00174073</td><td style = \"text-align: right;\">-0.00374148</td><td style = \"text-align: right;\">-0.0192829</td><td style = \"text-align: right;\">-0.0186066</td><td style = \"text-align: right;\">-0.0144196</td><td style = \"text-align: right;\">-0.00837155</td><td style = \"text-align: right;\">-0.0296324</td><td style = \"text-align: right;\">0.0481662</td><td style = \"text-align: right;\">-0.0260094</td><td style = \"text-align: right;\">-0.0162357</td><td style = \"text-align: right;\">-0.00776781</td><td style = \"text-align: right;\">-0.00824559</td><td style = \"text-align: right;\">-0.00194352</td><td style = \"text-align: right;\">-0.000369011</td><td style = \"text-align: right;\">-0.00276211</td><td style = \"text-align: right;\">-0.000120777</td><td style = \"text-align: right;\">0.0301304</td><td style = \"text-align: right;\">-0.00244691</td><td style = \"text-align: right;\">-0.0126522</td><td style = \"text-align: right;\">-0.0107309</td><td style = \"text-align: right;\">0.00685497</td><td style = \"text-align: right;\">-0.013899</td><td style = \"text-align: right;\">-0.024638</td><td style = \"text-align: right;\">-0.0281287</td><td style = \"text-align: right;\">0.0039408</td><td style = \"text-align: right;\">-0.012134</td><td style = \"text-align: right;\">-0.00846937</td><td style = \"text-align: right;\">0.0351639</td><td style = \"text-align: right;\">-0.0374561</td><td style = \"text-align: right;\">-0.00808674</td><td style = \"text-align: right;\">0.0256825</td><td style = \"text-align: right;\">0.0112631</td><td style = \"text-align: right;\">-0.00199182</td><td style = \"text-align: right;\">-0.0468218</td><td style = \"text-align: right;\">-0.0741503</td><td style = \"text-align: right;\">-0.0236656</td><td style = \"text-align: right;\">-0.00376415</td><td style = \"text-align: right;\">0.00369564</td><td style = \"text-align: right;\">-0.0106004</td><td style = \"text-align: right;\">-0.0122242</td><td style = \"text-align: right;\">-0.0350913</td><td style = \"text-align: right;\">-0.0109486</td><td style = \"text-align: right;\">-0.0269561</td><td style = \"text-align: right;\">-0.0654089</td><td style = \"text-align: right;\">0.00122153</td><td style = \"text-align: right;\">-0.00230006</td><td style = \"text-align: right;\">0.00260859</td><td style = \"text-align: right;\">0.00604466</td><td style = \"text-align: right;\">-0.0305121</td><td style = \"text-align: right;\">0.0167078</td><td style = \"text-align: right;\">-0.0294185</td><td style = \"text-align: right;\">-0.0198216</td><td style = \"text-align: right;\">0.00595872</td><td style = \"text-align: right;\">0.0398418</td><td style = \"text-align: right;\">0.00986922</td><td style = \"text-align: right;\">0.00542876</td><td style = \"text-align: right;\">-0.00447651</td><td style = \"text-align: right;\">0.0401803</td><td style = \"text-align: right;\">-0.000394486</td><td style = \"text-align: right;\">0.0163009</td><td style = \"text-align: right;\">0.0247316</td><td style = \"text-align: right;\">0.00765942</td><td style = \"text-align: right;\">-0.00914515</td><td style = \"text-align: right;\">-0.0218402</td><td style = \"text-align: right;\">-0.0113733</td><td style = \"text-align: right;\">-0.0460874</td><td style = \"text-align: right;\">-0.00997392</td><td style = \"text-align: right;\">-0.0088185</td><td style = \"text-align: right;\">0.00600003</td><td style = \"text-align: right;\">-0.00534677</td><td style = \"text-align: right;\">-0.0193623</td><td style = \"text-align: right;\">-0.0243914</td><td style = \"text-align: right;\">-0.0380562</td><td style = \"text-align: right;\">0.0837529</td><td style = \"text-align: right;\">-0.0150357</td><td style = \"text-align: right;\">-0.0331645</td><td style = \"text-align: right;\">0.0788757</td><td style = \"text-align: right;\">0.00135138</td><td style = \"text-align: right;\">0.0229716</td><td style = \"text-align: right;\">-0.00322286</td><td style = \"text-align: right;\">-0.0237976</td><td style = \"text-align: right;\">0.00741731</td><td style = \"text-align: right;\">-0.00251178</td><td style = \"text-align: right;\">0.0138941</td><td style = \"text-align: right;\">-0.00783205</td><td style = \"text-align: right;\">0.00579532</td><td style = \"text-align: right;\">0.0100646</td><td style = \"text-align: right;\">-0.00631328</td><td style = \"text-align: right;\">0.0162486</td><td style = \"text-align: right;\">0.00392367</td><td style = \"text-align: right;\">-0.0226355</td><td style = \"text-align: right;\">0.00207624</td><td style = \"text-align: right;\">0.0118736</td><td style = \"text-align: right;\">-0.0497532</td><td style = \"text-align: right;\">0.00915823</td><td style = \"text-align: right;\">0.0185469</td><td style = \"text-align: right;\">&ctdot;</td></tr><tr><td class = \"rowNumber\" style = \"font-weight: bold; text-align: right;\">1301</td><td style = \"text-align: right;\">0.00118455</td><td style = \"text-align: right;\">0.000304502</td><td style = \"text-align: right;\">-0.0167432</td><td style = \"text-align: right;\">0.0504454</td><td style = \"text-align: right;\">0.0157676</td><td style = \"text-align: right;\">0.0166576</td><td style = \"text-align: right;\">0.0151351</td><td style = \"text-align: right;\">0.000994112</td><td style = \"text-align: right;\">0.0103336</td><td style = \"text-align: right;\">0.0143086</td><td style = \"text-align: right;\">0.0137755</td><td style = \"text-align: right;\">0.0283095</td><td style = \"text-align: right;\">0.0131056</td><td style = \"text-align: right;\">0.0148166</td><td style = \"text-align: right;\">0.0195943</td><td style = \"text-align: right;\">0.0343614</td><td style = \"text-align: right;\">0.00425224</td><td style = \"text-align: right;\">0.00294838</td><td style = \"text-align: right;\">-0.0458464</td><td style = \"text-align: right;\">0.0553185</td><td style = \"text-align: right;\">-0.0127642</td><td style = \"text-align: right;\">-0.000612665</td><td style = \"text-align: right;\">0.010123</td><td style = \"text-align: right;\">0.0165766</td><td style = \"text-align: right;\">0.0305456</td><td style = \"text-align: right;\">-0.0103359</td><td style = \"text-align: right;\">0.026953</td><td style = \"text-align: right;\">0.0146618</td><td style = \"text-align: right;\">0.0219091</td><td style = \"text-align: right;\">-0.00720357</td><td style = \"text-align: right;\">0.0255727</td><td style = \"text-align: right;\">0.00675218</td><td style = \"text-align: right;\">-0.00725092</td><td style = \"text-align: right;\">0.0014444</td><td style = \"text-align: right;\">0.0171466</td><td style = \"text-align: right;\">0.00478852</td><td style = \"text-align: right;\">0.0173746</td><td style = \"text-align: right;\">0.018929</td><td style = \"text-align: right;\">-0.00415306</td><td style = \"text-align: right;\">0.026597</td><td style = \"text-align: right;\">0.0367155</td><td style = \"text-align: right;\">-0.0215244</td><td style = \"text-align: right;\">-0.0352037</td><td style = \"text-align: right;\">0.0152571</td><td style = \"text-align: right;\">-0.0281708</td><td style = \"text-align: right;\">0.0162522</td><td style = \"text-align: right;\">-0.000228873</td><td style = \"text-align: right;\">0.0828978</td><td style = \"text-align: right;\">0.0259076</td><td style = \"text-align: right;\">0.00840759</td><td style = \"text-align: right;\">0.0509314</td><td style = \"text-align: right;\">0.0193022</td><td style = \"text-align: right;\">-0.00885502</td><td style = \"text-align: right;\">-0.000226828</td><td style = \"text-align: right;\">-0.0271921</td><td style = \"text-align: right;\">0.00484274</td><td style = \"text-align: right;\">0.039088</td><td style = \"text-align: right;\">0.0102527</td><td style = \"text-align: right;\">-0.0026716</td><td style = \"text-align: right;\">0.0184669</td><td style = \"text-align: right;\">0.0128779</td><td style = \"text-align: right;\">0.0126457</td><td style = \"text-align: right;\">-0.0105107</td><td style = \"text-align: right;\">0.0149852</td><td style = \"text-align: right;\">0.0202191</td><td style = \"text-align: right;\">0.0785224</td><td style = \"text-align: right;\">0.0124048</td><td style = \"text-align: right;\">0.0134875</td><td style = \"text-align: right;\">0.0105414</td><td style = \"text-align: right;\">-0.00277577</td><td style = \"text-align: right;\">0.0233528</td><td style = \"text-align: right;\">-0.0078997</td><td style = \"text-align: right;\">0.0150081</td><td style = \"text-align: right;\">0.0112889</td><td style = \"text-align: right;\">0.0128668</td><td style = \"text-align: right;\">-0.00112292</td><td style = \"text-align: right;\">-0.0167063</td><td style = \"text-align: right;\">-0.0700469</td><td style = \"text-align: right;\">0.0343515</td><td style = \"text-align: right;\">-0.00170168</td><td style = \"text-align: right;\">0.010427</td><td style = \"text-align: right;\">0.0258418</td><td style = \"text-align: right;\">0.0469923</td><td style = \"text-align: right;\">-0.00402353</td><td style = \"text-align: right;\">0.00863958</td><td style = \"text-align: right;\">0.0268781</td><td style = \"text-align: right;\">0.0010473</td><td style = \"text-align: right;\">0.00958868</td><td style = \"text-align: right;\">0.00924945</td><td style = \"text-align: right;\">0.0264388</td><td style = \"text-align: right;\">0.00968489</td><td style = \"text-align: right;\">0.000205617</td><td style = \"text-align: right;\">0.00180927</td><td style = \"text-align: right;\">0.00676465</td><td style = \"text-align: right;\">-0.0173793</td><td style = \"text-align: right;\">0.0129023</td><td style = \"text-align: right;\">-0.00897106</td><td style = \"text-align: right;\">-0.0517584</td><td style = \"text-align: right;\">0.0391937</td><td style = \"text-align: right;\">0.0169327</td><td style = \"text-align: right;\">&ctdot;</td></tr></tbody></table></div>"
      ],
      "text/latex": [
       "\\begin{tabular}{r|ccccccc}\n",
       "\t& A & AA & AAL & AAP & AAPL & ABBV & \\\\\n",
       "\t\\hline\n",
       "\t& Float64 & Float64 & Float64 & Float64 & Float64 & Float64 & \\\\\n",
       "\t\\hline\n",
       "\t1 & -0.0161859 & 0.00372787 & -0.0507687 & 6.26014e-5 & -0.00976959 & -0.0095374 & $\\dots$ \\\\\n",
       "\t2 & 0.0029518 & -0.0235305 & -0.0120067 & -0.0165713 & 0.00793653 & 0.0078607 & $\\dots$ \\\\\n",
       "\t3 & 0.00306068 & 0.0151229 & -0.00366705 & -0.0119329 & -0.00471395 & -0.00572072 & $\\dots$ \\\\\n",
       "\t4 & 0.00982453 & -0.0411738 & 0.0225219 & -0.0115549 & 0.0159581 & 0.0070622 & $\\dots$ \\\\\n",
       "\t5 & 0.0155901 & -0.0322847 & 0.00394341 & -0.00189513 & 0.0210185 & 0.00767833 & $\\dots$ \\\\\n",
       "\t6 & 0.00366022 & -0.0183398 & -0.0227982 & -0.0255748 & 0.00225799 & -0.0128299 & $\\dots$ \\\\\n",
       "\t7 & -0.0014855 & 0.00819257 & 0.00255895 & -0.025488 & 0.0211394 & -0.00608228 & $\\dots$ \\\\\n",
       "\t8 & 0.00604186 & 0.0380235 & 0.0050984 & 0.0247497 & -0.0135954 & 0.00979897 & $\\dots$ \\\\\n",
       "\t9 & 0.00713438 & -0.0093709 & 0.00181449 & 0.00875938 & -0.0042945 & 0.0119464 & $\\dots$ \\\\\n",
       "\t10 & 0.00943384 & -0.126618 & 0.0232944 & 0.0114513 & 0.0124486 & 0.0 & $\\dots$ \\\\\n",
       "\t11 & 0.00735077 & -0.00507464 & 0.00600385 & -0.00587488 & 0.0110101 & -0.0142167 & $\\dots$ \\\\\n",
       "\t12 & -0.00567519 & -0.0327523 & -0.0431721 & -0.0136646 & -0.00679981 & -0.000113536 & $\\dots$ \\\\\n",
       "\t13 & 0.005786 & -0.0314474 & 0.004402 & -0.0091015 & 0.00356291 & -0.00890429 & $\\dots$ \\\\\n",
       "\t14 & -0.0118304 & -0.0182484 & 0.0527563 & 0.0139891 & 0.00480444 & -0.0224962 & $\\dots$ \\\\\n",
       "\t15 & -0.00913556 & -0.0490666 & -0.0411114 & -0.0552629 & -0.00288615 & -0.020497 & $\\dots$ \\\\\n",
       "\t16 & -0.0194493 & -0.0421391 & -0.0569455 & -0.0186653 & -0.0298462 & 0.00572898 & $\\dots$ \\\\\n",
       "\t17 & 0.00713727 & -0.0108182 & 0.0298079 & -0.00345767 & 0.0278965 & -0.0029797 & $\\dots$ \\\\\n",
       "\t18 & 0.000687812 & -0.0143789 & -0.00372442 & -0.00021643 & 0.0207164 & -0.00682739 & $\\dots$ \\\\\n",
       "\t19 & -0.0333323 & -0.0145886 & 0.0337523 & -0.0239587 & -0.00145029 & -0.0172149 & $\\dots$ \\\\\n",
       "\t20 & -0.0218052 & -0.0240805 & -0.0322608 & -0.0263665 & -0.0453517 & -0.00933681 & $\\dots$ \\\\\n",
       "\t21 & -0.00497823 & 0.0205755 & 0.011852 & 0.00680783 & -0.00275014 & 0.0156751 & $\\dots$ \\\\\n",
       "\t22 & 0.016539 & 0.0317926 & 0.0493883 & -0.0082512 & 0.0324805 & 0.0247224 & $\\dots$ \\\\\n",
       "\t23 & 0.0167413 & 0.0727952 & 0.0232933 & 0.0406641 & 0.00812142 & 0.0265527 & $\\dots$ \\\\\n",
       "\t24 & -0.00129608 & 0.00693344 & -0.0278764 & -0.0195301 & 0.011629 & 0.006329 & $\\dots$ \\\\\n",
       "\t25 & -0.0196446 & -0.0235156 & 0.00282286 & -0.0107743 & -0.0136857 & 0.0569606 & $\\dots$ \\\\\n",
       "\t26 & 0.0150361 & -0.00839518 & 0.0143435 & -0.0170711 & 0.00473794 & 0.026306 & $\\dots$ \\\\\n",
       "\t27 & 0.00778653 & 0.0205398 & 0.0358216 & 0.0108834 & -0.00605132 & 0.0131064 & $\\dots$ \\\\\n",
       "\t28 & 0.00398802 & 0.0012699 & 0.0208928 & 0.0165901 & 0.02347 & 0.0184744 & $\\dots$ \\\\\n",
       "\t29 & 0.000468048 & -0.000634813 & -0.0125497 & 0.00260224 & -0.00714654 & -0.0252679 & $\\dots$ \\\\\n",
       "\t30 & 0.00408651 & -0.00509225 & -0.0300242 & -0.00805203 & 0.00024606 & -0.0137279 & $\\dots$ \\\\\n",
       "\t$\\dots$ & $\\dots$ & $\\dots$ & $\\dots$ & $\\dots$ & $\\dots$ & $\\dots$ &  \\\\\n",
       "\\end{tabular}\n"
      ],
      "text/plain": [
       "\u001b[1m1301×550 DataFrame\u001b[0m\n",
       "\u001b[1m  Row \u001b[0m│\u001b[1m A            \u001b[0m\u001b[1m AA           \u001b[0m\u001b[1m AAL         \u001b[0m\u001b[1m AAP          \u001b[0m\u001b[1m AAPL         \u001b[0m\u001b[1m A\u001b[0m ⋯\n",
       "      │\u001b[90m Float64      \u001b[0m\u001b[90m Float64      \u001b[0m\u001b[90m Float64     \u001b[0m\u001b[90m Float64      \u001b[0m\u001b[90m Float64      \u001b[0m\u001b[90m F\u001b[0m ⋯\n",
       "──────┼─────────────────────────────────────────────────────────────────────────\n",
       "    1 │ -0.0161859     0.00372787   -0.0507687    6.26014e-5   -0.00976959   - ⋯\n",
       "    2 │  0.0029518    -0.0235305    -0.0120067   -0.0165713     0.00793653\n",
       "    3 │  0.00306068    0.0151229    -0.00366705  -0.0119329    -0.00471395   -\n",
       "    4 │  0.00982453   -0.0411738     0.0225219   -0.0115549     0.0159581\n",
       "    5 │  0.0155901    -0.0322847     0.00394341  -0.00189513    0.0210185      ⋯\n",
       "    6 │  0.00366022   -0.0183398    -0.0227982   -0.0255748     0.00225799   -\n",
       "    7 │ -0.0014855     0.00819257    0.00255895  -0.025488      0.0211394    -\n",
       "    8 │  0.00604186    0.0380235     0.0050984    0.0247497    -0.0135954\n",
       "    9 │  0.00713438   -0.0093709     0.00181449   0.00875938   -0.0042945      ⋯\n",
       "   10 │  0.00943384   -0.126618      0.0232944    0.0114513     0.0124486\n",
       "   11 │  0.00735077   -0.00507464    0.00600385  -0.00587488    0.0110101    -\n",
       "  ⋮   │      ⋮             ⋮             ⋮            ⋮             ⋮          ⋱\n",
       " 1292 │ -0.000665039   0.0178627     0.0052391   -0.0146089     0.00629253\n",
       " 1293 │ -0.00816457   -0.0187353    -0.0118267    0.0692576    -0.000242898    ⋯\n",
       " 1294 │  0.00215901   -0.0205768     0.00329926  -0.196369     -0.0274124    -\n",
       " 1295 │ -0.0565243    -0.00715356   -0.0437633   -0.0198239    -0.0128126\n",
       " 1296 │  0.00658823   -0.0053989    -0.0124655   -0.00162463    0.0189512\n",
       " 1297 │ -0.0125075    -0.0594787    -0.0340217   -0.0412173    -0.0158796      ⋯\n",
       " 1298 │ -0.0262255    -0.00256492   -0.0382118   -0.0237187    -0.00886159   -\n",
       " 1299 │  0.0276494     0.0387267     0.0539489   -0.00667356   -0.000805594\n",
       " 1300 │  0.000316138   0.0138018    -0.0614678   -0.0211834    -0.00174073   -\n",
       " 1301 │  0.00118455    0.000304502  -0.0167432    0.0504454     0.0157676      ⋯\n",
       "\u001b[36m                                               545 columns and 1280 rows omitted\u001b[0m"
      ]
     },
     "execution_count": 11,
     "metadata": {},
     "output_type": "execute_result"
    }
   ],
   "source": [
    "# Calculate the log returns for each stock\n",
    "asset_returns = asset_return(tsframe, method = \"log\")\n",
    "\n",
    "# Extract returns as vectors for correlation analysis\n",
    "returns_vectors = Dict(ticker => collect(skipmissing(asset_returns[:, ticker])) for ticker in names(asset_returns)[1:end])\n",
    "\n",
    "# Convert the returns vectors to a DataFrame for better visualization\n",
    "returns_df = DataFrame(returns_vectors)\n"
   ]
  },
  {
   "cell_type": "code",
   "execution_count": 12,
   "id": "79bd9ba9-d496-4a70-99d8-99bdf4ed236a",
   "metadata": {},
   "outputs": [
    {
     "data": {
      "text/plain": [
       "1301×550 Matrix{Float64}:\n",
       " -0.0161859     0.00372787   -0.0507687   …  -0.0211773     0.000149\n",
       "  0.0029518    -0.0235305    -0.0120067       0.0441933    -0.00770718\n",
       "  0.00306068    0.0151229    -0.00366705      0.02222       0.00337452\n",
       "  0.00982453   -0.0411738     0.0225219       0.00899974   -0.00217363\n",
       "  0.0155901    -0.0322847     0.00394341      0.000964382   0.0131923\n",
       "  0.00366022   -0.0183398    -0.0227982   …   0.0064511     0.00376903\n",
       " -0.0014855     0.00819257    0.00255895      0.0127789     0.00690948\n",
       "  0.00604186    0.0380235     0.0050984      -0.0118215     0.00555206\n",
       "  0.00713438   -0.0093709     0.00181449      0.0503771     0.00920914\n",
       "  0.00943384   -0.126618      0.0232944      -0.0108463     0.00648478\n",
       "  0.00735077   -0.00507464    0.00600385  …  -0.00725266    0.00658564\n",
       " -0.00567519   -0.0327523    -0.0431721       0.0153658     0.0125495\n",
       "  0.005786     -0.0314474     0.004402       -0.0156305    -0.00303439\n",
       "  ⋮                                       ⋱                \n",
       " -0.00262832    0.0291454    -0.00878853     -0.0204016     0.00496721\n",
       " -0.0104351    -0.0795953    -0.0405331   …  -0.0114493     0.0191274\n",
       " -0.000665039   0.0178627     0.0052391      -0.0171154     0.0297778\n",
       " -0.00816457   -0.0187353    -0.0118267      -0.0886493     0.0192913\n",
       "  0.00215901   -0.0205768     0.00329926     -0.000943583  -0.0212289\n",
       " -0.0565243    -0.00715356   -0.0437633      -0.0172759    -6.06708e-5\n",
       "  0.00658823   -0.0053989    -0.0124655   …   0.0111885     0.0136057\n",
       " -0.0125075    -0.0594787    -0.0340217       0.00824274    0.0194813\n",
       " -0.0262255    -0.00256492   -0.0382118       0.00830885   -0.00370123\n",
       "  0.0276494     0.0387267     0.0539489       0.00890191   -0.0172162\n",
       "  0.000316138   0.0138018    -0.0614678      -0.0015885     0.00149589\n",
       "  0.00118455    0.000304502  -0.0167432   …   0.00660243    0.0184828"
      ]
     },
     "execution_count": 12,
     "metadata": {},
     "output_type": "execute_result"
    }
   ],
   "source": [
    "# Convert the DataFrame to a matrix\n",
    "returns_matrix = Matrix(returns_df)"
   ]
  },
  {
   "cell_type": "code",
   "execution_count": null,
   "id": "4a8abb3e-2c9e-41f4-9070-e1c40d7301df",
   "metadata": {},
   "outputs": [],
   "source": []
  },
  {
   "cell_type": "code",
   "execution_count": null,
   "id": "f5704132-a4d8-43ad-9ae5-ee6c22ea3ae5",
   "metadata": {},
   "outputs": [],
   "source": []
  },
  {
   "cell_type": "code",
   "execution_count": null,
   "id": "a27ebc72-c21d-4d42-a9d3-61984ad7a8c1",
   "metadata": {},
   "outputs": [],
   "source": []
  },
  {
   "cell_type": "markdown",
   "id": "1c457cae-cf58-402c-a5df-cb4741b289a3",
   "metadata": {},
   "source": [
    "# Unbiased or Random Test"
   ]
  },
  {
   "cell_type": "code",
   "execution_count": 13,
   "id": "fbef7167-8409-493b-88b0-b420075924a2",
   "metadata": {},
   "outputs": [
    {
     "name": "stdout",
     "output_type": "stream",
     "text": [
      "Number of NaNs after deletion: 71341\n"
     ]
    }
   ],
   "source": [
    "using Random\n",
    "# Function to randomly delete data (set to NaN)\n",
    "function delete_random_data!(matrix::Matrix{Float64}, fraction::Float64)\n",
    "    Random.seed!(10)  # For reproducibility\n",
    "    for i in 1:size(matrix, 1)\n",
    "        for j in 1:size(matrix, 2)\n",
    "            if rand() < fraction\n",
    "                matrix[i, j] = NaN\n",
    "            end\n",
    "        end\n",
    "    end\n",
    "    return matrix\n",
    "end\n",
    "\n",
    "# Apply the deletion (e.g., % of values set to NaN)\n",
    "delete_random_data!(returns_matrix, 0.10)\n",
    "println(\"Number of NaNs after deletion: \", sum(isnan.(returns_matrix)))            "
   ]
  },
  {
   "cell_type": "code",
   "execution_count": null,
   "id": "44a74360-31c4-4722-9b0c-0b6f66ead778",
   "metadata": {},
   "outputs": [],
   "source": []
  },
  {
   "cell_type": "code",
   "execution_count": null,
   "id": "22eb1ffd-2e60-4420-930a-671c0e605ff7",
   "metadata": {},
   "outputs": [],
   "source": []
  },
  {
   "cell_type": "code",
   "execution_count": null,
   "id": "a00c6798-a8aa-4b21-a795-ad0ccb6f0a29",
   "metadata": {},
   "outputs": [],
   "source": []
  },
  {
   "cell_type": "markdown",
   "id": "02fc9bbf-04a2-42dd-94c4-32ba68a47160",
   "metadata": {},
   "source": [
    "# Systematic or NonRandom Test"
   ]
  },
  {
   "cell_type": "code",
   "execution_count": 13,
   "id": "bce29e82-8fca-4dd8-9642-9076513fd534",
   "metadata": {},
   "outputs": [
    {
     "name": "stdout",
     "output_type": "stream",
     "text": [
      "Number of NaNs after deletion: 71555\n"
     ]
    }
   ],
   "source": [
    "using Random\n",
    "\n",
    "# Function to systematically delete data (set to NaN) - High Market Volatility scenario\n",
    "function delete_systematic_data!(matrix::Matrix{Float64}, fraction::Float64)\n",
    "    Random.seed!(10)  # For reproducibility, matching your original\n",
    "    n_rows, n_cols = size(matrix)\n",
    "    total_elements = n_rows * n_cols\n",
    "    target_nans = round(Int, fraction * total_elements)  # Number of elements to delete\n",
    "    \n",
    "    # Get indices of largest absolute values\n",
    "    abs_matrix = abs.(matrix)\n",
    "    sorted_indices = sortperm(vec(abs_matrix), rev=true)[1:target_nans]\n",
    "    \n",
    "    # Convert to row, col indices and delete systematically\n",
    "    deleted = 0\n",
    "    for i in 1:n_rows\n",
    "        for j in 1:n_cols\n",
    "            idx = (i - 1) * n_cols + j\n",
    "            if deleted < target_nans && idx in sorted_indices\n",
    "                matrix[i, j] = NaN\n",
    "                deleted += 1\n",
    "            end\n",
    "            if deleted >= target_nans\n",
    "                break\n",
    "            end\n",
    "        end\n",
    "    end\n",
    "    return matrix\n",
    "end\n",
    "\n",
    "# Apply the deletion (e.g., % of values set to NaN)\n",
    "delete_systematic_data!(returns_matrix, 0.10)\n",
    "println(\"Number of NaNs after deletion: \", sum(isnan.(returns_matrix)))"
   ]
  },
  {
   "cell_type": "code",
   "execution_count": null,
   "id": "05f8635d-5b2d-4a47-889d-232096177e36",
   "metadata": {},
   "outputs": [],
   "source": []
  },
  {
   "cell_type": "code",
   "execution_count": null,
   "id": "a0d1222e-39d7-4531-8cf4-08b7c0d9319a",
   "metadata": {},
   "outputs": [],
   "source": []
  },
  {
   "cell_type": "code",
   "execution_count": null,
   "id": "16dd34c2-e042-4e4d-a5a5-dd8305089356",
   "metadata": {},
   "outputs": [],
   "source": []
  },
  {
   "cell_type": "code",
   "execution_count": 14,
   "id": "723fda46-a5e5-4d76-bd62-38d42e9c65ff",
   "metadata": {},
   "outputs": [
    {
     "data": {
      "text/plain": [
       "1301×550 Matrix{Float64}:\n",
       "  -0.0161859      0.00372787    -0.0507687   …   -0.0211773      0.000149\n",
       "   0.0029518     -0.0235305     -0.0120067        0.0441933     -0.00770718\n",
       "   0.00306068     0.0151229     -0.00366705       0.02222        0.00337452\n",
       "   0.00982453   NaN            NaN                0.00899974   NaN\n",
       "   0.0155901    NaN              0.00394341       0.000964382    0.0131923\n",
       " NaN            NaN             -0.0227982   …  NaN              0.00376903\n",
       "  -0.0014855    NaN              0.00255895       0.0127789      0.00690948\n",
       "   0.00604186     0.0380235      0.0050984       -0.0118215      0.00555206\n",
       "   0.00713438    -0.0093709      0.00181449       0.0503771      0.00920914\n",
       "   0.00943384   NaN              0.0232944       -0.0108463    NaN\n",
       " NaN             -0.00507464     0.00600385  …   -0.00725266     0.00658564\n",
       "  -0.00567519    -0.0327523     -0.0431721        0.0153658      0.0125495\n",
       "   0.005786      -0.0314474      0.004402        -0.0156305     -0.00303439\n",
       "   ⋮                                         ⋱                 \n",
       "  -0.00262832     0.0291454     -0.00878853      -0.0204016      0.00496721\n",
       "  -0.0104351     -0.0795953     -0.0405331   …   -0.0114493      0.0191274\n",
       "  -0.000665039    0.0178627      0.0052391       -0.0171154      0.0297778\n",
       " NaN            NaN             -0.0118267       -0.0886493      0.0192913\n",
       "   0.00215901    -0.0205768      0.00329926     NaN            NaN\n",
       " NaN            NaN            NaN               -0.0172759    NaN\n",
       "   0.00658823    -0.0053989    NaN           …  NaN              0.0136057\n",
       " NaN             -0.0594787     -0.0340217        0.00824274   NaN\n",
       "  -0.0262255     -0.00256492   NaN                0.00830885    -0.00370123\n",
       "   0.0276494      0.0387267      0.0539489        0.00890191    -0.0172162\n",
       "   0.000316138    0.0138018     -0.0614678       -0.0015885      0.00149589\n",
       "   0.00118455     0.000304502   -0.0167432   …    0.00660243     0.0184828"
      ]
     },
     "execution_count": 14,
     "metadata": {},
     "output_type": "execute_result"
    }
   ],
   "source": [
    "returns_matrix"
   ]
  },
  {
   "cell_type": "code",
   "execution_count": 15,
   "id": "b01e43c0-273b-476e-86ac-7767ab3d4e52",
   "metadata": {},
   "outputs": [
    {
     "data": {
      "text/plain": [
       "550×550 Matrix{Float64}:\n",
       " 1.0       0.34492    0.32201    …  0.404028   0.204819     0.593038\n",
       " 0.34492   1.0        0.473082      0.323283   0.0228245    0.321212\n",
       " 0.32201   0.473082   1.0           0.300558   0.0340184    0.262689\n",
       " 0.310438  0.309972   0.272927      0.264437   0.0315718    0.320683\n",
       " 0.501395  0.293163   0.27607       0.411081   0.300205     0.551506\n",
       " 0.357309  0.186766   0.154534   …  0.160977  -0.0442058    0.400803\n",
       " 0.565849  0.189216   0.169759      0.296528   0.116273     0.574368\n",
       " 0.562899  0.400731   0.343719      0.362712   0.189758     0.580954\n",
       " 0.471129  0.251868   0.216241      0.417812   0.360154     0.477865\n",
       " 0.359503  0.307352   0.308413      0.368489   0.0192455    0.459563\n",
       " 0.532993  0.427813   0.389233   …  0.425752   0.249782     0.409082\n",
       " 0.353797  0.428891   0.312964      0.167875  -0.0668485    0.318026\n",
       " 0.538381  0.343857   0.413257      0.324738   0.0582425    0.527872\n",
       " ⋮                               ⋱                          \n",
       " 0.531364  0.518918   0.471422      0.473221   0.0506911    0.54376\n",
       " 0.34948   0.479995   0.540464      0.400341   0.0608958    0.338828\n",
       " 0.324479  0.17813    0.121189   …  0.205119   0.0062063    0.438431\n",
       " 0.303264  0.570837   0.392261      0.189876  -0.109947     0.261946\n",
       " 0.364756  0.384816   0.342891      0.22003    0.0161245    0.36553\n",
       " 0.567628  0.435264   0.444224      0.398945   0.102267     0.520895\n",
       " 0.398774  0.245463   0.167855      0.223187  -0.000193835  0.382456\n",
       " 0.433103  0.372528   0.395557   …  0.354593   0.0343796    0.483398\n",
       " 0.56638   0.400224   0.396005      0.423149   0.2351       0.504898\n",
       " 0.404028  0.323283   0.300558      1.0        0.330509     0.39961\n",
       " 0.204819  0.0228245  0.0340184     0.330509   1.0          0.132245\n",
       " 0.593038  0.321212   0.262689      0.39961    0.132245     1.0"
      ]
     },
     "execution_count": 15,
     "metadata": {},
     "output_type": "execute_result"
    }
   ],
   "source": [
    "A = nancor(returns_matrix)"
   ]
  },
  {
   "cell_type": "code",
   "execution_count": 16,
   "id": "dbcfd8ed-16dc-41c5-b943-97e793531544",
   "metadata": {},
   "outputs": [
    {
     "data": {
      "text/plain": [
       "550-element Vector{Float64}:\n",
       "  -0.5832688256851079\n",
       "  -0.3750338606304373\n",
       "  -0.3297424937556781\n",
       "  -0.29952384266358517\n",
       "  -0.2890144250767294\n",
       "  -0.26141336411989397\n",
       "  -0.23514219429231717\n",
       "  -0.21070757706942464\n",
       "  -0.19806047014047595\n",
       "  -0.19492005214453828\n",
       "  -0.17835937656529421\n",
       "  -0.16817756888387822\n",
       "  -0.16574197728822504\n",
       "   ⋮\n",
       "   4.097417428946954\n",
       "   4.731151344831297\n",
       "   4.921201682156586\n",
       "   5.086907128458434\n",
       "   5.739977937700132\n",
       "   6.206346178614631\n",
       "   7.894065803329069\n",
       "   9.715323508426144\n",
       "  12.465188438227255\n",
       "  25.400767835817863\n",
       "  33.46175052273608\n",
       " 210.11470511650333"
      ]
     },
     "execution_count": 16,
     "metadata": {},
     "output_type": "execute_result"
    }
   ],
   "source": [
    "eigvals(A)"
   ]
  },
  {
   "cell_type": "code",
   "execution_count": 17,
   "id": "b7fb74ed-5ebc-425b-a304-f184e8e2a9f4",
   "metadata": {},
   "outputs": [
    {
     "name": "stdout",
     "output_type": "stream",
     "text": [
      "Number of positive eigenvalues: 454\n",
      "Number of negative eigenvalues: 96\n",
      "Number of zero eigenvalues: 0\n",
      "Is positive semi-definite: false\n"
     ]
    }
   ],
   "source": [
    "# Symmetrized result already computed\n",
    "x = eigvals(Symmetric(A))\n",
    "\n",
    "# Count positive and negative eigenvalues\n",
    "count_positive = sum(x .> 1e-8)  # Positive, above tolerance\n",
    "count_negative = sum(x .< -1e-8) # Negative, below tolerance\n",
    "count_zero = sum(abs.(x) .<= 1e-8)  # Effectively zero\n",
    "\n",
    "# Print results\n",
    "println(\"Number of positive eigenvalues: \", count_positive)\n",
    "println(\"Number of negative eigenvalues: \", count_negative)\n",
    "println(\"Number of zero eigenvalues: \", count_zero)\n",
    "println(\"Is positive semi-definite: \", all(x .>= -1e-8))"
   ]
  },
  {
   "cell_type": "code",
   "execution_count": null,
   "id": "a5c37b76-aa17-4121-9f21-8915e60468f0",
   "metadata": {},
   "outputs": [],
   "source": []
  },
  {
   "cell_type": "code",
   "execution_count": null,
   "id": "ce9793cf-8177-4275-9f52-8e48c8a69228",
   "metadata": {},
   "outputs": [],
   "source": []
  },
  {
   "cell_type": "code",
   "execution_count": null,
   "id": "21bc257e-4095-4718-8713-32bc52625862",
   "metadata": {},
   "outputs": [],
   "source": []
  },
  {
   "cell_type": "markdown",
   "id": "34472ec9-0baa-419a-b22d-e774ac1242e3",
   "metadata": {},
   "source": [
    "# Lapack Method "
   ]
  },
  {
   "cell_type": "code",
   "execution_count": 18,
   "id": "ecf12f6d-871a-4748-8e36-d6c35c621d87",
   "metadata": {},
   "outputs": [
    {
     "data": {
      "text/plain": [
       "Project_onto_PSD_LAPACK! (generic function with 2 methods)"
      ]
     },
     "execution_count": 18,
     "metadata": {},
     "output_type": "execute_result"
    }
   ],
   "source": [
    "using MKL  # Add Intel MKL for optimized LAPACK\n",
    "# Function to project onto the PSD matrix using LAPACK with MKL\n",
    "function Project_onto_PSD_LAPACK!(A_symm::Matrix{Float64}, result2::Matrix{Float64}, timer::TimerOutput=to)\n",
    "    @timeit timer \"Project_onto_PSD_LAPACK\" begin\n",
    "        n = size(A_symm, 1)\n",
    "        F = copy(A_symm)  # Make a copy since LAPACK modifies in-place\n",
    "        # Compute eigenvalues and eigenvectors using LAPACK with MKL\n",
    "        λ, _ = LAPACK.syev!('V', 'U', F)  # Extract only eigenvalues\n",
    "        # Set negative eigenvalues to zero\n",
    "        λ .= max.(λ, 0.0)\n",
    "        # Efficient reconstruction: X = V * Diag(λ) * V'\n",
    "        mul!(result2, F * Diagonal(λ), F')\n",
    "    end\n",
    "    return nothing\n",
    "end"
   ]
  },
  {
   "cell_type": "code",
   "execution_count": 19,
   "id": "7e6509f1-cb2b-4d87-b87e-9e684d1517fb",
   "metadata": {},
   "outputs": [
    {
     "data": {
      "text/plain": [
       "project_onto_UD! (generic function with 2 methods)"
      ]
     },
     "execution_count": 19,
     "metadata": {},
     "output_type": "execute_result"
    }
   ],
   "source": [
    "# Function to project onto the unit diagonal (in-place)\n",
    "function project_onto_UD!(A_symm::Matrix{Float64}, timer::TimerOutput=to)\n",
    "    @timeit timer \"project_onto_UD!\" begin\n",
    "        for i in 1:size(A_symm, 1)\n",
    "            A_symm[i, i] = 1.0\n",
    "        end\n",
    "    end\n",
    "    return A_symm\n",
    "end"
   ]
  },
  {
   "cell_type": "code",
   "execution_count": 20,
   "id": "be70e992-0015-4eb8-9a0b-98ea812f3cfc",
   "metadata": {},
   "outputs": [
    {
     "data": {
      "text/plain": [
       "nearest_corr_dykstra (generic function with 4 methods)"
      ]
     },
     "execution_count": 20,
     "metadata": {},
     "output_type": "execute_result"
    }
   ],
   "source": [
    "# Function for POCS with Dykstra's Correction\n",
    "function nearest_corr_dykstra(A_symm::Matrix{Float64}, tol::Float64=1e-8, max_iter::Int=300, timer::TimerOutput=to)\n",
    "    Y_k = copy(A_symm)\n",
    "    ΔS_k = zeros(size(A_symm))\n",
    "    R_k = similar(A_symm)\n",
    "    X_k = similar(A_symm)\n",
    "    diff_matrix = similar(A_symm)\n",
    "\n",
    "    @timeit timer \"nearest_corr_dykstra\" begin\n",
    "        for k in 1:max_iter\n",
    "            R_k .= Y_k .- ΔS_k\n",
    "            Project_onto_PSD_LAPACK!(R_k, X_k, timer)\n",
    "            ΔS_k .= X_k .- R_k\n",
    "            copyto!(Y_k, X_k)\n",
    "            project_onto_UD!(Y_k, timer)\n",
    "            diff_matrix .= Y_k .- X_k\n",
    "            if norm(diff_matrix, Inf) / max(norm(Y_k, Inf), eps(Float64)) <= tol\n",
    "                println(\"Converged after $k iterations\")\n",
    "                return Y_k, k\n",
    "            end\n",
    "        end\n",
    "        println(\"Reached maximum iterations ($max_iter) without convergence\")\n",
    "        return Y_k, max_iter\n",
    "    end\n",
    "end"
   ]
  },
  {
   "cell_type": "code",
   "execution_count": 32,
   "id": "6ba59e24-93ae-4520-b4cf-8ff1d572338b",
   "metadata": {},
   "outputs": [
    {
     "name": "stdout",
     "output_type": "stream",
     "text": [
      "=== POCS with Dykstra Using LAPACK (MKL) ===\n",
      "Converged after 29 iterations\n",
      "\u001b[0m\u001b[1m─────────────────────────────────────────────────────────────────────────────────\u001b[22m\n",
      "\u001b[0m\u001b[1m                               \u001b[22m         Time                    Allocations      \n",
      "                               ───────────────────────   ────────────────────────\n",
      "       Tot / % measured:            1.51s /  99.8%            351MiB /  96.7%    \n",
      "\n",
      "Section                ncalls     time    %tot     avg     alloc    %tot      avg\n",
      "─────────────────────────────────────────────────────────────────────────────────\n",
      "nearest_corr_dykstra        1    1.51s  100.0%   1.51s    340MiB  100.0%   340MiB\n",
      "  Project_onto_PSD         29    1.32s   87.2%  45.5ms    340MiB  100.0%  11.7MiB\n",
      "  project_onto_UD!         29    243μs    0.0%  8.39μs     0.00B    0.0%    0.00B\n",
      "\u001b[0m\u001b[1m─────────────────────────────────────────────────────────────────────────────────\u001b[22m\n",
      "Minimum Eigenvalue after projection: -4.954629556096642e-9\n",
      "Diagonal all ones: true\n",
      "|| A - X ||_F: 1.333041291534535\n"
     ]
    }
   ],
   "source": [
    "# Example Usage\n",
    "  # Define A explicitly\n",
    "A_symm = A  # Ensure symmetry\n",
    "\n",
    "println(\"=== POCS with Dykstra Using LAPACK (MKL) ===\")\n",
    "reset_timer!(to)\n",
    "result2, iterations = nearest_corr_dykstra(A_symm)\n",
    "show(to)\n",
    "min_eigenval = minimum(eigen(Symmetric(result2)).values)\n",
    "diagonal_check = all(abs.(diag(result2) .- 1.0) .< 1e-10)\n",
    "println(\"\\nMinimum Eigenvalue after projection: \", min_eigenval)\n",
    "println(\"Diagonal all ones: \", diagonal_check)\n",
    "println(\"|| A - X ||_F: \", norm(A_symm - result2))"
   ]
  },
  {
   "cell_type": "code",
   "execution_count": 22,
   "id": "8f4118e7",
   "metadata": {},
   "outputs": [
    {
     "name": "stdout",
     "output_type": "stream",
     "text": [
      "Number of positive eigenvalues: 432\n",
      "Number of negative eigenvalues: 0\n",
      "Number of zero eigenvalues: 118\n",
      "Is positive semi-definite: true\n"
     ]
    }
   ],
   "source": [
    "using LinearAlgebra\n",
    "\n",
    "# Symmetrized result already computed\n",
    "x = eigvals(Symmetric(result2))\n",
    "\n",
    "# Count positive and negative eigenvalues\n",
    "count_positive = sum(x .> 1e-8)  # Positive, above tolerance\n",
    "count_negative = sum(x .< -1e-8) # Negative, below tolerance\n",
    "count_zero = sum(abs.(x) .<= 1e-8)  # Effectively zero\n",
    "\n",
    "# Print results\n",
    "println(\"Number of positive eigenvalues: \", count_positive)\n",
    "println(\"Number of negative eigenvalues: \", count_negative)\n",
    "println(\"Number of zero eigenvalues: \", count_zero)\n",
    "println(\"Is positive semi-definite: \", all(x .>= -1e-8))"
   ]
  },
  {
   "cell_type": "code",
   "execution_count": null,
   "id": "493842e9",
   "metadata": {},
   "outputs": [],
   "source": []
  },
  {
   "cell_type": "code",
   "execution_count": 23,
   "id": "38232110-8d32-4dbe-acd5-7ef9ab257569",
   "metadata": {},
   "outputs": [
    {
     "data": {
      "text/plain": [
       "453"
      ]
     },
     "execution_count": 23,
     "metadata": {},
     "output_type": "execute_result"
    }
   ],
   "source": [
    "rank(result2)"
   ]
  },
  {
   "cell_type": "code",
   "execution_count": null,
   "id": "6358f67f",
   "metadata": {},
   "outputs": [],
   "source": []
  },
  {
   "cell_type": "code",
   "execution_count": null,
   "id": "e875fb65",
   "metadata": {},
   "outputs": [],
   "source": []
  },
  {
   "cell_type": "code",
   "execution_count": null,
   "id": "dc14b20e",
   "metadata": {},
   "outputs": [],
   "source": []
  },
  {
   "cell_type": "markdown",
   "id": "0b181d4d",
   "metadata": {},
   "source": [
    "# Plot"
   ]
  },
  {
   "cell_type": "markdown",
   "id": "4f424778",
   "metadata": {},
   "source": [
    "### Unbiased Test"
   ]
  },
  {
   "cell_type": "code",
   "execution_count": null,
   "id": "ad581486-bc7f-46bb-9537-986e575523ba",
   "metadata": {},
   "outputs": [],
   "source": [
    "using Plots, LinearAlgebra, PyPlot\n",
    "\n",
    "# Set PyPlot backend\n",
    "Plots.pyplot()  # Switch to PyPlot backend\n",
    "Plots.default(size=(800, 600))  # Set plot size\n",
    "\n",
    "# Verify data\n",
    "println(\"Checking data...\")\n",
    "@assert isdefined(Main, :A) \"Matrix A is not defined!\"\n",
    "@assert isdefined(Main, :result2) \"Matrix result2 is not defined!\"\n",
    "\n",
    "# Compute and sort eigenvalues\n",
    "eigvals_A = sort(eigvals(Symmetric(A)), rev=true)\n",
    "eigvals_result2 = sort(eigvals(Symmetric(result2)), rev=true)\n",
    "\n",
    "println(\"Eigenvalues of A: min = \", minimum(eigvals_A), \", max = \", maximum(eigvals_A))\n",
    "println(\"Eigenvalues of result: min = \", minimum(eigvals_result2), \", max = \", maximum(eigvals_result2))\n",
    "\n",
    "# Shift negatives for log scale\n",
    "eigvals_A_plot = max.(eigvals_A, 1e-10)\n",
    "eigvals_result_plot = max.(eigvals_result2, 1e-10)\n",
    "\n",
    "# Create the plot\n",
    "p = Plots.plot(\n",
    "    eigvals_A_plot,\n",
    "    label=\"Before Projection\",\n",
    "    color=:blue,\n",
    "    linewidth=2,\n",
    "    marker=:circle,\n",
    "    markersize=3,\n",
    "    yscale=:log10,\n",
    "    title=\"10% Eigenvalue Spectrum for Unbiased_test: Before vs After PSD Projection\",\n",
    "    xlabel=\"Eigenvalue Index\",\n",
    "    ylabel=\"Eigenvalue Magnitude (log scale)\",\n",
    "    grid=true,\n",
    "    legend=:topright,\n",
    "    ylims=(1e-10, 1e3),\n",
    "    yticks=10.0 .^ (-10:2:2)  # [1e-10, 1e-8, 1e-6, 1e-4, 1e-2, 1e0, 1e2]\n",
    ")\n",
    "\n",
    "Plots.plot!(\n",
    "    eigvals_result_plot,\n",
    "    label=\"After Projection\",\n",
    "    color=:red,\n",
    "    linewidth=2,\n",
    "    linestyle=:dash,\n",
    "    marker=:square,\n",
    "    markersize=3\n",
    ")\n",
    "\n",
    "Plots.hline!([1e-10], label=\"Zero Threshold (approx)\", color=:black, linestyle=:dot, linewidth=1)\n",
    "\n",
    "# Save and implicitly display with PyPlot\n",
    "println(\"Saving to 'eigenvalue_spectrum_pyplot.png'...\")\n",
    "Plots.savefig(p, \"eigenvalue_spectrum_pyplot_10%_Unbiased_test.png\")\n",
    "println(\"Saved. Check 'eigenvalue_spectrum_pyplot_10%_Unbiased_test.png'.\")"
   ]
  },
  {
   "cell_type": "code",
   "execution_count": null,
   "id": "3eef9f1d",
   "metadata": {},
   "outputs": [],
   "source": []
  },
  {
   "cell_type": "markdown",
   "id": "8d27f9c7",
   "metadata": {},
   "source": [
    "### Systematic Test"
   ]
  },
  {
   "cell_type": "code",
   "execution_count": null,
   "id": "da245739-4fcc-4586-ab6e-9d8801418744",
   "metadata": {},
   "outputs": [],
   "source": [
    "using Plots, LinearAlgebra, PyPlot\n",
    "\n",
    "# Set PyPlot backend\n",
    "Plots.pyplot()  # Switch to PyPlot backend\n",
    "Plots.default(size=(800, 600))  # Set plot size\n",
    "\n",
    "# Verify data\n",
    "println(\"Checking data...\")\n",
    "@assert isdefined(Main, :A) \"Matrix A is not defined!\"\n",
    "@assert isdefined(Main, :result2) \"Matrix result2 is not defined!\"\n",
    "\n",
    "# Compute and sort eigenvalues\n",
    "eigvals_A = sort(eigvals(Symmetric(A)), rev=true)\n",
    "eigvals_result2 = sort(eigvals(Symmetric(result2)), rev=true)\n",
    "\n",
    "println(\"Eigenvalues of A: min = \", minimum(eigvals_A), \", max = \", maximum(eigvals_A))\n",
    "println(\"Eigenvalues of result: min = \", minimum(eigvals_result2), \", max = \", maximum(eigvals_result2))\n",
    "\n",
    "# Shift negatives for log scale\n",
    "eigvals_A_plot = max.(eigvals_A, 1e-10)\n",
    "eigvals_result_plot = max.(eigvals_result2, 1e-10)\n",
    "\n",
    "# Create the plot\n",
    "p = Plots.plot(\n",
    "    eigvals_A_plot,\n",
    "    label=\"Before Projection\",\n",
    "    color=:blue,\n",
    "    linewidth=2,\n",
    "    marker=:circle,\n",
    "    markersize=3,\n",
    "    yscale=:log10,\n",
    "    title=\"10% Eigenvalue Spectrum for Systematic_test: Before vs After PSD Projection\",\n",
    "    xlabel=\"Eigenvalue Index\",\n",
    "    ylabel=\"Eigenvalue Magnitude (log scale)\",\n",
    "    grid=true,\n",
    "    legend=:topright,\n",
    "    ylims=(1e-10, 1e3),\n",
    "    yticks=10.0 .^ (-10:2:2)  \n",
    ")\n",
    "\n",
    "Plots.plot!(\n",
    "    eigvals_result_plot,\n",
    "    label=\"After Projection\",\n",
    "    color=:red,\n",
    "    linewidth=2,\n",
    "    linestyle=:dash,\n",
    "    marker=:square,\n",
    "    markersize=3\n",
    ")\n",
    "\n",
    "Plots.hline!([1e-10], label=\"Zero Threshold (approx)\", color=:black, linestyle=:dot, linewidth=1)\n",
    "\n",
    "# Save and implicitly display with PyPlot\n",
    "println(\"Saving to 'eigenvalue_spectrum_pyplot.png'...\")\n",
    "Plots.savefig(p, \"eigenvalue_spectrum_pyplot_10%__systematic_test.png\")\n",
    "println(\"Saved. Check 'eigenvalue_spectrum_pyplot_10%_systematic_test.png'.\")"
   ]
  },
  {
   "cell_type": "code",
   "execution_count": null,
   "id": "1d82718f",
   "metadata": {},
   "outputs": [],
   "source": []
  },
  {
   "cell_type": "code",
   "execution_count": null,
   "id": "8145775d",
   "metadata": {},
   "outputs": [],
   "source": []
  },
  {
   "cell_type": "markdown",
   "id": "0c7f4a2d-0f0a-4bde-849e-78bf86625ca0",
   "metadata": {},
   "source": [
    "# Eigen Method"
   ]
  },
  {
   "cell_type": "code",
   "execution_count": 24,
   "id": "33dc3e76-1d49-4f82-bf4f-57a3d762dd27",
   "metadata": {},
   "outputs": [
    {
     "data": {
      "text/plain": [
       "Project_onto_PSD (generic function with 2 methods)"
      ]
     },
     "execution_count": 24,
     "metadata": {},
     "output_type": "execute_result"
    }
   ],
   "source": [
    "# Function to project onto the PSD matrix with timing\n",
    "function Project_onto_PSD(A_symm::Matrix{Float64}, timer::TimerOutput=to)::Matrix{Float64}\n",
    "    local result3\n",
    "    @timeit timer \"Project_onto_PSD\" begin\n",
    "        λ, V = eigen(Symmetric(A_symm))  # Eigenvalue decomposition\n",
    "        λ[λ .< 0] .= 0.0  # Set all negative eigenvalues exactly to zero\n",
    "        result3 = V * Diagonal(λ) * V'  # Reconstruct PSD matrix\n",
    "    end\n",
    "    return result3\n",
    "end"
   ]
  },
  {
   "cell_type": "code",
   "execution_count": 25,
   "id": "6cfd4e3c-888b-4794-9ab8-8648f8b59797",
   "metadata": {},
   "outputs": [
    {
     "data": {
      "text/plain": [
       "project_onto_UD! (generic function with 2 methods)"
      ]
     },
     "execution_count": 25,
     "metadata": {},
     "output_type": "execute_result"
    }
   ],
   "source": [
    "# Function to project onto the unit diagonal (in-place) with timing\n",
    "function project_onto_UD!(A_symm::Matrix{Float64}, timer::TimerOutput=to)::Matrix{Float64}\n",
    "    @timeit timer \"project_onto_UD!\" begin\n",
    "        for i in 1:size(A_symm, 1)\n",
    "            A_symm[i, i] = 1.0\n",
    "        end\n",
    "    end\n",
    "    return A_symm\n",
    "end"
   ]
  },
  {
   "cell_type": "code",
   "execution_count": 26,
   "id": "0173a29a-1ed6-405b-bc7b-e3452eeddbfd",
   "metadata": {},
   "outputs": [
    {
     "data": {
      "text/plain": [
       "nearest_corr_dykstra (generic function with 4 methods)"
      ]
     },
     "execution_count": 26,
     "metadata": {},
     "output_type": "execute_result"
    }
   ],
   "source": [
    "# Function for POCS with Dykstra's Correction with timing\n",
    "function nearest_corr_dykstra(A_symm::Matrix{Float64}, tol::Float64=1e-8, max_iter::Int=200, timer::TimerOutput=to)\n",
    "    # Preallocate matrices for memory efficiency\n",
    "    Y_k = copy(A_symm)\n",
    "    ΔS_k = zeros(size(A_symm))\n",
    "    R_k = similar(A_symm)\n",
    "    X_k = similar(A_symm)\n",
    "    diff_matrix = similar(A_symm)\n",
    "\n",
    "    @timeit timer \"nearest_corr_dykstra\" begin\n",
    "        for k in 1:max_iter\n",
    "            # Compute R_k = Y_k - ΔS_k in place\n",
    "            R_k .= Y_k .- ΔS_k\n",
    "\n",
    "            # Project R_k onto PSD cone with timing\n",
    "            X_k .= Project_onto_PSD(R_k, timer)\n",
    "\n",
    "            # Update ΔS_k = X_k - R_k in place\n",
    "            ΔS_k .= X_k .- R_k\n",
    "\n",
    "            # Project X_k onto unit diagonal in place with timing\n",
    "            Y_k .= X_k\n",
    "            project_onto_UD!(Y_k, timer)\n",
    "\n",
    "            # Convergence check\n",
    "            diff_matrix .= Y_k .- X_k\n",
    "            if norm(diff_matrix, Inf) / norm(Y_k, Inf) <= tol\n",
    "                println(\"Converged after $k iterations\")\n",
    "                return Y_k, k\n",
    "            end\n",
    "        end\n",
    "        println(\"Reached maximum iterations ($max_iter) without convergence\")\n",
    "        return Y_k, max_iter\n",
    "    end\n",
    "end"
   ]
  },
  {
   "cell_type": "code",
   "execution_count": 27,
   "id": "755b02d1-7ab7-4f16-8a04-a44b0410897d",
   "metadata": {},
   "outputs": [
    {
     "name": "stdout",
     "output_type": "stream",
     "text": [
      "=== POCS with Dykstra Using Eigen ===\n",
      "Converged after 29 iterations\n",
      "\u001b[0m\u001b[1m─────────────────────────────────────────────────────────────────────────────────\u001b[22m\n",
      "\u001b[0m\u001b[1m                               \u001b[22m         Time                    Allocations      \n",
      "                               ───────────────────────   ────────────────────────\n",
      "       Tot / % measured:            2.92s /  71.1%            377MiB /  90.1%    \n",
      "\n",
      "Section                ncalls     time    %tot     avg     alloc    %tot      avg\n",
      "─────────────────────────────────────────────────────────────────────────────────\n",
      "nearest_corr_dykstra        1    2.08s  100.0%   2.08s    340MiB  100.0%   340MiB\n",
      "  Project_onto_PSD         29    1.84s   88.7%  63.6ms    340MiB  100.0%  11.7MiB\n",
      "  project_onto_UD!         29    223μs    0.0%  7.70μs     0.00B    0.0%    0.00B\n",
      "\u001b[0m\u001b[1m─────────────────────────────────────────────────────────────────────────────────\u001b[22m\n",
      "Minimum Eigenvalue after projection: -4.954629556096642e-9\n",
      "|| A - X ||_F:: 1.333041291534535\n"
     ]
    }
   ],
   "source": [
    "# Example usage with timing\n",
    "A_symm = A  # Matrix\n",
    "\n",
    "println(\"=== POCS with Dykstra Using Eigen ===\")\n",
    "reset_timer!(to)  # Clear previous timings\n",
    "result3, iterations = nearest_corr_dykstra(A_symm)\n",
    "show(to)\n",
    "\n",
    "# Verify the result is PSD\n",
    "min_eigenval = minimum(eigen(Symmetric(result3)).values)\n",
    "println(\"\\nMinimum Eigenvalue after projection: \", min_eigenval)\n",
    "println(\"|| A - X ||_F:: \", norm(A_symm - result3))"
   ]
  },
  {
   "cell_type": "code",
   "execution_count": 28,
   "id": "26fae9c6-20db-46de-bbe5-f15961587276",
   "metadata": {},
   "outputs": [
    {
     "data": {
      "text/plain": [
       "550-element Vector{Float64}:\n",
       "  -4.954629411540074e-9\n",
       "  -4.724756958744916e-10\n",
       "  -3.979708198274856e-10\n",
       "  -3.7460915816127406e-10\n",
       "  -3.450891564359191e-10\n",
       "  -2.994286365414639e-10\n",
       "  -2.7600835610988073e-10\n",
       "  -2.328565404060836e-10\n",
       "  -1.783348738807504e-10\n",
       "  -1.7131353557657506e-10\n",
       "  -1.600307686382018e-10\n",
       "  -1.3057797833277733e-10\n",
       "  -9.027740733281986e-11\n",
       "   ⋮\n",
       "   4.076574730764756\n",
       "   4.7087766223590695\n",
       "   4.901225185367131\n",
       "   5.064028166742509\n",
       "   5.719413652543906\n",
       "   6.188066594189247\n",
       "   7.874967340381684\n",
       "   9.691917452485406\n",
       "  12.439416539098923\n",
       "  25.38161225058139\n",
       "  33.43674923587626\n",
       " 210.09153150533422"
      ]
     },
     "execution_count": 28,
     "metadata": {},
     "output_type": "execute_result"
    }
   ],
   "source": [
    "eigvals(result3)"
   ]
  },
  {
   "cell_type": "code",
   "execution_count": 29,
   "id": "65fcbe4a-23ad-4391-9f96-2809d7ce3ae6",
   "metadata": {
    "jupyter": {
     "source_hidden": true
    }
   },
   "outputs": [
    {
     "name": "stdout",
     "output_type": "stream",
     "text": [
      "Number of positive eigenvalues: 432\n",
      "Number of negative eigenvalues: 0\n",
      "Number of zero eigenvalues: 118\n",
      "Is positive semi-definite: true\n"
     ]
    }
   ],
   "source": [
    "using LinearAlgebra\n",
    "\n",
    "# Symmetrized result already computed\n",
    "x = eigvals(Symmetric(result3))\n",
    "\n",
    "# Count positive and negative eigenvalues\n",
    "count_positive = sum(x .> 1e-8)  # Positive, above tolerance\n",
    "count_negative = sum(x .< -1e-8) # Negative, below tolerance\n",
    "count_zero = sum(abs.(x) .<= 1e-8)  # Effectively zero\n",
    "\n",
    "# Print results\n",
    "println(\"Number of positive eigenvalues: \", count_positive)\n",
    "println(\"Number of negative eigenvalues: \", count_negative)\n",
    "println(\"Number of zero eigenvalues: \", count_zero)\n",
    "println(\"Is positive semi-definite: \", all(x .>= -1e-8))"
   ]
  },
  {
   "cell_type": "code",
   "execution_count": 30,
   "id": "0d8b1ceb-805f-41f5-8bec-6c4e08d1cc9f",
   "metadata": {},
   "outputs": [
    {
     "data": {
      "text/plain": [
       "550×550 Matrix{Float64}:\n",
       " 1.0       0.345046   0.32654    …  0.404653   0.20465      0.595391\n",
       " 0.345046  1.0        0.473267      0.324137   0.0239388    0.322087\n",
       " 0.32654   0.473267   1.0           0.305221   0.0356668    0.262806\n",
       " 0.3109    0.312774   0.271207      0.264231   0.031936     0.324595\n",
       " 0.502384  0.292606   0.278683      0.414113   0.29878      0.550155\n",
       " 0.356752  0.188693   0.148823   …  0.160239  -0.0447787    0.401963\n",
       " 0.567843  0.189998   0.180641      0.298983   0.117137     0.574794\n",
       " 0.567283  0.402942   0.344257      0.365315   0.189907     0.585831\n",
       " 0.473677  0.252698   0.214609      0.421741   0.360945     0.479552\n",
       " 0.358936  0.306753   0.305805      0.367337   0.0186232    0.459546\n",
       " 0.533739  0.425594   0.390093   …  0.42647    0.247445     0.408485\n",
       " 0.356724  0.42978    0.314845      0.167498  -0.0657078    0.321252\n",
       " 0.53313   0.343514   0.406512      0.32327    0.0575061    0.528442\n",
       " ⋮                               ⋱                          \n",
       " 0.532904  0.518168   0.471458      0.472524   0.0529637    0.54472\n",
       " 0.348472  0.480057   0.534644      0.401228   0.061159     0.33944\n",
       " 0.326288  0.178745   0.124567   …  0.203528   0.00463878   0.439579\n",
       " 0.300766  0.570325   0.394559      0.1904    -0.110942     0.262749\n",
       " 0.362794  0.381913   0.341963      0.226654   0.0136756    0.365687\n",
       " 0.570595  0.433199   0.44674       0.399435   0.103475     0.521721\n",
       " 0.398116  0.245426   0.167381      0.223881  -0.000253478  0.384627\n",
       " 0.430714  0.372962   0.386174   …  0.354731   0.0341922    0.481954\n",
       " 0.565099  0.401566   0.395635      0.424764   0.235602     0.503474\n",
       " 0.404653  0.324137   0.305221      1.0        0.330575     0.399339\n",
       " 0.20465   0.0239388  0.0356668     0.330575   1.0          0.132826\n",
       " 0.595391  0.322087   0.262806      0.399339   0.132826     1.0"
      ]
     },
     "execution_count": 30,
     "metadata": {},
     "output_type": "execute_result"
    }
   ],
   "source": [
    "result3"
   ]
  },
  {
   "cell_type": "code",
   "execution_count": null,
   "id": "b3536d3d-2232-4ac6-8558-905e84d9da42",
   "metadata": {},
   "outputs": [],
   "source": []
  },
  {
   "cell_type": "code",
   "execution_count": null,
   "id": "5a4f2d99-d316-4d03-a29f-a1299d8550be",
   "metadata": {},
   "outputs": [],
   "source": []
  },
  {
   "cell_type": "code",
   "execution_count": null,
   "id": "8d15d566-4440-4d79-8ee5-d010d9f67a0d",
   "metadata": {},
   "outputs": [],
   "source": []
  },
  {
   "cell_type": "markdown",
   "id": "915dd2ed-a248-45ba-b3c0-5d06679c2c22",
   "metadata": {},
   "source": [
    "# Online Tools"
   ]
  },
  {
   "cell_type": "code",
   "execution_count": 33,
   "id": "aae46c02-e043-4c96-b6f6-790eacbc5c27",
   "metadata": {},
   "outputs": [
    {
     "data": {
      "text/plain": [
       "550×550 Matrix{Float64}:\n",
       " 1.0       0.345046   0.32654    …  0.404653   0.20465      0.595391\n",
       " 0.345046  1.0        0.473267      0.324137   0.0239388    0.322087\n",
       " 0.32654   0.473267   1.0           0.305221   0.0356668    0.262806\n",
       " 0.3109    0.312774   0.271207      0.264231   0.031936     0.324595\n",
       " 0.502384  0.292606   0.278683      0.414113   0.29878      0.550155\n",
       " 0.356752  0.188693   0.148823   …  0.160239  -0.0447787    0.401963\n",
       " 0.567843  0.189998   0.180641      0.298983   0.117137     0.574794\n",
       " 0.567283  0.402942   0.344257      0.365315   0.189907     0.585831\n",
       " 0.473677  0.252698   0.214609      0.421741   0.360945     0.479552\n",
       " 0.358936  0.306753   0.305805      0.367337   0.0186232    0.459546\n",
       " 0.533739  0.425594   0.390093   …  0.42647    0.247445     0.408485\n",
       " 0.356724  0.42978    0.314845      0.167498  -0.0657078    0.321252\n",
       " 0.53313   0.343514   0.406512      0.32327    0.0575061    0.528442\n",
       " ⋮                               ⋱                          \n",
       " 0.532904  0.518168   0.471458      0.472524   0.0529637    0.54472\n",
       " 0.348472  0.480057   0.534644      0.401228   0.061159     0.33944\n",
       " 0.326288  0.178745   0.124567   …  0.203528   0.00463878   0.439579\n",
       " 0.300766  0.570325   0.394559      0.1904    -0.110942     0.262749\n",
       " 0.362794  0.381913   0.341963      0.226654   0.0136756    0.365687\n",
       " 0.570595  0.433199   0.44674       0.399435   0.103475     0.521721\n",
       " 0.398116  0.245426   0.167381      0.223881  -0.000253477  0.384627\n",
       " 0.430714  0.372962   0.386174   …  0.354731   0.0341922    0.481954\n",
       " 0.565099  0.401566   0.395635      0.424764   0.235602     0.503474\n",
       " 0.404653  0.324137   0.305221      1.0        0.330575     0.399339\n",
       " 0.20465   0.0239388  0.0356668     0.330575   1.0          0.132826\n",
       " 0.595391  0.322087   0.262806      0.399339   0.132826     1.0"
      ]
     },
     "execution_count": 33,
     "metadata": {},
     "output_type": "execute_result"
    }
   ],
   "source": [
    "using NearestCorrelationMatrix\n",
    "online1 = nearest_cor(A, AlternatingProjections())"
   ]
  },
  {
   "cell_type": "code",
   "execution_count": 34,
   "id": "572af7de-d441-4aee-be9d-be4d3703e82a",
   "metadata": {},
   "outputs": [
    {
     "data": {
      "text/plain": [
       "550-element Vector{Float64}:\n",
       "   1.490115429141762e-8\n",
       "   1.4901154438254503e-8\n",
       "   1.4901154912018882e-8\n",
       "   1.4901155168914437e-8\n",
       "   1.4901155201848061e-8\n",
       "   1.4901155293703791e-8\n",
       "   1.4901155429294809e-8\n",
       "   1.490115589862534e-8\n",
       "   1.4901156025708015e-8\n",
       "   1.490115617234856e-8\n",
       "   1.4901156295907415e-8\n",
       "   1.4901156434922595e-8\n",
       "   1.4901156633790754e-8\n",
       "   ⋮\n",
       "   4.076574717663307\n",
       "   4.7087766070363966\n",
       "   4.901225170344071\n",
       "   5.064028148717967\n",
       "   5.719413634076921\n",
       "   6.18806657700665\n",
       "   7.874967316265456\n",
       "   9.691917417406698\n",
       "  12.439416488996788\n",
       "  25.38161217139766\n",
       "  33.436749104342866\n",
       " 210.09153074411932"
      ]
     },
     "execution_count": 34,
     "metadata": {},
     "output_type": "execute_result"
    }
   ],
   "source": [
    "eigvals(online1)"
   ]
  },
  {
   "cell_type": "code",
   "execution_count": 35,
   "id": "4f4debdf-0861-43a3-b361-003ec98e1827",
   "metadata": {},
   "outputs": [
    {
     "data": {
      "text/plain": [
       "550×550 Symmetric{Float64, Matrix{Float64}}:\n",
       " 1.0       0.345046   0.32654    …  0.404653   0.20465      0.595391\n",
       " 0.345046  1.0        0.473267      0.324137   0.0239388    0.322087\n",
       " 0.32654   0.473267   1.0           0.305221   0.0356668    0.262806\n",
       " 0.3109    0.312774   0.271207      0.264231   0.031936     0.324595\n",
       " 0.502384  0.292606   0.278683      0.414113   0.29878      0.550155\n",
       " 0.356752  0.188693   0.148823   …  0.160239  -0.0447787    0.401963\n",
       " 0.567843  0.189998   0.180641      0.298983   0.117137     0.574794\n",
       " 0.567283  0.402942   0.344257      0.365315   0.189907     0.585831\n",
       " 0.473677  0.252698   0.214609      0.421741   0.360945     0.479552\n",
       " 0.358936  0.306753   0.305805      0.367337   0.0186232    0.459546\n",
       " 0.533739  0.425594   0.390093   …  0.42647    0.247445     0.408485\n",
       " 0.356724  0.42978    0.314845      0.167498  -0.0657078    0.321252\n",
       " 0.53313   0.343514   0.406512      0.32327    0.0575061    0.528442\n",
       " ⋮                               ⋱                          \n",
       " 0.532904  0.518168   0.471458      0.472524   0.0529637    0.54472\n",
       " 0.348472  0.480057   0.534644      0.401228   0.061159     0.33944\n",
       " 0.326288  0.178745   0.124567   …  0.203528   0.00463878   0.439579\n",
       " 0.300766  0.570325   0.394559      0.1904    -0.110942     0.262749\n",
       " 0.362794  0.381913   0.341963      0.226654   0.0136756    0.365687\n",
       " 0.570595  0.433199   0.44674       0.399435   0.103475     0.521721\n",
       " 0.398116  0.245426   0.167381      0.223881  -0.000253478  0.384627\n",
       " 0.430714  0.372962   0.386174   …  0.354731   0.0341922    0.481954\n",
       " 0.565099  0.401566   0.395635      0.424764   0.235602     0.503474\n",
       " 0.404653  0.324137   0.305221      1.0        0.330575     0.399339\n",
       " 0.20465   0.0239388  0.0356668     0.330575   1.0          0.132826\n",
       " 0.595391  0.322087   0.262806      0.399339   0.132826     1.0"
      ]
     },
     "execution_count": 35,
     "metadata": {},
     "output_type": "execute_result"
    }
   ],
   "source": [
    "online2 = nearest_cor(A, Newton())"
   ]
  },
  {
   "cell_type": "code",
   "execution_count": 36,
   "id": "c2fe2865-9485-45c7-b355-1aefffbfca85",
   "metadata": {},
   "outputs": [
    {
     "data": {
      "text/plain": [
       "550-element Vector{Float64}:\n",
       "   2.020351444723263e-12\n",
       "   2.4781822075307613e-12\n",
       "   2.6550630819025213e-12\n",
       "   3.3061886209347046e-12\n",
       "   3.877700932229131e-12\n",
       "   4.135459626224817e-12\n",
       "   4.409529981487643e-12\n",
       "   4.565115612876682e-12\n",
       "   4.808804848189755e-12\n",
       "   5.262369725004095e-12\n",
       "   6.328196433180939e-12\n",
       "   6.644398579611052e-12\n",
       "   7.199559768306757e-12\n",
       "   ⋮\n",
       "   4.0765747295132435\n",
       "   4.708776620222534\n",
       "   4.901225183976073\n",
       "   5.0640281648901775\n",
       "   5.71941365091228\n",
       "   6.188066591884908\n",
       "   7.874967337667829\n",
       "   9.691917448742256\n",
       "  12.439416533423397\n",
       "  25.381612240901067\n",
       "  33.43674922032424\n",
       " 210.09153140399394"
      ]
     },
     "execution_count": 36,
     "metadata": {},
     "output_type": "execute_result"
    }
   ],
   "source": [
    "eigvals(online2)"
   ]
  },
  {
   "cell_type": "code",
   "execution_count": 37,
   "id": "416006e1-d28e-479f-b2cb-9ff9e177e27a",
   "metadata": {},
   "outputs": [
    {
     "data": {
      "text/plain": [
       "550×550 Matrix{Float64}:\n",
       " 1.0       0.341775   0.316844   …  0.401168   0.203403    0.589538\n",
       " 0.341775  1.0        0.460935      0.321868   0.0237267   0.31948\n",
       " 0.316844  0.460935   1.0           0.29626    0.0346867   0.255781\n",
       " 0.306915  0.3092     0.263412      0.261661   0.0317604   0.320732\n",
       " 0.496325  0.289979   0.270126      0.410225   0.296583    0.544914\n",
       " 0.35298   0.186896   0.145625   …  0.159069  -0.0445074   0.397984\n",
       " 0.561424  0.188273   0.173813      0.296516   0.11641     0.56948\n",
       " 0.55839   0.397775   0.332633      0.360466   0.18777     0.577384\n",
       " 0.467396  0.249965   0.208351      0.416795   0.35709     0.473687\n",
       " 0.355193  0.304128   0.29814       0.364146   0.0184596   0.455219\n",
       " 0.525594  0.420253   0.376952   …  0.420633   0.244606    0.402642\n",
       " 0.348042  0.420301   0.301694      0.164073  -0.0645485   0.313588\n",
       " 0.526184  0.339301   0.394794      0.319792   0.056696    0.521999\n",
       " ⋮                               ⋱                         \n",
       " 0.525345  0.512237   0.45699       0.467146   0.0522655   0.53733\n",
       " 0.34406   0.475495   0.519271      0.39727    0.0605103   0.335759\n",
       " 0.31924   0.175551   0.11835    …  0.200493   0.00455819  0.431777\n",
       " 0.296542  0.562602   0.38112       0.187738  -0.109332    0.258997\n",
       " 0.354738  0.374827   0.328851      0.221393   0.0134547   0.357931\n",
       " 0.562099  0.428166   0.432493      0.394449   0.102227    0.514697\n",
       " 0.39271   0.242606   0.161751      0.220924  -0.00034428  0.379661\n",
       " 0.424862  0.368464   0.374956   …  0.350268   0.0337079   0.475936\n",
       " 0.558767  0.397547   0.384635      0.420528   0.233582    0.498396\n",
       " 0.401168  0.321868   0.29626       1.0        0.328514    0.396201\n",
       " 0.203403  0.0237267  0.0346867     0.328514   1.0         0.131804\n",
       " 0.589538  0.31948    0.255781      0.396201   0.131804    1.0"
      ]
     },
     "execution_count": 37,
     "metadata": {},
     "output_type": "execute_result"
    }
   ],
   "source": [
    "online3 = nearest_cor(A, DirectProjection())"
   ]
  },
  {
   "cell_type": "code",
   "execution_count": 38,
   "id": "a2a1a93e-d096-47ab-96dc-b99de642cb3f",
   "metadata": {},
   "outputs": [
    {
     "data": {
      "text/plain": [
       "550-element Vector{Float64}:\n",
       "   1.490115480528107e-8\n",
       "   1.4901155656400884e-8\n",
       "   1.4901155872391005e-8\n",
       "   1.490115613323758e-8\n",
       "   1.4901156204213384e-8\n",
       "   1.4901156393444052e-8\n",
       "   1.4901156638709675e-8\n",
       "   1.4901156924729584e-8\n",
       "   1.490115698471609e-8\n",
       "   1.4901157155734599e-8\n",
       "   1.4901157540851426e-8\n",
       "   1.4901157604121736e-8\n",
       "   1.4901157727383425e-8\n",
       "   ⋮\n",
       "   4.035989113617441\n",
       "   4.656069098974213\n",
       "   4.8514797102263705\n",
       "   5.004747771465608\n",
       "   5.653712169971773\n",
       "   6.123019817563541\n",
       "   7.782996526653893\n",
       "   9.555124579366282\n",
       "  12.245419294974827\n",
       "  25.0511650450622\n",
       "  32.87844107991152\n",
       " 206.65278937981748"
      ]
     },
     "execution_count": 38,
     "metadata": {},
     "output_type": "execute_result"
    }
   ],
   "source": [
    "eigvals(online3)"
   ]
  },
  {
   "cell_type": "code",
   "execution_count": null,
   "id": "5ebc4156-5dbc-4348-abc5-7a28dee0bb6c",
   "metadata": {},
   "outputs": [],
   "source": []
  },
  {
   "cell_type": "code",
   "execution_count": null,
   "id": "a33707e1-ecb4-4edc-906b-220d28460f04",
   "metadata": {},
   "outputs": [],
   "source": []
  },
  {
   "cell_type": "code",
   "execution_count": null,
   "id": "5be9eb8f-a694-46bd-8a84-5c98d6b77e77",
   "metadata": {},
   "outputs": [],
   "source": []
  }
 ],
 "metadata": {
  "kernelspec": {
   "display_name": "Julia 1.11.3",
   "language": "julia",
   "name": "julia-1.11"
  },
  "language_info": {
   "file_extension": ".jl",
   "mimetype": "application/julia",
   "name": "julia",
   "version": "1.11.3"
  }
 },
 "nbformat": 4,
 "nbformat_minor": 5
}
