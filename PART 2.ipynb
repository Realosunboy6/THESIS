{
 "cells": [
  {
   "cell_type": "code",
   "execution_count": 97,
   "id": "772bc527-cfda-4a19-b8a4-d54426ae98c1",
   "metadata": {},
   "outputs": [],
   "source": [
    "using LinearAlgebra\n",
    "using Random\n",
    "using TimerOutputs"
   ]
  },
  {
   "cell_type": "code",
   "execution_count": 98,
   "id": "911be813-7847-4b3f-bb90-3d9bdd223f34",
   "metadata": {},
   "outputs": [
    {
     "data": {
      "text/plain": [
       "Project_onto_PSD (generic function with 1 method)"
      ]
     },
     "execution_count": 98,
     "metadata": {},
     "output_type": "execute_result"
    }
   ],
   "source": [
    "# Function to project onto the PSD matrix\n",
    "function Project_onto_PSD(A_symm::Matrix{Float64})::Matrix{Float64}\n",
    "    λ, V = eigen(Symmetric(A_symm))  # Eigenvalue decomposition\n",
    "    λ[λ .< 0] .= 0.0  # Set all negative eigenvalues exactly to zero\n",
    "    return V * Diagonal(λ) * V'  # Reconstruct PSD matrix\n",
    "end"
   ]
  },
  {
   "cell_type": "code",
   "execution_count": 99,
   "id": "99d48305-6025-4685-aed3-050422c1a972",
   "metadata": {},
   "outputs": [
    {
     "data": {
      "text/plain": [
       "project_onto_UD! (generic function with 1 method)"
      ]
     },
     "execution_count": 99,
     "metadata": {},
     "output_type": "execute_result"
    }
   ],
   "source": [
    "# Function to project onto the unit diagonal (in-place modification)\n",
    "function project_onto_UD!(A_symm::Matrix{Float64})::Matrix{Float64}\n",
    "    for i in 1:size(A_symm,1)\n",
    "        A_symm[i,i] = 1.0\n",
    "    end\n",
    "    return A_symm\n",
    "end"
   ]
  },
  {
   "cell_type": "code",
   "execution_count": 100,
   "id": "f621afa7-b81c-46d1-b379-3d17092c703c",
   "metadata": {},
   "outputs": [
    {
     "data": {
      "text/plain": [
       "nearest_corr_dykstra (generic function with 3 methods)"
      ]
     },
     "execution_count": 100,
     "metadata": {},
     "output_type": "execute_result"
    }
   ],
   "source": [
    "# Function for POCS with Dykstra's Correction\n",
    "function nearest_corr_dykstra(A_symm::Matrix{Float64}, tol::Float64=1e-8, max_iter::Int=1000000)\n",
    "    Y_k = copy(A_symm)\n",
    "    ΔS_k = zeros(size(A_symm))\n",
    "\n",
    "    for k in 1:max_iter\n",
    "        R_k = Y_k - ΔS_k\n",
    "        X_k = Project_onto_PSD(R_k)\n",
    "        ΔS_k = X_k - R_k\n",
    "        Y_k = project_onto_UD!(copy(X_k))  # Ensure no in-place modification to X_k\n",
    "\n",
    "        # Convergence check (relative error)\n",
    "        if norm(Y_k - X_k, Inf) / norm(Y_k, Inf) <= tol\n",
    "            println(\"Converged after $k iterations\")\n",
    "            return Y_k, k\n",
    "        end\n",
    "    end\n",
    "    println(\"Reached maximum iterations ($max_iter) without convergence\")\n",
    "    return Y_k, max_iter\n",
    "end"
   ]
  },
  {
   "cell_type": "code",
   "execution_count": 101,
   "id": "cee71ac3-711f-405e-b813-8e04e3e00590",
   "metadata": {},
   "outputs": [
    {
     "name": "stdout",
     "output_type": "stream",
     "text": [
      "=== POCS with Dykstra ===\n",
      "Converged after 19 iterations\n",
      "\u001b[0m\u001b[1m──────────────────────────────────────────────────────────────────────────────\u001b[22m\n",
      "\u001b[0m\u001b[1m                            \u001b[22m         Time                    Allocations      \n",
      "                            ───────────────────────   ────────────────────────\n",
      "     Tot / % measured:           349ms /  98.6%           11.9MiB /  99.8%    \n",
      "\n",
      "Section             ncalls     time    %tot     avg     alloc    %tot      avg\n",
      "──────────────────────────────────────────────────────────────────────────────\n",
      "POCS with Dykstra        1    344ms  100.0%   344ms   11.8MiB  100.0%  11.8MiB\n",
      "\u001b[0m\u001b[1m──────────────────────────────────────────────────────────────────────────────\u001b[22m\n",
      "Minimum Eigenvalue after projection: -5.120313906149992e-9\n"
     ]
    },
    {
     "data": {
      "text/plain": [
       "4×4 Matrix{Float64}:\n",
       "  1.0       -0.808412   0.191588   0.106775\n",
       " -0.808412   1.0       -0.656233   0.191588\n",
       "  0.191588  -0.656233   1.0       -0.808412\n",
       "  0.106775   0.191588  -0.808412   1.0"
      ]
     },
     "execution_count": 101,
     "metadata": {},
     "output_type": "execute_result"
    }
   ],
   "source": [
    "# ===== Example Usage ===== #\n",
    "# Pass in the symmetric matrix (not necessarily a valid correlation matrix)\n",
    "\n",
    "A = [ 2 -1  0  0;\n",
    "     -1  2 -1  0;\n",
    "      0 -1  2 -1;\n",
    "      0  0 -1  2.0]\n",
    "\n",
    "\n",
    "A_symm = (A + A') / 2  # Make it symmetric\n",
    "\n",
    "# Run the nearest correlation matrix function\n",
    "to = TimerOutput()  # Initialize timing\n",
    "println(\"=== POCS with Dykstra ===\")\n",
    "\n",
    "@timeit to \"POCS with Dykstra\" begin\n",
    "    result, iterations = nearest_corr_dykstra(A_symm)\n",
    "end\n",
    "\n",
    "show(to)\n",
    "\n",
    "# Verify the result is PSD\n",
    "min_eigenval = minimum(eigen(Symmetric(result)).values)\n",
    "println(\"\")\n",
    "println(\"Minimum Eigenvalue after projection: \", min_eigenval)\n",
    "result"
   ]
  },
  {
   "cell_type": "code",
   "execution_count": 102,
   "id": "5a126534-48f9-4f53-8f89-96aeac2c6966",
   "metadata": {},
   "outputs": [
    {
     "data": {
      "text/plain": [
       "4"
      ]
     },
     "execution_count": 102,
     "metadata": {},
     "output_type": "execute_result"
    }
   ],
   "source": [
    "rank(result)"
   ]
  },
  {
   "cell_type": "code",
   "execution_count": 103,
   "id": "3267d952-a337-41a3-bd22-9fae95094f79",
   "metadata": {},
   "outputs": [
    {
     "name": "stdout",
     "output_type": "stream",
     "text": [
      "2.133729106546587\n"
     ]
    }
   ],
   "source": [
    "# Checking Frobenius norm\n",
    "frobenius_norm = norm(A-result)  \n",
    "println(frobenius_norm)"
   ]
  },
  {
   "cell_type": "code",
   "execution_count": 104,
   "id": "7d1a1a59-df85-4979-bb5c-aa728e437148",
   "metadata": {},
   "outputs": [
    {
     "data": {
      "text/plain": [
       "4-element Vector{Float64}:\n",
       " -5.1203141182831794e-9\n",
       "  0.204427369422255\n",
       "  1.4505423553260148\n",
       "  2.3450302803720415"
      ]
     },
     "execution_count": 104,
     "metadata": {},
     "output_type": "execute_result"
    }
   ],
   "source": [
    "eigvals(result)"
   ]
  },
  {
   "cell_type": "code",
   "execution_count": null,
   "id": "ac4afb13-46e5-431f-a7b8-873f6f6b05a0",
   "metadata": {},
   "outputs": [],
   "source": []
  },
  {
   "cell_type": "code",
   "execution_count": null,
   "id": "323a78e3-f9df-4994-8685-aceff1d27dff",
   "metadata": {},
   "outputs": [],
   "source": []
  },
  {
   "cell_type": "code",
   "execution_count": null,
   "id": "5117b58f-1e4b-4394-8a02-aa0bdbf28834",
   "metadata": {},
   "outputs": [],
   "source": []
  },
  {
   "cell_type": "code",
   "execution_count": null,
   "id": "42ffa2fc-e240-4012-898d-a81caff976f5",
   "metadata": {},
   "outputs": [],
   "source": []
  },
  {
   "cell_type": "code",
   "execution_count": 105,
   "id": "e1dade8d-c0bd-4734-8fa4-d7aa998f36b9",
   "metadata": {},
   "outputs": [
    {
     "data": {
      "text/plain": [
       "4×4 Matrix{Float64}:\n",
       "  2.0  -1.0   0.0   0.0\n",
       " -1.0   2.0  -1.0   0.0\n",
       "  0.0  -1.0   2.0  -1.0\n",
       "  0.0   0.0  -1.0   2.0"
      ]
     },
     "execution_count": 105,
     "metadata": {},
     "output_type": "execute_result"
    }
   ],
   "source": [
    "A = [ 2 -1  0  0;\n",
    "     -1  2 -1  0;\n",
    "      0 -1  2 -1;\n",
    "      0  0 -1  2.0]"
   ]
  },
  {
   "cell_type": "code",
   "execution_count": 106,
   "id": "0b1e6b41-5e30-43a4-a734-a1fed6dd1646",
   "metadata": {},
   "outputs": [
    {
     "data": {
      "text/plain": [
       "4×4 Matrix{Float64}:\n",
       "  1.0       -0.808412   0.191588   0.106775\n",
       " -0.808412   1.0       -0.656233   0.191588\n",
       "  0.191588  -0.656233   1.0       -0.808412\n",
       "  0.106775   0.191588  -0.808412   1.0"
      ]
     },
     "execution_count": 106,
     "metadata": {},
     "output_type": "execute_result"
    }
   ],
   "source": [
    "using NearestCorrelationMatrix\n",
    "online = nearest_cor(A, AlternatingProjections())"
   ]
  },
  {
   "cell_type": "code",
   "execution_count": 107,
   "id": "729f7f65-9815-4b1e-9140-beaec769df7a",
   "metadata": {},
   "outputs": [
    {
     "name": "stdout",
     "output_type": "stream",
     "text": [
      "2.133729108708922\n"
     ]
    }
   ],
   "source": [
    "# Checking Frobenius norm\n",
    "frobenius_norm = norm(A-online)  \n",
    "println(frobenius_norm)"
   ]
  },
  {
   "cell_type": "code",
   "execution_count": 108,
   "id": "9434a471",
   "metadata": {},
   "outputs": [
    {
     "data": {
      "text/plain": [
       "4-element Vector{Float64}:\n",
       " 1.190868213218337e-16\n",
       " 0.20442736920963595\n",
       " 1.4505423539829718\n",
       " 2.345030276807393"
      ]
     },
     "execution_count": 108,
     "metadata": {},
     "output_type": "execute_result"
    }
   ],
   "source": [
    "eigvals(online)"
   ]
  },
  {
   "cell_type": "code",
   "execution_count": 109,
   "id": "3ef650c1-76ab-40cb-9447-279e6fa7b0b5",
   "metadata": {},
   "outputs": [
    {
     "data": {
      "text/plain": [
       "4×4 Symmetric{Float64, Matrix{Float64}}:\n",
       "  1.0       -0.808412   0.191588   0.106775\n",
       " -0.808412   1.0       -0.656233   0.191588\n",
       "  0.191588  -0.656233   1.0       -0.808413\n",
       "  0.106775   0.191588  -0.808413   1.0"
      ]
     },
     "execution_count": 109,
     "metadata": {},
     "output_type": "execute_result"
    }
   ],
   "source": [
    "online2 = nearest_cor(A, Newton())"
   ]
  },
  {
   "cell_type": "code",
   "execution_count": 110,
   "id": "5eeb6852-4dcf-41d9-882c-d8f1f2f0f158",
   "metadata": {},
   "outputs": [
    {
     "name": "stdout",
     "output_type": "stream",
     "text": [
      "2.133729149891114\n"
     ]
    }
   ],
   "source": [
    "# Checking Frobenius norm\n",
    "frobenius_norm = norm(A-online2)  \n",
    "println(frobenius_norm)"
   ]
  },
  {
   "cell_type": "code",
   "execution_count": 111,
   "id": "5ca21e04-548b-4cb4-8f2e-ac326f2c9410",
   "metadata": {},
   "outputs": [
    {
     "data": {
      "text/plain": [
       "4-element Vector{Float64}:\n",
       " 9.751760805732305e-8\n",
       " 0.20442733860482118\n",
       " 1.450542327687486\n",
       " 2.3450302361900848"
      ]
     },
     "execution_count": 111,
     "metadata": {},
     "output_type": "execute_result"
    }
   ],
   "source": [
    "eigvals(online2)"
   ]
  },
  {
   "cell_type": "code",
   "execution_count": 112,
   "id": "d1af0ab5-9c8a-429c-a66e-e7192133fea9",
   "metadata": {},
   "outputs": [
    {
     "data": {
      "text/plain": [
       "4×4 Matrix{Float64}:\n",
       "  1.0          -0.5           1.71771e-16  -2.25514e-16\n",
       " -0.5           1.0          -0.5          -2.10562e-16\n",
       "  1.71771e-16  -0.5           1.0          -0.5\n",
       " -2.25514e-16  -2.10562e-16  -0.5           1.0"
      ]
     },
     "execution_count": 112,
     "metadata": {},
     "output_type": "execute_result"
    }
   ],
   "source": [
    "online3 = nearest_cor(A, DirectProjection())"
   ]
  },
  {
   "cell_type": "code",
   "execution_count": 113,
   "id": "2d4fdd24-6d45-429a-8fa3-736ff500a72e",
   "metadata": {},
   "outputs": [
    {
     "name": "stdout",
     "output_type": "stream",
     "text": [
      "2.345207879911716\n"
     ]
    }
   ],
   "source": [
    "# Checking Frobenius norm\n",
    "frobenius_norm = norm(A-online3)  \n",
    "println(frobenius_norm)"
   ]
  },
  {
   "cell_type": "code",
   "execution_count": 114,
   "id": "609db821-d200-4aa1-8c3a-975301c2f029",
   "metadata": {},
   "outputs": [
    {
     "data": {
      "text/plain": [
       "4-element Vector{Float64}:\n",
       " 0.19098300562505457\n",
       " 0.6909830056250528\n",
       " 1.3090169943749472\n",
       " 1.8090169943749452"
      ]
     },
     "execution_count": 114,
     "metadata": {},
     "output_type": "execute_result"
    }
   ],
   "source": [
    "eigvals(online3)"
   ]
  },
  {
   "cell_type": "code",
   "execution_count": 115,
   "id": "103271e3",
   "metadata": {},
   "outputs": [
    {
     "data": {
      "text/plain": [
       "true"
      ]
     },
     "execution_count": 115,
     "metadata": {},
     "output_type": "execute_result"
    }
   ],
   "source": [
    "issymmetric(online3)"
   ]
  },
  {
   "cell_type": "code",
   "execution_count": 116,
   "id": "df5573e3",
   "metadata": {},
   "outputs": [
    {
     "data": {
      "text/plain": [
       "true"
      ]
     },
     "execution_count": 116,
     "metadata": {},
     "output_type": "execute_result"
    }
   ],
   "source": [
    "isposdef(online3)"
   ]
  },
  {
   "cell_type": "code",
   "execution_count": null,
   "id": "6d20cf01",
   "metadata": {},
   "outputs": [],
   "source": []
  },
  {
   "cell_type": "markdown",
   "id": "c9f3df77-1a98-401d-8be3-fede8ed3ca0f",
   "metadata": {},
   "source": [
    "### Because a correlation matrix is defined as only positive semi-definite, it is possible for an algorithm to converge successfully but still not be useable for other methods such as a cholesky decomposition (common in probability models). Furthermore, the smallest eigenvalues may be negative on the order of machine precision (e.g. -2.2e-16) due to the inherent nature of floating point numbers. If a positive definite matrix is absolutely required, then pass the argument ensure_pd=true to the solver. This will replace the smallest eigenvalues with a small positive value and reconstruct the NCM:"
   ]
  },
  {
   "cell_type": "markdown",
   "id": "d473d5fa-960b-4d24-8985-cfb92a6a7f59",
   "metadata": {},
   "source": [
    "- λ, P = eigen(X)\n",
    "replace(x -> max(x, ϵ), λ)\n",
    "X .= P * Diagonal(λ) * P'\n",
    "cov2cor!(X) # ensure that the transformed matrix is still a correlation matrix\n"
   ]
  },
  {
   "cell_type": "code",
   "execution_count": null,
   "id": "487c9bf3-18b4-425e-8c18-121882614d15",
   "metadata": {},
   "outputs": [],
   "source": []
  },
  {
   "cell_type": "code",
   "execution_count": null,
   "id": "ab5004d9-2235-4da1-aaa0-fd1df6518dad",
   "metadata": {},
   "outputs": [],
   "source": []
  },
  {
   "cell_type": "code",
   "execution_count": null,
   "id": "790c2de8-ecc8-4c3c-97d0-9dee4bcbe19e",
   "metadata": {},
   "outputs": [],
   "source": []
  },
  {
   "cell_type": "code",
   "execution_count": null,
   "id": "da9f65ce-7cbf-4fc3-a698-316c49e899ea",
   "metadata": {},
   "outputs": [],
   "source": []
  },
  {
   "cell_type": "code",
   "execution_count": null,
   "id": "51a4686d-c4e8-41af-8a20-717d91d5bb9b",
   "metadata": {},
   "outputs": [],
   "source": []
  }
 ],
 "metadata": {
  "kernelspec": {
   "display_name": "Julia 1.11.3",
   "language": "julia",
   "name": "julia-1.11"
  },
  "language_info": {
   "file_extension": ".jl",
   "mimetype": "application/julia",
   "name": "julia",
   "version": "1.11.3"
  }
 },
 "nbformat": 4,
 "nbformat_minor": 5
}
